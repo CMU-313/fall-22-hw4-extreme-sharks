{
 "cells": [
  {
   "cell_type": "code",
   "execution_count": 1,
   "metadata": {
    "collapsed": false
   },
   "outputs": [],
   "source": [
    "# Load the model\n",
    "import joblib\n",
    "rf = joblib.load('app/handlers/model.pkl')"
   ]
  },
  {
   "cell_type": "code",
   "execution_count": 2,
   "metadata": {},
   "outputs": [],
   "source": [
    "# Create the pipeline\n",
    "from lime.lime_text import LimeTextExplainer\n",
    "from sklearn.pipeline import make_pipeline\n",
    "c = make_pipeline(rf)"
   ]
  },
  {
   "cell_type": "code",
   "execution_count": 3,
   "metadata": {},
   "outputs": [],
   "source": [
    "# Load the production data\n",
    "import sklearn\n",
    "import pandas as pd\n",
    "import numpy as np\n",
    "df = pd.read_csv('prod.csv', sep=',')\n",
    "df\n",
    "# We chose to remove all attributtes not relevant to the CMU setting.\n",
    "# `school` is specific to the source data set, and the grades are also\n",
    "# not relevant (we keep the last grade to know the expected prediction value)\n",
    "df.drop(columns=['school', 'G1', 'G2'], inplace=True)\n",
    "df\n",
    "\n",
    "df['sex'] = np.where(df['sex'] == 'F', 1, 0)\n",
    "df['address'] = np.where(df['address'] == 'U', 1, 0)\n",
    "df['famsize'] = np.where(df['famsize'] == 'LE3', 1, 0)\n",
    "df['Pstatus'] = np.where(df['Pstatus'] == 'T', 1, 0)\n",
    "\n",
    "for binary_attribute in ['schoolsup', 'famsup', 'paid', 'activities', 'nursery', 'higher', 'internet', 'romantic']:\n",
    "    df[binary_attribute] = np.where(df[binary_attribute] == 'yes', 1, 0)\n",
    "\n",
    "df\n",
    "\n",
    "\n",
    "categories = {\n",
    "    'Mjob': ['teacher', 'health', 'services', 'at_home', 'other'],\n",
    "    'Fjob': ['teacher', 'health', 'services', 'at_home', 'other'],\n",
    "    'reason': ['home', 'reputation', 'course', 'other'],\n",
    "    'guardian': ['mother', 'father', 'other'],\n",
    "}\n",
    "\n",
    "for category in categories:\n",
    "    values = categories[category]\n",
    "    df[category] = df[category].map(values.index)\n",
    "\n",
    "df\n",
    "\n",
    "df['qual_student'] = np.where(df['G3'] >= 15, 1, 0)\n",
    "df.drop(columns=['G3'], inplace=True)\n",
    "\n",
    "df\n",
    "\n",
    "\n",
    "dependent_variable = 'qual_student'\n",
    "x_raw = df[df.columns.difference([dependent_variable])]\n",
    "x = x_raw.to_numpy()\n",
    "y = df[dependent_variable].to_numpy()\n"
   ]
  },
  {
   "cell_type": "code",
   "execution_count": 4,
   "metadata": {},
   "outputs": [],
   "source": [
    "# Create the explainer\n",
    "import lime\n",
    "import lime.lime_tabular\n",
    "\n",
    "explainer = lime.lime_tabular.LimeTabularExplainer(\n",
    "  x,\n",
    "  feature_names=x_raw.columns,\n",
    "  class_names=['not_qualified', 'qualified'],\n",
    "  discretize_continuous=True\n",
    ")"
   ]
  },
  {
   "cell_type": "code",
   "execution_count": 5,
   "metadata": {},
   "outputs": [
    {
     "name": "stdout",
     "output_type": "stream",
     "text": [
      "——————————————————————————————\n",
      "1 / 100\n"
     ]
    },
    {
     "name": "stderr",
     "output_type": "stream",
     "text": [
      "/Users/Nicolas/.local/share/virtualenvs/hw45-V0go0g1U/lib/python3.8/site-packages/sklearn/base.py:450: UserWarning: X does not have valid feature names, but RandomForestClassifier was fitted with feature names\n",
      "  warnings.warn(\n",
      "[Parallel(n_jobs=7)]: Using backend ThreadingBackend with 7 concurrent workers.\n",
      "[Parallel(n_jobs=7)]: Done  36 tasks      | elapsed:    0.0s\n",
      "[Parallel(n_jobs=7)]: Done 186 tasks      | elapsed:    0.0s\n",
      "[Parallel(n_jobs=7)]: Done 436 tasks      | elapsed:    0.1s\n",
      "[Parallel(n_jobs=7)]: Done 786 tasks      | elapsed:    0.1s\n",
      "[Parallel(n_jobs=7)]: Done 1236 tasks      | elapsed:    0.2s\n",
      "[Parallel(n_jobs=7)]: Done 1786 tasks      | elapsed:    0.3s\n",
      "[Parallel(n_jobs=7)]: Done 2436 tasks      | elapsed:    0.5s\n",
      "[Parallel(n_jobs=7)]: Done 3186 tasks      | elapsed:    0.6s\n",
      "[Parallel(n_jobs=7)]: Done 4036 tasks      | elapsed:    0.7s\n",
      "[Parallel(n_jobs=7)]: Done 4986 tasks      | elapsed:    0.9s\n",
      "[Parallel(n_jobs=7)]: Done 6036 tasks      | elapsed:    1.1s\n",
      "[Parallel(n_jobs=7)]: Done 7186 tasks      | elapsed:    1.2s\n",
      "[Parallel(n_jobs=7)]: Done 8436 tasks      | elapsed:    1.5s\n",
      "[Parallel(n_jobs=7)]: Done 9786 tasks      | elapsed:    1.7s\n",
      "[Parallel(n_jobs=7)]: Done 11236 tasks      | elapsed:    1.9s\n",
      "[Parallel(n_jobs=7)]: Done 11750 out of 11750 | elapsed:    2.0s finished\n",
      "/Users/Nicolas/.local/share/virtualenvs/hw45-V0go0g1U/lib/python3.8/site-packages/sklearn/base.py:450: UserWarning: X does not have valid feature names, but RandomForestClassifier was fitted with feature names\n",
      "  warnings.warn(\n",
      "[Parallel(n_jobs=7)]: Using backend ThreadingBackend with 7 concurrent workers.\n",
      "[Parallel(n_jobs=7)]: Done  36 tasks      | elapsed:    0.0s\n"
     ]
    },
    {
     "name": "stdout",
     "output_type": "stream",
     "text": [
      "——————————————————————————————\n",
      "2 / 100\n"
     ]
    },
    {
     "name": "stderr",
     "output_type": "stream",
     "text": [
      "[Parallel(n_jobs=7)]: Done 186 tasks      | elapsed:    0.1s\n",
      "[Parallel(n_jobs=7)]: Done 436 tasks      | elapsed:    0.2s\n",
      "[Parallel(n_jobs=7)]: Done 786 tasks      | elapsed:    0.3s\n",
      "[Parallel(n_jobs=7)]: Done 1236 tasks      | elapsed:    0.4s\n",
      "[Parallel(n_jobs=7)]: Done 1786 tasks      | elapsed:    0.5s\n",
      "[Parallel(n_jobs=7)]: Done 2436 tasks      | elapsed:    0.6s\n",
      "[Parallel(n_jobs=7)]: Done 3186 tasks      | elapsed:    0.7s\n",
      "[Parallel(n_jobs=7)]: Done 4036 tasks      | elapsed:    0.9s\n",
      "[Parallel(n_jobs=7)]: Done 4986 tasks      | elapsed:    1.0s\n",
      "[Parallel(n_jobs=7)]: Done 6036 tasks      | elapsed:    1.2s\n",
      "[Parallel(n_jobs=7)]: Done 7186 tasks      | elapsed:    1.4s\n",
      "[Parallel(n_jobs=7)]: Done 8436 tasks      | elapsed:    1.6s\n",
      "[Parallel(n_jobs=7)]: Done 9786 tasks      | elapsed:    1.9s\n",
      "[Parallel(n_jobs=7)]: Done 11236 tasks      | elapsed:    2.1s\n",
      "[Parallel(n_jobs=7)]: Done 11750 out of 11750 | elapsed:    2.2s finished\n",
      "/Users/Nicolas/.local/share/virtualenvs/hw45-V0go0g1U/lib/python3.8/site-packages/sklearn/base.py:450: UserWarning: X does not have valid feature names, but RandomForestClassifier was fitted with feature names\n",
      "  warnings.warn(\n",
      "[Parallel(n_jobs=7)]: Using backend ThreadingBackend with 7 concurrent workers.\n",
      "[Parallel(n_jobs=7)]: Done  36 tasks      | elapsed:    0.0s\n"
     ]
    },
    {
     "name": "stdout",
     "output_type": "stream",
     "text": [
      "——————————————————————————————\n",
      "3 / 100\n"
     ]
    },
    {
     "name": "stderr",
     "output_type": "stream",
     "text": [
      "[Parallel(n_jobs=7)]: Done 186 tasks      | elapsed:    0.1s\n",
      "[Parallel(n_jobs=7)]: Done 436 tasks      | elapsed:    0.2s\n",
      "[Parallel(n_jobs=7)]: Done 786 tasks      | elapsed:    0.3s\n",
      "[Parallel(n_jobs=7)]: Done 1236 tasks      | elapsed:    0.4s\n",
      "[Parallel(n_jobs=7)]: Done 1786 tasks      | elapsed:    0.4s\n",
      "[Parallel(n_jobs=7)]: Done 2436 tasks      | elapsed:    0.6s\n",
      "[Parallel(n_jobs=7)]: Done 3186 tasks      | elapsed:    0.8s\n",
      "[Parallel(n_jobs=7)]: Done 4036 tasks      | elapsed:    0.9s\n",
      "[Parallel(n_jobs=7)]: Done 4986 tasks      | elapsed:    1.1s\n",
      "[Parallel(n_jobs=7)]: Done 6036 tasks      | elapsed:    1.2s\n",
      "[Parallel(n_jobs=7)]: Done 7186 tasks      | elapsed:    1.4s\n",
      "[Parallel(n_jobs=7)]: Done 8436 tasks      | elapsed:    1.6s\n",
      "[Parallel(n_jobs=7)]: Done 9786 tasks      | elapsed:    1.8s\n",
      "[Parallel(n_jobs=7)]: Done 11236 tasks      | elapsed:    2.1s\n",
      "[Parallel(n_jobs=7)]: Done 11750 out of 11750 | elapsed:    2.1s finished\n",
      "/Users/Nicolas/.local/share/virtualenvs/hw45-V0go0g1U/lib/python3.8/site-packages/sklearn/base.py:450: UserWarning: X does not have valid feature names, but RandomForestClassifier was fitted with feature names\n",
      "  warnings.warn(\n",
      "[Parallel(n_jobs=7)]: Using backend ThreadingBackend with 7 concurrent workers.\n"
     ]
    },
    {
     "name": "stdout",
     "output_type": "stream",
     "text": [
      "——————————————————————————————\n",
      "4 / 100\n"
     ]
    },
    {
     "name": "stderr",
     "output_type": "stream",
     "text": [
      "[Parallel(n_jobs=7)]: Done  36 tasks      | elapsed:    0.0s\n",
      "[Parallel(n_jobs=7)]: Done 186 tasks      | elapsed:    0.1s\n",
      "[Parallel(n_jobs=7)]: Done 436 tasks      | elapsed:    0.2s\n",
      "[Parallel(n_jobs=7)]: Done 786 tasks      | elapsed:    0.3s\n",
      "[Parallel(n_jobs=7)]: Done 1236 tasks      | elapsed:    0.4s\n",
      "[Parallel(n_jobs=7)]: Done 1786 tasks      | elapsed:    0.5s\n",
      "[Parallel(n_jobs=7)]: Done 2436 tasks      | elapsed:    0.6s\n",
      "[Parallel(n_jobs=7)]: Done 3186 tasks      | elapsed:    0.7s\n",
      "[Parallel(n_jobs=7)]: Done 4036 tasks      | elapsed:    0.8s\n",
      "[Parallel(n_jobs=7)]: Done 4986 tasks      | elapsed:    0.9s\n",
      "[Parallel(n_jobs=7)]: Done 6036 tasks      | elapsed:    1.1s\n",
      "[Parallel(n_jobs=7)]: Done 7186 tasks      | elapsed:    1.3s\n",
      "[Parallel(n_jobs=7)]: Done 8436 tasks      | elapsed:    1.5s\n",
      "[Parallel(n_jobs=7)]: Done 9786 tasks      | elapsed:    1.7s\n",
      "[Parallel(n_jobs=7)]: Done 11236 tasks      | elapsed:    2.0s\n",
      "[Parallel(n_jobs=7)]: Done 11750 out of 11750 | elapsed:    2.0s finished\n",
      "/Users/Nicolas/.local/share/virtualenvs/hw45-V0go0g1U/lib/python3.8/site-packages/sklearn/base.py:450: UserWarning: X does not have valid feature names, but RandomForestClassifier was fitted with feature names\n",
      "  warnings.warn(\n",
      "[Parallel(n_jobs=7)]: Using backend ThreadingBackend with 7 concurrent workers.\n",
      "[Parallel(n_jobs=7)]: Done  36 tasks      | elapsed:    0.0s\n"
     ]
    },
    {
     "name": "stdout",
     "output_type": "stream",
     "text": [
      "——————————————————————————————\n",
      "5 / 100\n"
     ]
    },
    {
     "name": "stderr",
     "output_type": "stream",
     "text": [
      "[Parallel(n_jobs=7)]: Done 186 tasks      | elapsed:    0.1s\n",
      "[Parallel(n_jobs=7)]: Done 436 tasks      | elapsed:    0.3s\n",
      "[Parallel(n_jobs=7)]: Done 786 tasks      | elapsed:    0.4s\n",
      "[Parallel(n_jobs=7)]: Done 1236 tasks      | elapsed:    0.5s\n",
      "[Parallel(n_jobs=7)]: Done 1786 tasks      | elapsed:    0.7s\n",
      "[Parallel(n_jobs=7)]: Done 2436 tasks      | elapsed:    0.8s\n",
      "[Parallel(n_jobs=7)]: Done 3186 tasks      | elapsed:    1.0s\n",
      "[Parallel(n_jobs=7)]: Done 4036 tasks      | elapsed:    1.1s\n",
      "[Parallel(n_jobs=7)]: Done 4986 tasks      | elapsed:    1.2s\n",
      "[Parallel(n_jobs=7)]: Done 6036 tasks      | elapsed:    1.4s\n",
      "[Parallel(n_jobs=7)]: Done 7186 tasks      | elapsed:    1.6s\n",
      "[Parallel(n_jobs=7)]: Done 8436 tasks      | elapsed:    1.8s\n",
      "[Parallel(n_jobs=7)]: Done 9786 tasks      | elapsed:    2.0s\n",
      "[Parallel(n_jobs=7)]: Done 11236 tasks      | elapsed:    2.3s\n",
      "[Parallel(n_jobs=7)]: Done 11750 out of 11750 | elapsed:    2.3s finished\n",
      "/Users/Nicolas/.local/share/virtualenvs/hw45-V0go0g1U/lib/python3.8/site-packages/sklearn/base.py:450: UserWarning: X does not have valid feature names, but RandomForestClassifier was fitted with feature names\n",
      "  warnings.warn(\n",
      "[Parallel(n_jobs=7)]: Using backend ThreadingBackend with 7 concurrent workers.\n"
     ]
    },
    {
     "name": "stdout",
     "output_type": "stream",
     "text": [
      "——————————————————————————————\n",
      "6 / 100\n"
     ]
    },
    {
     "name": "stderr",
     "output_type": "stream",
     "text": [
      "[Parallel(n_jobs=7)]: Done  36 tasks      | elapsed:    0.1s\n",
      "[Parallel(n_jobs=7)]: Done 186 tasks      | elapsed:    0.1s\n",
      "[Parallel(n_jobs=7)]: Done 436 tasks      | elapsed:    0.1s\n",
      "[Parallel(n_jobs=7)]: Done 786 tasks      | elapsed:    0.2s\n",
      "[Parallel(n_jobs=7)]: Done 1236 tasks      | elapsed:    0.3s\n",
      "[Parallel(n_jobs=7)]: Done 1786 tasks      | elapsed:    0.4s\n",
      "[Parallel(n_jobs=7)]: Done 2436 tasks      | elapsed:    0.5s\n",
      "[Parallel(n_jobs=7)]: Done 3186 tasks      | elapsed:    0.6s\n",
      "[Parallel(n_jobs=7)]: Done 4036 tasks      | elapsed:    0.8s\n",
      "[Parallel(n_jobs=7)]: Done 4986 tasks      | elapsed:    0.9s\n",
      "[Parallel(n_jobs=7)]: Done 6036 tasks      | elapsed:    1.1s\n",
      "[Parallel(n_jobs=7)]: Done 7186 tasks      | elapsed:    1.3s\n",
      "[Parallel(n_jobs=7)]: Done 8436 tasks      | elapsed:    1.5s\n",
      "[Parallel(n_jobs=7)]: Done 9786 tasks      | elapsed:    1.7s\n",
      "[Parallel(n_jobs=7)]: Done 11236 tasks      | elapsed:    2.0s\n",
      "[Parallel(n_jobs=7)]: Done 11750 out of 11750 | elapsed:    2.1s finished\n",
      "/Users/Nicolas/.local/share/virtualenvs/hw45-V0go0g1U/lib/python3.8/site-packages/sklearn/base.py:450: UserWarning: X does not have valid feature names, but RandomForestClassifier was fitted with feature names\n",
      "  warnings.warn(\n",
      "[Parallel(n_jobs=7)]: Using backend ThreadingBackend with 7 concurrent workers.\n",
      "[Parallel(n_jobs=7)]: Done  36 tasks      | elapsed:    0.0s\n"
     ]
    },
    {
     "name": "stdout",
     "output_type": "stream",
     "text": [
      "——————————————————————————————\n",
      "7 / 100\n"
     ]
    },
    {
     "name": "stderr",
     "output_type": "stream",
     "text": [
      "[Parallel(n_jobs=7)]: Done 186 tasks      | elapsed:    0.0s\n",
      "[Parallel(n_jobs=7)]: Done 436 tasks      | elapsed:    0.1s\n",
      "[Parallel(n_jobs=7)]: Done 786 tasks      | elapsed:    0.1s\n",
      "[Parallel(n_jobs=7)]: Done 1236 tasks      | elapsed:    0.2s\n",
      "[Parallel(n_jobs=7)]: Done 1786 tasks      | elapsed:    0.3s\n",
      "[Parallel(n_jobs=7)]: Done 2436 tasks      | elapsed:    0.4s\n",
      "[Parallel(n_jobs=7)]: Done 3186 tasks      | elapsed:    0.6s\n",
      "[Parallel(n_jobs=7)]: Done 4036 tasks      | elapsed:    0.7s\n",
      "[Parallel(n_jobs=7)]: Done 4986 tasks      | elapsed:    0.9s\n",
      "[Parallel(n_jobs=7)]: Done 6036 tasks      | elapsed:    1.1s\n",
      "[Parallel(n_jobs=7)]: Done 7186 tasks      | elapsed:    1.3s\n",
      "[Parallel(n_jobs=7)]: Done 8436 tasks      | elapsed:    1.5s\n",
      "[Parallel(n_jobs=7)]: Done 9786 tasks      | elapsed:    1.7s\n",
      "[Parallel(n_jobs=7)]: Done 11236 tasks      | elapsed:    1.9s\n",
      "[Parallel(n_jobs=7)]: Done 11750 out of 11750 | elapsed:    2.0s finished\n",
      "/Users/Nicolas/.local/share/virtualenvs/hw45-V0go0g1U/lib/python3.8/site-packages/sklearn/base.py:450: UserWarning: X does not have valid feature names, but RandomForestClassifier was fitted with feature names\n",
      "  warnings.warn(\n",
      "[Parallel(n_jobs=7)]: Using backend ThreadingBackend with 7 concurrent workers.\n",
      "[Parallel(n_jobs=7)]: Done  36 tasks      | elapsed:    0.0s\n",
      "[Parallel(n_jobs=7)]: Done 186 tasks      | elapsed:    0.0s\n"
     ]
    },
    {
     "name": "stdout",
     "output_type": "stream",
     "text": [
      "——————————————————————————————\n",
      "8 / 100\n"
     ]
    },
    {
     "name": "stderr",
     "output_type": "stream",
     "text": [
      "[Parallel(n_jobs=7)]: Done 436 tasks      | elapsed:    0.1s\n",
      "[Parallel(n_jobs=7)]: Done 786 tasks      | elapsed:    0.2s\n",
      "[Parallel(n_jobs=7)]: Done 1236 tasks      | elapsed:    0.3s\n",
      "[Parallel(n_jobs=7)]: Done 1786 tasks      | elapsed:    0.4s\n",
      "[Parallel(n_jobs=7)]: Done 2436 tasks      | elapsed:    0.5s\n",
      "[Parallel(n_jobs=7)]: Done 3186 tasks      | elapsed:    0.6s\n",
      "[Parallel(n_jobs=7)]: Done 4036 tasks      | elapsed:    0.8s\n",
      "[Parallel(n_jobs=7)]: Done 4986 tasks      | elapsed:    0.9s\n",
      "[Parallel(n_jobs=7)]: Done 6036 tasks      | elapsed:    1.1s\n",
      "[Parallel(n_jobs=7)]: Done 7186 tasks      | elapsed:    1.3s\n",
      "[Parallel(n_jobs=7)]: Done 8436 tasks      | elapsed:    1.5s\n",
      "[Parallel(n_jobs=7)]: Done 9786 tasks      | elapsed:    1.7s\n",
      "[Parallel(n_jobs=7)]: Done 11236 tasks      | elapsed:    1.9s\n",
      "[Parallel(n_jobs=7)]: Done 11750 out of 11750 | elapsed:    2.0s finished\n",
      "/Users/Nicolas/.local/share/virtualenvs/hw45-V0go0g1U/lib/python3.8/site-packages/sklearn/base.py:450: UserWarning: X does not have valid feature names, but RandomForestClassifier was fitted with feature names\n",
      "  warnings.warn(\n",
      "[Parallel(n_jobs=7)]: Using backend ThreadingBackend with 7 concurrent workers.\n"
     ]
    },
    {
     "name": "stdout",
     "output_type": "stream",
     "text": [
      "——————————————————————————————\n",
      "9 / 100\n"
     ]
    },
    {
     "name": "stderr",
     "output_type": "stream",
     "text": [
      "[Parallel(n_jobs=7)]: Done  36 tasks      | elapsed:    0.1s\n",
      "[Parallel(n_jobs=7)]: Done 186 tasks      | elapsed:    0.1s\n",
      "[Parallel(n_jobs=7)]: Done 436 tasks      | elapsed:    0.1s\n",
      "[Parallel(n_jobs=7)]: Done 786 tasks      | elapsed:    0.2s\n",
      "[Parallel(n_jobs=7)]: Done 1236 tasks      | elapsed:    0.3s\n",
      "[Parallel(n_jobs=7)]: Done 1786 tasks      | elapsed:    0.4s\n",
      "[Parallel(n_jobs=7)]: Done 2436 tasks      | elapsed:    0.7s\n",
      "[Parallel(n_jobs=7)]: Done 3186 tasks      | elapsed:    1.0s\n",
      "[Parallel(n_jobs=7)]: Done 4036 tasks      | elapsed:    1.2s\n",
      "[Parallel(n_jobs=7)]: Done 4986 tasks      | elapsed:    1.3s\n",
      "[Parallel(n_jobs=7)]: Done 6036 tasks      | elapsed:    1.5s\n",
      "[Parallel(n_jobs=7)]: Done 7186 tasks      | elapsed:    1.7s\n",
      "[Parallel(n_jobs=7)]: Done 8436 tasks      | elapsed:    1.9s\n",
      "[Parallel(n_jobs=7)]: Done 9786 tasks      | elapsed:    2.1s\n",
      "[Parallel(n_jobs=7)]: Done 11236 tasks      | elapsed:    2.4s\n",
      "[Parallel(n_jobs=7)]: Done 11750 out of 11750 | elapsed:    2.5s finished\n",
      "/Users/Nicolas/.local/share/virtualenvs/hw45-V0go0g1U/lib/python3.8/site-packages/sklearn/base.py:450: UserWarning: X does not have valid feature names, but RandomForestClassifier was fitted with feature names\n",
      "  warnings.warn(\n",
      "[Parallel(n_jobs=7)]: Using backend ThreadingBackend with 7 concurrent workers.\n",
      "[Parallel(n_jobs=7)]: Done  36 tasks      | elapsed:    0.0s\n"
     ]
    },
    {
     "name": "stdout",
     "output_type": "stream",
     "text": [
      "——————————————————————————————\n",
      "10 / 100\n"
     ]
    },
    {
     "name": "stderr",
     "output_type": "stream",
     "text": [
      "[Parallel(n_jobs=7)]: Done 186 tasks      | elapsed:    0.1s\n",
      "[Parallel(n_jobs=7)]: Done 436 tasks      | elapsed:    0.2s\n",
      "[Parallel(n_jobs=7)]: Done 786 tasks      | elapsed:    0.3s\n",
      "[Parallel(n_jobs=7)]: Done 1236 tasks      | elapsed:    0.4s\n",
      "[Parallel(n_jobs=7)]: Done 1786 tasks      | elapsed:    0.4s\n",
      "[Parallel(n_jobs=7)]: Done 2436 tasks      | elapsed:    0.5s\n",
      "[Parallel(n_jobs=7)]: Done 3186 tasks      | elapsed:    0.6s\n",
      "[Parallel(n_jobs=7)]: Done 4036 tasks      | elapsed:    0.8s\n",
      "[Parallel(n_jobs=7)]: Done 4986 tasks      | elapsed:    0.9s\n",
      "[Parallel(n_jobs=7)]: Done 6036 tasks      | elapsed:    1.0s\n",
      "[Parallel(n_jobs=7)]: Done 7186 tasks      | elapsed:    1.2s\n",
      "[Parallel(n_jobs=7)]: Done 8436 tasks      | elapsed:    1.4s\n",
      "[Parallel(n_jobs=7)]: Done 9786 tasks      | elapsed:    1.6s\n",
      "[Parallel(n_jobs=7)]: Done 11236 tasks      | elapsed:    1.8s\n",
      "[Parallel(n_jobs=7)]: Done 11750 out of 11750 | elapsed:    1.9s finished\n",
      "/Users/Nicolas/.local/share/virtualenvs/hw45-V0go0g1U/lib/python3.8/site-packages/sklearn/base.py:450: UserWarning: X does not have valid feature names, but RandomForestClassifier was fitted with feature names\n",
      "  warnings.warn(\n",
      "[Parallel(n_jobs=7)]: Using backend ThreadingBackend with 7 concurrent workers.\n",
      "[Parallel(n_jobs=7)]: Done  36 tasks      | elapsed:    0.0s\n"
     ]
    },
    {
     "name": "stdout",
     "output_type": "stream",
     "text": [
      "——————————————————————————————\n",
      "11 / 100\n"
     ]
    },
    {
     "name": "stderr",
     "output_type": "stream",
     "text": [
      "[Parallel(n_jobs=7)]: Done 186 tasks      | elapsed:    0.1s\n",
      "[Parallel(n_jobs=7)]: Done 436 tasks      | elapsed:    0.2s\n",
      "[Parallel(n_jobs=7)]: Done 786 tasks      | elapsed:    0.3s\n",
      "[Parallel(n_jobs=7)]: Done 1236 tasks      | elapsed:    0.4s\n",
      "[Parallel(n_jobs=7)]: Done 1786 tasks      | elapsed:    0.4s\n",
      "[Parallel(n_jobs=7)]: Done 2436 tasks      | elapsed:    0.5s\n",
      "[Parallel(n_jobs=7)]: Done 3186 tasks      | elapsed:    0.7s\n",
      "[Parallel(n_jobs=7)]: Done 4036 tasks      | elapsed:    0.8s\n",
      "[Parallel(n_jobs=7)]: Done 4986 tasks      | elapsed:    0.9s\n",
      "[Parallel(n_jobs=7)]: Done 6036 tasks      | elapsed:    1.1s\n",
      "[Parallel(n_jobs=7)]: Done 7186 tasks      | elapsed:    1.3s\n",
      "[Parallel(n_jobs=7)]: Done 8436 tasks      | elapsed:    1.5s\n",
      "[Parallel(n_jobs=7)]: Done 9786 tasks      | elapsed:    1.7s\n",
      "[Parallel(n_jobs=7)]: Done 11236 tasks      | elapsed:    1.9s\n",
      "[Parallel(n_jobs=7)]: Done 11750 out of 11750 | elapsed:    1.9s finished\n",
      "/Users/Nicolas/.local/share/virtualenvs/hw45-V0go0g1U/lib/python3.8/site-packages/sklearn/base.py:450: UserWarning: X does not have valid feature names, but RandomForestClassifier was fitted with feature names\n",
      "  warnings.warn(\n",
      "[Parallel(n_jobs=7)]: Using backend ThreadingBackend with 7 concurrent workers.\n",
      "[Parallel(n_jobs=7)]: Done  36 tasks      | elapsed:    0.0s\n"
     ]
    },
    {
     "name": "stdout",
     "output_type": "stream",
     "text": [
      "——————————————————————————————\n",
      "12 / 100\n"
     ]
    },
    {
     "name": "stderr",
     "output_type": "stream",
     "text": [
      "[Parallel(n_jobs=7)]: Done 186 tasks      | elapsed:    0.1s\n",
      "[Parallel(n_jobs=7)]: Done 436 tasks      | elapsed:    0.3s\n",
      "[Parallel(n_jobs=7)]: Done 786 tasks      | elapsed:    0.3s\n",
      "[Parallel(n_jobs=7)]: Done 1236 tasks      | elapsed:    0.4s\n",
      "[Parallel(n_jobs=7)]: Done 1786 tasks      | elapsed:    0.5s\n",
      "[Parallel(n_jobs=7)]: Done 2436 tasks      | elapsed:    0.6s\n",
      "[Parallel(n_jobs=7)]: Done 3186 tasks      | elapsed:    0.7s\n",
      "[Parallel(n_jobs=7)]: Done 4036 tasks      | elapsed:    0.9s\n",
      "[Parallel(n_jobs=7)]: Done 4986 tasks      | elapsed:    1.0s\n",
      "[Parallel(n_jobs=7)]: Done 6036 tasks      | elapsed:    1.2s\n",
      "[Parallel(n_jobs=7)]: Done 7186 tasks      | elapsed:    1.4s\n",
      "[Parallel(n_jobs=7)]: Done 8436 tasks      | elapsed:    1.6s\n",
      "[Parallel(n_jobs=7)]: Done 9786 tasks      | elapsed:    1.8s\n",
      "[Parallel(n_jobs=7)]: Done 11236 tasks      | elapsed:    2.0s\n",
      "[Parallel(n_jobs=7)]: Done 11750 out of 11750 | elapsed:    2.1s finished\n",
      "/Users/Nicolas/.local/share/virtualenvs/hw45-V0go0g1U/lib/python3.8/site-packages/sklearn/base.py:450: UserWarning: X does not have valid feature names, but RandomForestClassifier was fitted with feature names\n",
      "  warnings.warn(\n",
      "[Parallel(n_jobs=7)]: Using backend ThreadingBackend with 7 concurrent workers.\n",
      "[Parallel(n_jobs=7)]: Done  36 tasks      | elapsed:    0.0s\n"
     ]
    },
    {
     "name": "stdout",
     "output_type": "stream",
     "text": [
      "——————————————————————————————\n",
      "13 / 100\n"
     ]
    },
    {
     "name": "stderr",
     "output_type": "stream",
     "text": [
      "[Parallel(n_jobs=7)]: Done 186 tasks      | elapsed:    0.1s\n",
      "[Parallel(n_jobs=7)]: Done 436 tasks      | elapsed:    0.2s\n",
      "[Parallel(n_jobs=7)]: Done 786 tasks      | elapsed:    0.3s\n",
      "[Parallel(n_jobs=7)]: Done 1236 tasks      | elapsed:    0.4s\n",
      "[Parallel(n_jobs=7)]: Done 1786 tasks      | elapsed:    0.5s\n",
      "[Parallel(n_jobs=7)]: Done 2436 tasks      | elapsed:    0.5s\n",
      "[Parallel(n_jobs=7)]: Done 3186 tasks      | elapsed:    0.7s\n",
      "[Parallel(n_jobs=7)]: Done 4036 tasks      | elapsed:    0.8s\n",
      "[Parallel(n_jobs=7)]: Done 4986 tasks      | elapsed:    1.0s\n",
      "[Parallel(n_jobs=7)]: Done 6036 tasks      | elapsed:    1.1s\n",
      "[Parallel(n_jobs=7)]: Done 7186 tasks      | elapsed:    1.3s\n",
      "[Parallel(n_jobs=7)]: Done 8436 tasks      | elapsed:    1.5s\n",
      "[Parallel(n_jobs=7)]: Done 9786 tasks      | elapsed:    1.7s\n",
      "[Parallel(n_jobs=7)]: Done 11236 tasks      | elapsed:    1.9s\n",
      "[Parallel(n_jobs=7)]: Done 11750 out of 11750 | elapsed:    2.0s finished\n",
      "/Users/Nicolas/.local/share/virtualenvs/hw45-V0go0g1U/lib/python3.8/site-packages/sklearn/base.py:450: UserWarning: X does not have valid feature names, but RandomForestClassifier was fitted with feature names\n",
      "  warnings.warn(\n",
      "[Parallel(n_jobs=7)]: Using backend ThreadingBackend with 7 concurrent workers.\n",
      "[Parallel(n_jobs=7)]: Done  36 tasks      | elapsed:    0.0s\n"
     ]
    },
    {
     "name": "stdout",
     "output_type": "stream",
     "text": [
      "——————————————————————————————\n",
      "14 / 100\n"
     ]
    },
    {
     "name": "stderr",
     "output_type": "stream",
     "text": [
      "[Parallel(n_jobs=7)]: Done 186 tasks      | elapsed:    0.1s\n",
      "[Parallel(n_jobs=7)]: Done 436 tasks      | elapsed:    0.2s\n",
      "[Parallel(n_jobs=7)]: Done 786 tasks      | elapsed:    0.3s\n",
      "[Parallel(n_jobs=7)]: Done 1236 tasks      | elapsed:    0.4s\n",
      "[Parallel(n_jobs=7)]: Done 1786 tasks      | elapsed:    0.5s\n",
      "[Parallel(n_jobs=7)]: Done 2436 tasks      | elapsed:    0.6s\n",
      "[Parallel(n_jobs=7)]: Done 3186 tasks      | elapsed:    0.7s\n",
      "[Parallel(n_jobs=7)]: Done 4036 tasks      | elapsed:    0.8s\n",
      "[Parallel(n_jobs=7)]: Done 4986 tasks      | elapsed:    1.0s\n",
      "[Parallel(n_jobs=7)]: Done 6036 tasks      | elapsed:    1.1s\n",
      "[Parallel(n_jobs=7)]: Done 7186 tasks      | elapsed:    1.3s\n",
      "[Parallel(n_jobs=7)]: Done 8436 tasks      | elapsed:    1.5s\n",
      "[Parallel(n_jobs=7)]: Done 9786 tasks      | elapsed:    1.7s\n",
      "[Parallel(n_jobs=7)]: Done 11236 tasks      | elapsed:    2.0s\n",
      "[Parallel(n_jobs=7)]: Done 11750 out of 11750 | elapsed:    2.0s finished\n",
      "/Users/Nicolas/.local/share/virtualenvs/hw45-V0go0g1U/lib/python3.8/site-packages/sklearn/base.py:450: UserWarning: X does not have valid feature names, but RandomForestClassifier was fitted with feature names\n",
      "  warnings.warn(\n",
      "[Parallel(n_jobs=7)]: Using backend ThreadingBackend with 7 concurrent workers.\n",
      "[Parallel(n_jobs=7)]: Done  36 tasks      | elapsed:    0.0s\n"
     ]
    },
    {
     "name": "stdout",
     "output_type": "stream",
     "text": [
      "——————————————————————————————\n",
      "15 / 100\n"
     ]
    },
    {
     "name": "stderr",
     "output_type": "stream",
     "text": [
      "[Parallel(n_jobs=7)]: Done 186 tasks      | elapsed:    0.1s\n",
      "[Parallel(n_jobs=7)]: Done 436 tasks      | elapsed:    0.2s\n",
      "[Parallel(n_jobs=7)]: Done 786 tasks      | elapsed:    0.3s\n",
      "[Parallel(n_jobs=7)]: Done 1236 tasks      | elapsed:    0.4s\n",
      "[Parallel(n_jobs=7)]: Done 1786 tasks      | elapsed:    0.5s\n",
      "[Parallel(n_jobs=7)]: Done 2436 tasks      | elapsed:    0.5s\n",
      "[Parallel(n_jobs=7)]: Done 3186 tasks      | elapsed:    0.7s\n",
      "[Parallel(n_jobs=7)]: Done 4036 tasks      | elapsed:    0.8s\n",
      "[Parallel(n_jobs=7)]: Done 4986 tasks      | elapsed:    0.9s\n",
      "[Parallel(n_jobs=7)]: Done 6036 tasks      | elapsed:    1.1s\n",
      "[Parallel(n_jobs=7)]: Done 7186 tasks      | elapsed:    1.3s\n",
      "[Parallel(n_jobs=7)]: Done 8436 tasks      | elapsed:    1.5s\n",
      "[Parallel(n_jobs=7)]: Done 9786 tasks      | elapsed:    1.7s\n",
      "[Parallel(n_jobs=7)]: Done 11236 tasks      | elapsed:    1.9s\n",
      "[Parallel(n_jobs=7)]: Done 11750 out of 11750 | elapsed:    2.0s finished\n",
      "/Users/Nicolas/.local/share/virtualenvs/hw45-V0go0g1U/lib/python3.8/site-packages/sklearn/base.py:450: UserWarning: X does not have valid feature names, but RandomForestClassifier was fitted with feature names\n",
      "  warnings.warn(\n",
      "[Parallel(n_jobs=7)]: Using backend ThreadingBackend with 7 concurrent workers.\n",
      "[Parallel(n_jobs=7)]: Done  36 tasks      | elapsed:    0.0s\n"
     ]
    },
    {
     "name": "stdout",
     "output_type": "stream",
     "text": [
      "——————————————————————————————\n",
      "16 / 100\n"
     ]
    },
    {
     "name": "stderr",
     "output_type": "stream",
     "text": [
      "[Parallel(n_jobs=7)]: Done 186 tasks      | elapsed:    0.1s\n",
      "[Parallel(n_jobs=7)]: Done 436 tasks      | elapsed:    0.2s\n",
      "[Parallel(n_jobs=7)]: Done 786 tasks      | elapsed:    0.3s\n",
      "[Parallel(n_jobs=7)]: Done 1236 tasks      | elapsed:    0.4s\n",
      "[Parallel(n_jobs=7)]: Done 1786 tasks      | elapsed:    0.4s\n",
      "[Parallel(n_jobs=7)]: Done 2436 tasks      | elapsed:    0.6s\n",
      "[Parallel(n_jobs=7)]: Done 3186 tasks      | elapsed:    0.7s\n",
      "[Parallel(n_jobs=7)]: Done 4036 tasks      | elapsed:    0.8s\n",
      "[Parallel(n_jobs=7)]: Done 4986 tasks      | elapsed:    0.9s\n",
      "[Parallel(n_jobs=7)]: Done 6036 tasks      | elapsed:    1.1s\n",
      "[Parallel(n_jobs=7)]: Done 7186 tasks      | elapsed:    1.2s\n",
      "[Parallel(n_jobs=7)]: Done 8436 tasks      | elapsed:    1.4s\n",
      "[Parallel(n_jobs=7)]: Done 9786 tasks      | elapsed:    1.6s\n",
      "[Parallel(n_jobs=7)]: Done 11236 tasks      | elapsed:    1.8s\n",
      "[Parallel(n_jobs=7)]: Done 11750 out of 11750 | elapsed:    1.9s finished\n",
      "/Users/Nicolas/.local/share/virtualenvs/hw45-V0go0g1U/lib/python3.8/site-packages/sklearn/base.py:450: UserWarning: X does not have valid feature names, but RandomForestClassifier was fitted with feature names\n",
      "  warnings.warn(\n",
      "[Parallel(n_jobs=7)]: Using backend ThreadingBackend with 7 concurrent workers.\n",
      "[Parallel(n_jobs=7)]: Done  36 tasks      | elapsed:    0.0s\n"
     ]
    },
    {
     "name": "stdout",
     "output_type": "stream",
     "text": [
      "——————————————————————————————\n",
      "17 / 100\n"
     ]
    },
    {
     "name": "stderr",
     "output_type": "stream",
     "text": [
      "[Parallel(n_jobs=7)]: Done 186 tasks      | elapsed:    0.1s\n",
      "[Parallel(n_jobs=7)]: Done 436 tasks      | elapsed:    0.2s\n",
      "[Parallel(n_jobs=7)]: Done 786 tasks      | elapsed:    0.3s\n",
      "[Parallel(n_jobs=7)]: Done 1236 tasks      | elapsed:    0.4s\n",
      "[Parallel(n_jobs=7)]: Done 1786 tasks      | elapsed:    0.5s\n",
      "[Parallel(n_jobs=7)]: Done 2436 tasks      | elapsed:    0.5s\n",
      "[Parallel(n_jobs=7)]: Done 3186 tasks      | elapsed:    0.7s\n",
      "[Parallel(n_jobs=7)]: Done 4036 tasks      | elapsed:    0.8s\n",
      "[Parallel(n_jobs=7)]: Done 4986 tasks      | elapsed:    1.0s\n",
      "[Parallel(n_jobs=7)]: Done 6036 tasks      | elapsed:    1.2s\n",
      "[Parallel(n_jobs=7)]: Done 7186 tasks      | elapsed:    1.4s\n",
      "[Parallel(n_jobs=7)]: Done 8436 tasks      | elapsed:    1.6s\n",
      "[Parallel(n_jobs=7)]: Done 9786 tasks      | elapsed:    1.8s\n",
      "[Parallel(n_jobs=7)]: Done 11236 tasks      | elapsed:    2.0s\n",
      "[Parallel(n_jobs=7)]: Done 11750 out of 11750 | elapsed:    2.1s finished\n",
      "/Users/Nicolas/.local/share/virtualenvs/hw45-V0go0g1U/lib/python3.8/site-packages/sklearn/base.py:450: UserWarning: X does not have valid feature names, but RandomForestClassifier was fitted with feature names\n",
      "  warnings.warn(\n",
      "[Parallel(n_jobs=7)]: Using backend ThreadingBackend with 7 concurrent workers.\n",
      "[Parallel(n_jobs=7)]: Done  36 tasks      | elapsed:    0.0s\n"
     ]
    },
    {
     "name": "stdout",
     "output_type": "stream",
     "text": [
      "——————————————————————————————\n",
      "18 / 100\n"
     ]
    },
    {
     "name": "stderr",
     "output_type": "stream",
     "text": [
      "[Parallel(n_jobs=7)]: Done 186 tasks      | elapsed:    0.1s\n",
      "[Parallel(n_jobs=7)]: Done 436 tasks      | elapsed:    0.2s\n",
      "[Parallel(n_jobs=7)]: Done 786 tasks      | elapsed:    0.3s\n",
      "[Parallel(n_jobs=7)]: Done 1236 tasks      | elapsed:    0.4s\n",
      "[Parallel(n_jobs=7)]: Done 1786 tasks      | elapsed:    0.5s\n",
      "[Parallel(n_jobs=7)]: Done 2436 tasks      | elapsed:    0.6s\n",
      "[Parallel(n_jobs=7)]: Done 3186 tasks      | elapsed:    0.7s\n",
      "[Parallel(n_jobs=7)]: Done 4036 tasks      | elapsed:    0.8s\n",
      "[Parallel(n_jobs=7)]: Done 4986 tasks      | elapsed:    1.0s\n",
      "[Parallel(n_jobs=7)]: Done 6036 tasks      | elapsed:    1.2s\n",
      "[Parallel(n_jobs=7)]: Done 7186 tasks      | elapsed:    1.4s\n",
      "[Parallel(n_jobs=7)]: Done 8436 tasks      | elapsed:    1.6s\n",
      "[Parallel(n_jobs=7)]: Done 9786 tasks      | elapsed:    1.8s\n",
      "[Parallel(n_jobs=7)]: Done 11236 tasks      | elapsed:    2.0s\n",
      "[Parallel(n_jobs=7)]: Done 11750 out of 11750 | elapsed:    2.1s finished\n",
      "/Users/Nicolas/.local/share/virtualenvs/hw45-V0go0g1U/lib/python3.8/site-packages/sklearn/base.py:450: UserWarning: X does not have valid feature names, but RandomForestClassifier was fitted with feature names\n",
      "  warnings.warn(\n",
      "[Parallel(n_jobs=7)]: Using backend ThreadingBackend with 7 concurrent workers.\n",
      "[Parallel(n_jobs=7)]: Done  36 tasks      | elapsed:    0.0s\n"
     ]
    },
    {
     "name": "stdout",
     "output_type": "stream",
     "text": [
      "——————————————————————————————\n",
      "19 / 100\n"
     ]
    },
    {
     "name": "stderr",
     "output_type": "stream",
     "text": [
      "[Parallel(n_jobs=7)]: Done 186 tasks      | elapsed:    0.1s\n",
      "[Parallel(n_jobs=7)]: Done 436 tasks      | elapsed:    0.2s\n",
      "[Parallel(n_jobs=7)]: Done 786 tasks      | elapsed:    0.3s\n",
      "[Parallel(n_jobs=7)]: Done 1236 tasks      | elapsed:    0.4s\n",
      "[Parallel(n_jobs=7)]: Done 1786 tasks      | elapsed:    0.5s\n",
      "[Parallel(n_jobs=7)]: Done 2436 tasks      | elapsed:    0.6s\n",
      "[Parallel(n_jobs=7)]: Done 3186 tasks      | elapsed:    0.7s\n",
      "[Parallel(n_jobs=7)]: Done 4036 tasks      | elapsed:    0.8s\n",
      "[Parallel(n_jobs=7)]: Done 4986 tasks      | elapsed:    1.0s\n",
      "[Parallel(n_jobs=7)]: Done 6036 tasks      | elapsed:    1.1s\n",
      "[Parallel(n_jobs=7)]: Done 7186 tasks      | elapsed:    1.3s\n",
      "[Parallel(n_jobs=7)]: Done 8436 tasks      | elapsed:    1.5s\n",
      "[Parallel(n_jobs=7)]: Done 9786 tasks      | elapsed:    1.7s\n",
      "[Parallel(n_jobs=7)]: Done 11236 tasks      | elapsed:    2.0s\n",
      "[Parallel(n_jobs=7)]: Done 11750 out of 11750 | elapsed:    2.1s finished\n",
      "/Users/Nicolas/.local/share/virtualenvs/hw45-V0go0g1U/lib/python3.8/site-packages/sklearn/base.py:450: UserWarning: X does not have valid feature names, but RandomForestClassifier was fitted with feature names\n",
      "  warnings.warn(\n",
      "[Parallel(n_jobs=7)]: Using backend ThreadingBackend with 7 concurrent workers.\n",
      "[Parallel(n_jobs=7)]: Done  36 tasks      | elapsed:    0.0s\n"
     ]
    },
    {
     "name": "stdout",
     "output_type": "stream",
     "text": [
      "——————————————————————————————\n",
      "20 / 100\n"
     ]
    },
    {
     "name": "stderr",
     "output_type": "stream",
     "text": [
      "[Parallel(n_jobs=7)]: Done 186 tasks      | elapsed:    0.1s\n",
      "[Parallel(n_jobs=7)]: Done 436 tasks      | elapsed:    0.2s\n",
      "[Parallel(n_jobs=7)]: Done 786 tasks      | elapsed:    0.3s\n",
      "[Parallel(n_jobs=7)]: Done 1236 tasks      | elapsed:    0.4s\n",
      "[Parallel(n_jobs=7)]: Done 1786 tasks      | elapsed:    0.5s\n",
      "[Parallel(n_jobs=7)]: Done 2436 tasks      | elapsed:    0.6s\n",
      "[Parallel(n_jobs=7)]: Done 3186 tasks      | elapsed:    0.7s\n",
      "[Parallel(n_jobs=7)]: Done 4036 tasks      | elapsed:    0.9s\n",
      "[Parallel(n_jobs=7)]: Done 4986 tasks      | elapsed:    1.1s\n",
      "[Parallel(n_jobs=7)]: Done 6036 tasks      | elapsed:    1.2s\n",
      "[Parallel(n_jobs=7)]: Done 7186 tasks      | elapsed:    1.4s\n",
      "[Parallel(n_jobs=7)]: Done 8436 tasks      | elapsed:    1.6s\n",
      "[Parallel(n_jobs=7)]: Done 9786 tasks      | elapsed:    1.8s\n",
      "[Parallel(n_jobs=7)]: Done 11236 tasks      | elapsed:    2.1s\n",
      "[Parallel(n_jobs=7)]: Done 11750 out of 11750 | elapsed:    2.1s finished\n",
      "/Users/Nicolas/.local/share/virtualenvs/hw45-V0go0g1U/lib/python3.8/site-packages/sklearn/base.py:450: UserWarning: X does not have valid feature names, but RandomForestClassifier was fitted with feature names\n",
      "  warnings.warn(\n",
      "[Parallel(n_jobs=7)]: Using backend ThreadingBackend with 7 concurrent workers.\n",
      "[Parallel(n_jobs=7)]: Done  36 tasks      | elapsed:    0.0s\n"
     ]
    },
    {
     "name": "stdout",
     "output_type": "stream",
     "text": [
      "——————————————————————————————\n",
      "21 / 100\n"
     ]
    },
    {
     "name": "stderr",
     "output_type": "stream",
     "text": [
      "[Parallel(n_jobs=7)]: Done 186 tasks      | elapsed:    0.1s\n",
      "[Parallel(n_jobs=7)]: Done 436 tasks      | elapsed:    0.3s\n",
      "[Parallel(n_jobs=7)]: Done 786 tasks      | elapsed:    0.3s\n",
      "[Parallel(n_jobs=7)]: Done 1236 tasks      | elapsed:    0.4s\n",
      "[Parallel(n_jobs=7)]: Done 1786 tasks      | elapsed:    0.5s\n",
      "[Parallel(n_jobs=7)]: Done 2436 tasks      | elapsed:    0.6s\n",
      "[Parallel(n_jobs=7)]: Done 3186 tasks      | elapsed:    0.7s\n",
      "[Parallel(n_jobs=7)]: Done 4036 tasks      | elapsed:    0.8s\n",
      "[Parallel(n_jobs=7)]: Done 4986 tasks      | elapsed:    1.0s\n",
      "[Parallel(n_jobs=7)]: Done 6036 tasks      | elapsed:    1.2s\n",
      "[Parallel(n_jobs=7)]: Done 7186 tasks      | elapsed:    1.3s\n",
      "[Parallel(n_jobs=7)]: Done 8436 tasks      | elapsed:    1.5s\n",
      "[Parallel(n_jobs=7)]: Done 9786 tasks      | elapsed:    1.7s\n",
      "[Parallel(n_jobs=7)]: Done 11236 tasks      | elapsed:    1.9s\n",
      "[Parallel(n_jobs=7)]: Done 11750 out of 11750 | elapsed:    2.0s finished\n",
      "/Users/Nicolas/.local/share/virtualenvs/hw45-V0go0g1U/lib/python3.8/site-packages/sklearn/base.py:450: UserWarning: X does not have valid feature names, but RandomForestClassifier was fitted with feature names\n",
      "  warnings.warn(\n",
      "[Parallel(n_jobs=7)]: Using backend ThreadingBackend with 7 concurrent workers.\n",
      "[Parallel(n_jobs=7)]: Done  36 tasks      | elapsed:    0.0s\n"
     ]
    },
    {
     "name": "stdout",
     "output_type": "stream",
     "text": [
      "——————————————————————————————\n",
      "22 / 100\n"
     ]
    },
    {
     "name": "stderr",
     "output_type": "stream",
     "text": [
      "[Parallel(n_jobs=7)]: Done 186 tasks      | elapsed:    0.1s\n",
      "[Parallel(n_jobs=7)]: Done 436 tasks      | elapsed:    0.2s\n",
      "[Parallel(n_jobs=7)]: Done 786 tasks      | elapsed:    0.3s\n",
      "[Parallel(n_jobs=7)]: Done 1236 tasks      | elapsed:    0.4s\n",
      "[Parallel(n_jobs=7)]: Done 1786 tasks      | elapsed:    0.5s\n",
      "[Parallel(n_jobs=7)]: Done 2436 tasks      | elapsed:    0.6s\n",
      "[Parallel(n_jobs=7)]: Done 3186 tasks      | elapsed:    0.7s\n",
      "[Parallel(n_jobs=7)]: Done 4036 tasks      | elapsed:    0.8s\n",
      "[Parallel(n_jobs=7)]: Done 4986 tasks      | elapsed:    1.0s\n",
      "[Parallel(n_jobs=7)]: Done 6036 tasks      | elapsed:    1.1s\n",
      "[Parallel(n_jobs=7)]: Done 7186 tasks      | elapsed:    1.3s\n",
      "[Parallel(n_jobs=7)]: Done 8436 tasks      | elapsed:    1.5s\n",
      "[Parallel(n_jobs=7)]: Done 9786 tasks      | elapsed:    1.7s\n",
      "[Parallel(n_jobs=7)]: Done 11236 tasks      | elapsed:    1.9s\n",
      "[Parallel(n_jobs=7)]: Done 11750 out of 11750 | elapsed:    2.0s finished\n",
      "/Users/Nicolas/.local/share/virtualenvs/hw45-V0go0g1U/lib/python3.8/site-packages/sklearn/base.py:450: UserWarning: X does not have valid feature names, but RandomForestClassifier was fitted with feature names\n",
      "  warnings.warn(\n",
      "[Parallel(n_jobs=7)]: Using backend ThreadingBackend with 7 concurrent workers.\n",
      "[Parallel(n_jobs=7)]: Done  36 tasks      | elapsed:    0.0s\n"
     ]
    },
    {
     "name": "stdout",
     "output_type": "stream",
     "text": [
      "——————————————————————————————\n",
      "23 / 100\n"
     ]
    },
    {
     "name": "stderr",
     "output_type": "stream",
     "text": [
      "[Parallel(n_jobs=7)]: Done 186 tasks      | elapsed:    0.1s\n",
      "[Parallel(n_jobs=7)]: Done 436 tasks      | elapsed:    0.3s\n",
      "[Parallel(n_jobs=7)]: Done 786 tasks      | elapsed:    0.3s\n",
      "[Parallel(n_jobs=7)]: Done 1236 tasks      | elapsed:    0.4s\n",
      "[Parallel(n_jobs=7)]: Done 1786 tasks      | elapsed:    0.5s\n",
      "[Parallel(n_jobs=7)]: Done 2436 tasks      | elapsed:    0.6s\n",
      "[Parallel(n_jobs=7)]: Done 3186 tasks      | elapsed:    0.7s\n",
      "[Parallel(n_jobs=7)]: Done 4036 tasks      | elapsed:    0.8s\n",
      "[Parallel(n_jobs=7)]: Done 4986 tasks      | elapsed:    1.0s\n",
      "[Parallel(n_jobs=7)]: Done 6036 tasks      | elapsed:    1.2s\n",
      "[Parallel(n_jobs=7)]: Done 7186 tasks      | elapsed:    1.3s\n",
      "[Parallel(n_jobs=7)]: Done 8436 tasks      | elapsed:    1.5s\n",
      "[Parallel(n_jobs=7)]: Done 9786 tasks      | elapsed:    1.8s\n",
      "[Parallel(n_jobs=7)]: Done 11236 tasks      | elapsed:    2.0s\n",
      "[Parallel(n_jobs=7)]: Done 11750 out of 11750 | elapsed:    2.1s finished\n",
      "/Users/Nicolas/.local/share/virtualenvs/hw45-V0go0g1U/lib/python3.8/site-packages/sklearn/base.py:450: UserWarning: X does not have valid feature names, but RandomForestClassifier was fitted with feature names\n",
      "  warnings.warn(\n",
      "[Parallel(n_jobs=7)]: Using backend ThreadingBackend with 7 concurrent workers.\n",
      "[Parallel(n_jobs=7)]: Done  36 tasks      | elapsed:    0.1s\n"
     ]
    },
    {
     "name": "stdout",
     "output_type": "stream",
     "text": [
      "——————————————————————————————\n",
      "24 / 100\n"
     ]
    },
    {
     "name": "stderr",
     "output_type": "stream",
     "text": [
      "[Parallel(n_jobs=7)]: Done 186 tasks      | elapsed:    0.2s\n",
      "[Parallel(n_jobs=7)]: Done 436 tasks      | elapsed:    0.3s\n",
      "[Parallel(n_jobs=7)]: Done 786 tasks      | elapsed:    0.3s\n",
      "[Parallel(n_jobs=7)]: Done 1236 tasks      | elapsed:    0.4s\n",
      "[Parallel(n_jobs=7)]: Done 1786 tasks      | elapsed:    0.5s\n",
      "[Parallel(n_jobs=7)]: Done 2436 tasks      | elapsed:    0.6s\n",
      "[Parallel(n_jobs=7)]: Done 3186 tasks      | elapsed:    0.7s\n",
      "[Parallel(n_jobs=7)]: Done 4036 tasks      | elapsed:    0.8s\n",
      "[Parallel(n_jobs=7)]: Done 4986 tasks      | elapsed:    0.9s\n",
      "[Parallel(n_jobs=7)]: Done 6036 tasks      | elapsed:    1.1s\n",
      "[Parallel(n_jobs=7)]: Done 7186 tasks      | elapsed:    1.3s\n",
      "[Parallel(n_jobs=7)]: Done 8436 tasks      | elapsed:    1.5s\n",
      "[Parallel(n_jobs=7)]: Done 9786 tasks      | elapsed:    1.7s\n",
      "[Parallel(n_jobs=7)]: Done 11236 tasks      | elapsed:    1.9s\n",
      "[Parallel(n_jobs=7)]: Done 11750 out of 11750 | elapsed:    2.0s finished\n",
      "/Users/Nicolas/.local/share/virtualenvs/hw45-V0go0g1U/lib/python3.8/site-packages/sklearn/base.py:450: UserWarning: X does not have valid feature names, but RandomForestClassifier was fitted with feature names\n",
      "  warnings.warn(\n",
      "[Parallel(n_jobs=7)]: Using backend ThreadingBackend with 7 concurrent workers.\n",
      "[Parallel(n_jobs=7)]: Done  36 tasks      | elapsed:    0.0s\n"
     ]
    },
    {
     "name": "stdout",
     "output_type": "stream",
     "text": [
      "——————————————————————————————\n",
      "25 / 100\n"
     ]
    },
    {
     "name": "stderr",
     "output_type": "stream",
     "text": [
      "[Parallel(n_jobs=7)]: Done 186 tasks      | elapsed:    0.1s\n",
      "[Parallel(n_jobs=7)]: Done 436 tasks      | elapsed:    0.3s\n",
      "[Parallel(n_jobs=7)]: Done 786 tasks      | elapsed:    0.3s\n",
      "[Parallel(n_jobs=7)]: Done 1236 tasks      | elapsed:    0.4s\n",
      "[Parallel(n_jobs=7)]: Done 1786 tasks      | elapsed:    0.5s\n",
      "[Parallel(n_jobs=7)]: Done 2436 tasks      | elapsed:    0.6s\n",
      "[Parallel(n_jobs=7)]: Done 3186 tasks      | elapsed:    0.7s\n",
      "[Parallel(n_jobs=7)]: Done 4036 tasks      | elapsed:    0.8s\n",
      "[Parallel(n_jobs=7)]: Done 4986 tasks      | elapsed:    1.0s\n",
      "[Parallel(n_jobs=7)]: Done 6036 tasks      | elapsed:    1.2s\n",
      "[Parallel(n_jobs=7)]: Done 7186 tasks      | elapsed:    1.3s\n",
      "[Parallel(n_jobs=7)]: Done 8436 tasks      | elapsed:    1.5s\n",
      "[Parallel(n_jobs=7)]: Done 9786 tasks      | elapsed:    1.7s\n",
      "[Parallel(n_jobs=7)]: Done 11236 tasks      | elapsed:    2.0s\n",
      "[Parallel(n_jobs=7)]: Done 11750 out of 11750 | elapsed:    2.1s finished\n",
      "/Users/Nicolas/.local/share/virtualenvs/hw45-V0go0g1U/lib/python3.8/site-packages/sklearn/base.py:450: UserWarning: X does not have valid feature names, but RandomForestClassifier was fitted with feature names\n",
      "  warnings.warn(\n",
      "[Parallel(n_jobs=7)]: Using backend ThreadingBackend with 7 concurrent workers.\n",
      "[Parallel(n_jobs=7)]: Done  36 tasks      | elapsed:    0.0s\n"
     ]
    },
    {
     "name": "stdout",
     "output_type": "stream",
     "text": [
      "——————————————————————————————\n",
      "26 / 100\n"
     ]
    },
    {
     "name": "stderr",
     "output_type": "stream",
     "text": [
      "[Parallel(n_jobs=7)]: Done 186 tasks      | elapsed:    0.1s\n",
      "[Parallel(n_jobs=7)]: Done 436 tasks      | elapsed:    0.3s\n",
      "[Parallel(n_jobs=7)]: Done 786 tasks      | elapsed:    0.3s\n",
      "[Parallel(n_jobs=7)]: Done 1236 tasks      | elapsed:    0.4s\n",
      "[Parallel(n_jobs=7)]: Done 1786 tasks      | elapsed:    0.5s\n",
      "[Parallel(n_jobs=7)]: Done 2436 tasks      | elapsed:    0.6s\n",
      "[Parallel(n_jobs=7)]: Done 3186 tasks      | elapsed:    0.7s\n",
      "[Parallel(n_jobs=7)]: Done 4036 tasks      | elapsed:    0.8s\n",
      "[Parallel(n_jobs=7)]: Done 4986 tasks      | elapsed:    1.0s\n",
      "[Parallel(n_jobs=7)]: Done 6036 tasks      | elapsed:    1.2s\n",
      "[Parallel(n_jobs=7)]: Done 7186 tasks      | elapsed:    1.3s\n",
      "[Parallel(n_jobs=7)]: Done 8436 tasks      | elapsed:    1.6s\n",
      "[Parallel(n_jobs=7)]: Done 9786 tasks      | elapsed:    1.8s\n",
      "[Parallel(n_jobs=7)]: Done 11236 tasks      | elapsed:    2.0s\n",
      "[Parallel(n_jobs=7)]: Done 11750 out of 11750 | elapsed:    2.1s finished\n",
      "/Users/Nicolas/.local/share/virtualenvs/hw45-V0go0g1U/lib/python3.8/site-packages/sklearn/base.py:450: UserWarning: X does not have valid feature names, but RandomForestClassifier was fitted with feature names\n",
      "  warnings.warn(\n",
      "[Parallel(n_jobs=7)]: Using backend ThreadingBackend with 7 concurrent workers.\n",
      "[Parallel(n_jobs=7)]: Done  36 tasks      | elapsed:    0.0s\n"
     ]
    },
    {
     "name": "stdout",
     "output_type": "stream",
     "text": [
      "——————————————————————————————\n",
      "27 / 100\n"
     ]
    },
    {
     "name": "stderr",
     "output_type": "stream",
     "text": [
      "[Parallel(n_jobs=7)]: Done 186 tasks      | elapsed:    0.1s\n",
      "[Parallel(n_jobs=7)]: Done 436 tasks      | elapsed:    0.2s\n",
      "[Parallel(n_jobs=7)]: Done 786 tasks      | elapsed:    0.3s\n",
      "[Parallel(n_jobs=7)]: Done 1236 tasks      | elapsed:    0.4s\n",
      "[Parallel(n_jobs=7)]: Done 1786 tasks      | elapsed:    0.5s\n",
      "[Parallel(n_jobs=7)]: Done 2436 tasks      | elapsed:    0.5s\n",
      "[Parallel(n_jobs=7)]: Done 3186 tasks      | elapsed:    0.7s\n",
      "[Parallel(n_jobs=7)]: Done 4036 tasks      | elapsed:    0.8s\n",
      "[Parallel(n_jobs=7)]: Done 4986 tasks      | elapsed:    0.9s\n",
      "[Parallel(n_jobs=7)]: Done 6036 tasks      | elapsed:    1.1s\n",
      "[Parallel(n_jobs=7)]: Done 7186 tasks      | elapsed:    1.3s\n",
      "[Parallel(n_jobs=7)]: Done 8436 tasks      | elapsed:    1.5s\n",
      "[Parallel(n_jobs=7)]: Done 9786 tasks      | elapsed:    1.7s\n",
      "[Parallel(n_jobs=7)]: Done 11236 tasks      | elapsed:    1.9s\n",
      "[Parallel(n_jobs=7)]: Done 11750 out of 11750 | elapsed:    2.0s finished\n",
      "/Users/Nicolas/.local/share/virtualenvs/hw45-V0go0g1U/lib/python3.8/site-packages/sklearn/base.py:450: UserWarning: X does not have valid feature names, but RandomForestClassifier was fitted with feature names\n",
      "  warnings.warn(\n",
      "[Parallel(n_jobs=7)]: Using backend ThreadingBackend with 7 concurrent workers.\n",
      "[Parallel(n_jobs=7)]: Done  36 tasks      | elapsed:    0.0s\n"
     ]
    },
    {
     "name": "stdout",
     "output_type": "stream",
     "text": [
      "——————————————————————————————\n",
      "28 / 100\n"
     ]
    },
    {
     "name": "stderr",
     "output_type": "stream",
     "text": [
      "[Parallel(n_jobs=7)]: Done 186 tasks      | elapsed:    0.1s\n",
      "[Parallel(n_jobs=7)]: Done 436 tasks      | elapsed:    0.2s\n",
      "[Parallel(n_jobs=7)]: Done 786 tasks      | elapsed:    0.3s\n",
      "[Parallel(n_jobs=7)]: Done 1236 tasks      | elapsed:    0.4s\n",
      "[Parallel(n_jobs=7)]: Done 1786 tasks      | elapsed:    0.5s\n",
      "[Parallel(n_jobs=7)]: Done 2436 tasks      | elapsed:    0.6s\n",
      "[Parallel(n_jobs=7)]: Done 3186 tasks      | elapsed:    0.7s\n",
      "[Parallel(n_jobs=7)]: Done 4036 tasks      | elapsed:    0.8s\n",
      "[Parallel(n_jobs=7)]: Done 4986 tasks      | elapsed:    1.0s\n",
      "[Parallel(n_jobs=7)]: Done 6036 tasks      | elapsed:    1.2s\n",
      "[Parallel(n_jobs=7)]: Done 7186 tasks      | elapsed:    1.3s\n",
      "[Parallel(n_jobs=7)]: Done 8436 tasks      | elapsed:    1.6s\n",
      "[Parallel(n_jobs=7)]: Done 9786 tasks      | elapsed:    1.8s\n",
      "[Parallel(n_jobs=7)]: Done 11236 tasks      | elapsed:    2.0s\n",
      "[Parallel(n_jobs=7)]: Done 11750 out of 11750 | elapsed:    2.1s finished\n",
      "/Users/Nicolas/.local/share/virtualenvs/hw45-V0go0g1U/lib/python3.8/site-packages/sklearn/base.py:450: UserWarning: X does not have valid feature names, but RandomForestClassifier was fitted with feature names\n",
      "  warnings.warn(\n",
      "[Parallel(n_jobs=7)]: Using backend ThreadingBackend with 7 concurrent workers.\n",
      "[Parallel(n_jobs=7)]: Done  36 tasks      | elapsed:    0.0s\n"
     ]
    },
    {
     "name": "stdout",
     "output_type": "stream",
     "text": [
      "——————————————————————————————\n",
      "29 / 100\n"
     ]
    },
    {
     "name": "stderr",
     "output_type": "stream",
     "text": [
      "[Parallel(n_jobs=7)]: Done 186 tasks      | elapsed:    0.1s\n",
      "[Parallel(n_jobs=7)]: Done 436 tasks      | elapsed:    0.2s\n",
      "[Parallel(n_jobs=7)]: Done 786 tasks      | elapsed:    0.3s\n",
      "[Parallel(n_jobs=7)]: Done 1236 tasks      | elapsed:    0.4s\n",
      "[Parallel(n_jobs=7)]: Done 1786 tasks      | elapsed:    0.5s\n",
      "[Parallel(n_jobs=7)]: Done 2436 tasks      | elapsed:    0.6s\n",
      "[Parallel(n_jobs=7)]: Done 3186 tasks      | elapsed:    0.7s\n",
      "[Parallel(n_jobs=7)]: Done 4036 tasks      | elapsed:    0.8s\n",
      "[Parallel(n_jobs=7)]: Done 4986 tasks      | elapsed:    1.0s\n",
      "[Parallel(n_jobs=7)]: Done 6036 tasks      | elapsed:    1.1s\n",
      "[Parallel(n_jobs=7)]: Done 7186 tasks      | elapsed:    1.3s\n",
      "[Parallel(n_jobs=7)]: Done 8436 tasks      | elapsed:    1.5s\n",
      "[Parallel(n_jobs=7)]: Done 9786 tasks      | elapsed:    1.7s\n",
      "[Parallel(n_jobs=7)]: Done 11236 tasks      | elapsed:    2.0s\n",
      "[Parallel(n_jobs=7)]: Done 11750 out of 11750 | elapsed:    2.1s finished\n",
      "/Users/Nicolas/.local/share/virtualenvs/hw45-V0go0g1U/lib/python3.8/site-packages/sklearn/base.py:450: UserWarning: X does not have valid feature names, but RandomForestClassifier was fitted with feature names\n",
      "  warnings.warn(\n",
      "[Parallel(n_jobs=7)]: Using backend ThreadingBackend with 7 concurrent workers.\n",
      "[Parallel(n_jobs=7)]: Done  36 tasks      | elapsed:    0.0s\n"
     ]
    },
    {
     "name": "stdout",
     "output_type": "stream",
     "text": [
      "——————————————————————————————\n",
      "30 / 100\n"
     ]
    },
    {
     "name": "stderr",
     "output_type": "stream",
     "text": [
      "[Parallel(n_jobs=7)]: Done 186 tasks      | elapsed:    0.1s\n",
      "[Parallel(n_jobs=7)]: Done 436 tasks      | elapsed:    0.2s\n",
      "[Parallel(n_jobs=7)]: Done 786 tasks      | elapsed:    0.3s\n",
      "[Parallel(n_jobs=7)]: Done 1236 tasks      | elapsed:    0.4s\n",
      "[Parallel(n_jobs=7)]: Done 1786 tasks      | elapsed:    0.5s\n",
      "[Parallel(n_jobs=7)]: Done 2436 tasks      | elapsed:    0.6s\n",
      "[Parallel(n_jobs=7)]: Done 3186 tasks      | elapsed:    0.7s\n",
      "[Parallel(n_jobs=7)]: Done 4036 tasks      | elapsed:    0.8s\n",
      "[Parallel(n_jobs=7)]: Done 4986 tasks      | elapsed:    0.9s\n",
      "[Parallel(n_jobs=7)]: Done 6036 tasks      | elapsed:    1.1s\n",
      "[Parallel(n_jobs=7)]: Done 7186 tasks      | elapsed:    1.3s\n",
      "[Parallel(n_jobs=7)]: Done 8436 tasks      | elapsed:    1.5s\n",
      "[Parallel(n_jobs=7)]: Done 9786 tasks      | elapsed:    1.7s\n",
      "[Parallel(n_jobs=7)]: Done 11236 tasks      | elapsed:    1.9s\n",
      "[Parallel(n_jobs=7)]: Done 11750 out of 11750 | elapsed:    2.0s finished\n",
      "/Users/Nicolas/.local/share/virtualenvs/hw45-V0go0g1U/lib/python3.8/site-packages/sklearn/base.py:450: UserWarning: X does not have valid feature names, but RandomForestClassifier was fitted with feature names\n",
      "  warnings.warn(\n",
      "[Parallel(n_jobs=7)]: Using backend ThreadingBackend with 7 concurrent workers.\n",
      "[Parallel(n_jobs=7)]: Done  36 tasks      | elapsed:    0.0s\n"
     ]
    },
    {
     "name": "stdout",
     "output_type": "stream",
     "text": [
      "——————————————————————————————\n",
      "31 / 100\n"
     ]
    },
    {
     "name": "stderr",
     "output_type": "stream",
     "text": [
      "[Parallel(n_jobs=7)]: Done 186 tasks      | elapsed:    0.1s\n",
      "[Parallel(n_jobs=7)]: Done 436 tasks      | elapsed:    0.2s\n",
      "[Parallel(n_jobs=7)]: Done 786 tasks      | elapsed:    0.3s\n",
      "[Parallel(n_jobs=7)]: Done 1236 tasks      | elapsed:    0.4s\n",
      "[Parallel(n_jobs=7)]: Done 1786 tasks      | elapsed:    0.5s\n",
      "[Parallel(n_jobs=7)]: Done 2436 tasks      | elapsed:    0.6s\n",
      "[Parallel(n_jobs=7)]: Done 3186 tasks      | elapsed:    0.7s\n",
      "[Parallel(n_jobs=7)]: Done 4036 tasks      | elapsed:    0.8s\n",
      "[Parallel(n_jobs=7)]: Done 4986 tasks      | elapsed:    1.0s\n",
      "[Parallel(n_jobs=7)]: Done 6036 tasks      | elapsed:    1.1s\n",
      "[Parallel(n_jobs=7)]: Done 7186 tasks      | elapsed:    1.3s\n",
      "[Parallel(n_jobs=7)]: Done 8436 tasks      | elapsed:    1.5s\n",
      "[Parallel(n_jobs=7)]: Done 9786 tasks      | elapsed:    1.7s\n",
      "[Parallel(n_jobs=7)]: Done 11236 tasks      | elapsed:    1.9s\n",
      "[Parallel(n_jobs=7)]: Done 11750 out of 11750 | elapsed:    2.0s finished\n",
      "/Users/Nicolas/.local/share/virtualenvs/hw45-V0go0g1U/lib/python3.8/site-packages/sklearn/base.py:450: UserWarning: X does not have valid feature names, but RandomForestClassifier was fitted with feature names\n",
      "  warnings.warn(\n",
      "[Parallel(n_jobs=7)]: Using backend ThreadingBackend with 7 concurrent workers.\n",
      "[Parallel(n_jobs=7)]: Done  36 tasks      | elapsed:    0.0s\n"
     ]
    },
    {
     "name": "stdout",
     "output_type": "stream",
     "text": [
      "——————————————————————————————\n",
      "32 / 100\n"
     ]
    },
    {
     "name": "stderr",
     "output_type": "stream",
     "text": [
      "[Parallel(n_jobs=7)]: Done 186 tasks      | elapsed:    0.1s\n",
      "[Parallel(n_jobs=7)]: Done 436 tasks      | elapsed:    0.2s\n",
      "[Parallel(n_jobs=7)]: Done 786 tasks      | elapsed:    0.3s\n",
      "[Parallel(n_jobs=7)]: Done 1236 tasks      | elapsed:    0.4s\n",
      "[Parallel(n_jobs=7)]: Done 1786 tasks      | elapsed:    0.5s\n",
      "[Parallel(n_jobs=7)]: Done 2436 tasks      | elapsed:    0.6s\n",
      "[Parallel(n_jobs=7)]: Done 3186 tasks      | elapsed:    0.7s\n",
      "[Parallel(n_jobs=7)]: Done 4036 tasks      | elapsed:    0.8s\n",
      "[Parallel(n_jobs=7)]: Done 4986 tasks      | elapsed:    1.0s\n",
      "[Parallel(n_jobs=7)]: Done 6036 tasks      | elapsed:    1.1s\n",
      "[Parallel(n_jobs=7)]: Done 7186 tasks      | elapsed:    1.3s\n",
      "[Parallel(n_jobs=7)]: Done 8436 tasks      | elapsed:    1.5s\n",
      "[Parallel(n_jobs=7)]: Done 9786 tasks      | elapsed:    1.7s\n",
      "[Parallel(n_jobs=7)]: Done 11236 tasks      | elapsed:    1.9s\n",
      "[Parallel(n_jobs=7)]: Done 11750 out of 11750 | elapsed:    2.0s finished\n",
      "/Users/Nicolas/.local/share/virtualenvs/hw45-V0go0g1U/lib/python3.8/site-packages/sklearn/base.py:450: UserWarning: X does not have valid feature names, but RandomForestClassifier was fitted with feature names\n",
      "  warnings.warn(\n",
      "[Parallel(n_jobs=7)]: Using backend ThreadingBackend with 7 concurrent workers.\n",
      "[Parallel(n_jobs=7)]: Done  36 tasks      | elapsed:    0.0s\n"
     ]
    },
    {
     "name": "stdout",
     "output_type": "stream",
     "text": [
      "——————————————————————————————\n",
      "33 / 100\n"
     ]
    },
    {
     "name": "stderr",
     "output_type": "stream",
     "text": [
      "[Parallel(n_jobs=7)]: Done 186 tasks      | elapsed:    0.1s\n",
      "[Parallel(n_jobs=7)]: Done 436 tasks      | elapsed:    0.3s\n",
      "[Parallel(n_jobs=7)]: Done 786 tasks      | elapsed:    0.3s\n",
      "[Parallel(n_jobs=7)]: Done 1236 tasks      | elapsed:    0.4s\n",
      "[Parallel(n_jobs=7)]: Done 1786 tasks      | elapsed:    0.5s\n",
      "[Parallel(n_jobs=7)]: Done 2436 tasks      | elapsed:    0.6s\n",
      "[Parallel(n_jobs=7)]: Done 3186 tasks      | elapsed:    0.7s\n",
      "[Parallel(n_jobs=7)]: Done 4036 tasks      | elapsed:    0.8s\n",
      "[Parallel(n_jobs=7)]: Done 4986 tasks      | elapsed:    1.0s\n",
      "[Parallel(n_jobs=7)]: Done 6036 tasks      | elapsed:    1.1s\n",
      "[Parallel(n_jobs=7)]: Done 7186 tasks      | elapsed:    1.3s\n",
      "[Parallel(n_jobs=7)]: Done 8436 tasks      | elapsed:    1.5s\n",
      "[Parallel(n_jobs=7)]: Done 9786 tasks      | elapsed:    1.7s\n",
      "[Parallel(n_jobs=7)]: Done 11236 tasks      | elapsed:    1.9s\n",
      "[Parallel(n_jobs=7)]: Done 11750 out of 11750 | elapsed:    2.0s finished\n",
      "/Users/Nicolas/.local/share/virtualenvs/hw45-V0go0g1U/lib/python3.8/site-packages/sklearn/base.py:450: UserWarning: X does not have valid feature names, but RandomForestClassifier was fitted with feature names\n",
      "  warnings.warn(\n",
      "[Parallel(n_jobs=7)]: Using backend ThreadingBackend with 7 concurrent workers.\n",
      "[Parallel(n_jobs=7)]: Done  36 tasks      | elapsed:    0.0s\n"
     ]
    },
    {
     "name": "stdout",
     "output_type": "stream",
     "text": [
      "——————————————————————————————\n",
      "34 / 100\n"
     ]
    },
    {
     "name": "stderr",
     "output_type": "stream",
     "text": [
      "[Parallel(n_jobs=7)]: Done 186 tasks      | elapsed:    0.1s\n",
      "[Parallel(n_jobs=7)]: Done 436 tasks      | elapsed:    0.2s\n",
      "[Parallel(n_jobs=7)]: Done 786 tasks      | elapsed:    0.3s\n",
      "[Parallel(n_jobs=7)]: Done 1236 tasks      | elapsed:    0.4s\n",
      "[Parallel(n_jobs=7)]: Done 1786 tasks      | elapsed:    0.5s\n",
      "[Parallel(n_jobs=7)]: Done 2436 tasks      | elapsed:    0.6s\n",
      "[Parallel(n_jobs=7)]: Done 3186 tasks      | elapsed:    0.7s\n",
      "[Parallel(n_jobs=7)]: Done 4036 tasks      | elapsed:    0.8s\n",
      "[Parallel(n_jobs=7)]: Done 4986 tasks      | elapsed:    1.0s\n",
      "[Parallel(n_jobs=7)]: Done 6036 tasks      | elapsed:    1.1s\n",
      "[Parallel(n_jobs=7)]: Done 7186 tasks      | elapsed:    1.3s\n",
      "[Parallel(n_jobs=7)]: Done 8436 tasks      | elapsed:    1.5s\n",
      "[Parallel(n_jobs=7)]: Done 9786 tasks      | elapsed:    1.7s\n",
      "[Parallel(n_jobs=7)]: Done 11236 tasks      | elapsed:    2.0s\n",
      "[Parallel(n_jobs=7)]: Done 11750 out of 11750 | elapsed:    2.0s finished\n",
      "/Users/Nicolas/.local/share/virtualenvs/hw45-V0go0g1U/lib/python3.8/site-packages/sklearn/base.py:450: UserWarning: X does not have valid feature names, but RandomForestClassifier was fitted with feature names\n",
      "  warnings.warn(\n",
      "[Parallel(n_jobs=7)]: Using backend ThreadingBackend with 7 concurrent workers.\n",
      "[Parallel(n_jobs=7)]: Done  36 tasks      | elapsed:    0.0s\n"
     ]
    },
    {
     "name": "stdout",
     "output_type": "stream",
     "text": [
      "——————————————————————————————\n",
      "35 / 100\n"
     ]
    },
    {
     "name": "stderr",
     "output_type": "stream",
     "text": [
      "[Parallel(n_jobs=7)]: Done 186 tasks      | elapsed:    0.1s\n",
      "[Parallel(n_jobs=7)]: Done 436 tasks      | elapsed:    0.3s\n",
      "[Parallel(n_jobs=7)]: Done 786 tasks      | elapsed:    0.3s\n",
      "[Parallel(n_jobs=7)]: Done 1236 tasks      | elapsed:    0.4s\n",
      "[Parallel(n_jobs=7)]: Done 1786 tasks      | elapsed:    0.5s\n",
      "[Parallel(n_jobs=7)]: Done 2436 tasks      | elapsed:    0.6s\n",
      "[Parallel(n_jobs=7)]: Done 3186 tasks      | elapsed:    0.7s\n",
      "[Parallel(n_jobs=7)]: Done 4036 tasks      | elapsed:    0.8s\n",
      "[Parallel(n_jobs=7)]: Done 4986 tasks      | elapsed:    1.0s\n",
      "[Parallel(n_jobs=7)]: Done 6036 tasks      | elapsed:    1.1s\n",
      "[Parallel(n_jobs=7)]: Done 7186 tasks      | elapsed:    1.3s\n",
      "[Parallel(n_jobs=7)]: Done 8436 tasks      | elapsed:    1.5s\n",
      "[Parallel(n_jobs=7)]: Done 9786 tasks      | elapsed:    1.7s\n",
      "[Parallel(n_jobs=7)]: Done 11236 tasks      | elapsed:    1.9s\n",
      "[Parallel(n_jobs=7)]: Done 11750 out of 11750 | elapsed:    2.0s finished\n",
      "/Users/Nicolas/.local/share/virtualenvs/hw45-V0go0g1U/lib/python3.8/site-packages/sklearn/base.py:450: UserWarning: X does not have valid feature names, but RandomForestClassifier was fitted with feature names\n",
      "  warnings.warn(\n",
      "[Parallel(n_jobs=7)]: Using backend ThreadingBackend with 7 concurrent workers.\n",
      "[Parallel(n_jobs=7)]: Done  36 tasks      | elapsed:    0.0s\n"
     ]
    },
    {
     "name": "stdout",
     "output_type": "stream",
     "text": [
      "——————————————————————————————\n",
      "36 / 100\n"
     ]
    },
    {
     "name": "stderr",
     "output_type": "stream",
     "text": [
      "[Parallel(n_jobs=7)]: Done 186 tasks      | elapsed:    0.1s\n",
      "[Parallel(n_jobs=7)]: Done 436 tasks      | elapsed:    0.2s\n",
      "[Parallel(n_jobs=7)]: Done 786 tasks      | elapsed:    0.3s\n",
      "[Parallel(n_jobs=7)]: Done 1236 tasks      | elapsed:    0.4s\n",
      "[Parallel(n_jobs=7)]: Done 1786 tasks      | elapsed:    0.4s\n",
      "[Parallel(n_jobs=7)]: Done 2436 tasks      | elapsed:    0.5s\n",
      "[Parallel(n_jobs=7)]: Done 3186 tasks      | elapsed:    0.6s\n",
      "[Parallel(n_jobs=7)]: Done 4036 tasks      | elapsed:    0.8s\n",
      "[Parallel(n_jobs=7)]: Done 4986 tasks      | elapsed:    0.9s\n",
      "[Parallel(n_jobs=7)]: Done 6036 tasks      | elapsed:    1.1s\n",
      "[Parallel(n_jobs=7)]: Done 7186 tasks      | elapsed:    1.2s\n",
      "[Parallel(n_jobs=7)]: Done 8436 tasks      | elapsed:    1.4s\n",
      "[Parallel(n_jobs=7)]: Done 9786 tasks      | elapsed:    1.6s\n",
      "[Parallel(n_jobs=7)]: Done 11236 tasks      | elapsed:    1.8s\n",
      "[Parallel(n_jobs=7)]: Done 11750 out of 11750 | elapsed:    1.9s finished\n",
      "/Users/Nicolas/.local/share/virtualenvs/hw45-V0go0g1U/lib/python3.8/site-packages/sklearn/base.py:450: UserWarning: X does not have valid feature names, but RandomForestClassifier was fitted with feature names\n",
      "  warnings.warn(\n",
      "[Parallel(n_jobs=7)]: Using backend ThreadingBackend with 7 concurrent workers.\n",
      "[Parallel(n_jobs=7)]: Done  36 tasks      | elapsed:    0.1s\n"
     ]
    },
    {
     "name": "stdout",
     "output_type": "stream",
     "text": [
      "——————————————————————————————\n",
      "37 / 100\n"
     ]
    },
    {
     "name": "stderr",
     "output_type": "stream",
     "text": [
      "[Parallel(n_jobs=7)]: Done 186 tasks      | elapsed:    0.1s\n",
      "[Parallel(n_jobs=7)]: Done 436 tasks      | elapsed:    0.3s\n",
      "[Parallel(n_jobs=7)]: Done 786 tasks      | elapsed:    0.3s\n",
      "[Parallel(n_jobs=7)]: Done 1236 tasks      | elapsed:    0.4s\n",
      "[Parallel(n_jobs=7)]: Done 1786 tasks      | elapsed:    0.5s\n",
      "[Parallel(n_jobs=7)]: Done 2436 tasks      | elapsed:    0.5s\n",
      "[Parallel(n_jobs=7)]: Done 3186 tasks      | elapsed:    0.7s\n",
      "[Parallel(n_jobs=7)]: Done 4036 tasks      | elapsed:    0.8s\n",
      "[Parallel(n_jobs=7)]: Done 4986 tasks      | elapsed:    0.9s\n",
      "[Parallel(n_jobs=7)]: Done 6036 tasks      | elapsed:    1.1s\n",
      "[Parallel(n_jobs=7)]: Done 7186 tasks      | elapsed:    1.2s\n",
      "[Parallel(n_jobs=7)]: Done 8436 tasks      | elapsed:    1.4s\n",
      "[Parallel(n_jobs=7)]: Done 9786 tasks      | elapsed:    1.6s\n",
      "[Parallel(n_jobs=7)]: Done 11236 tasks      | elapsed:    1.8s\n",
      "[Parallel(n_jobs=7)]: Done 11750 out of 11750 | elapsed:    1.9s finished\n",
      "/Users/Nicolas/.local/share/virtualenvs/hw45-V0go0g1U/lib/python3.8/site-packages/sklearn/base.py:450: UserWarning: X does not have valid feature names, but RandomForestClassifier was fitted with feature names\n",
      "  warnings.warn(\n",
      "[Parallel(n_jobs=7)]: Using backend ThreadingBackend with 7 concurrent workers.\n",
      "[Parallel(n_jobs=7)]: Done  36 tasks      | elapsed:    0.0s\n"
     ]
    },
    {
     "name": "stdout",
     "output_type": "stream",
     "text": [
      "——————————————————————————————\n",
      "38 / 100\n"
     ]
    },
    {
     "name": "stderr",
     "output_type": "stream",
     "text": [
      "[Parallel(n_jobs=7)]: Done 186 tasks      | elapsed:    0.1s\n",
      "[Parallel(n_jobs=7)]: Done 436 tasks      | elapsed:    0.3s\n",
      "[Parallel(n_jobs=7)]: Done 786 tasks      | elapsed:    0.3s\n",
      "[Parallel(n_jobs=7)]: Done 1236 tasks      | elapsed:    0.4s\n",
      "[Parallel(n_jobs=7)]: Done 1786 tasks      | elapsed:    0.5s\n",
      "[Parallel(n_jobs=7)]: Done 2436 tasks      | elapsed:    0.6s\n",
      "[Parallel(n_jobs=7)]: Done 3186 tasks      | elapsed:    0.7s\n",
      "[Parallel(n_jobs=7)]: Done 4036 tasks      | elapsed:    0.8s\n",
      "[Parallel(n_jobs=7)]: Done 4986 tasks      | elapsed:    1.0s\n",
      "[Parallel(n_jobs=7)]: Done 6036 tasks      | elapsed:    1.1s\n",
      "[Parallel(n_jobs=7)]: Done 7186 tasks      | elapsed:    1.3s\n",
      "[Parallel(n_jobs=7)]: Done 8436 tasks      | elapsed:    1.5s\n",
      "[Parallel(n_jobs=7)]: Done 9786 tasks      | elapsed:    1.7s\n",
      "[Parallel(n_jobs=7)]: Done 11236 tasks      | elapsed:    1.9s\n",
      "[Parallel(n_jobs=7)]: Done 11750 out of 11750 | elapsed:    2.0s finished\n",
      "/Users/Nicolas/.local/share/virtualenvs/hw45-V0go0g1U/lib/python3.8/site-packages/sklearn/base.py:450: UserWarning: X does not have valid feature names, but RandomForestClassifier was fitted with feature names\n",
      "  warnings.warn(\n",
      "[Parallel(n_jobs=7)]: Using backend ThreadingBackend with 7 concurrent workers.\n",
      "[Parallel(n_jobs=7)]: Done  36 tasks      | elapsed:    0.0s\n"
     ]
    },
    {
     "name": "stdout",
     "output_type": "stream",
     "text": [
      "——————————————————————————————\n",
      "39 / 100\n"
     ]
    },
    {
     "name": "stderr",
     "output_type": "stream",
     "text": [
      "[Parallel(n_jobs=7)]: Done 186 tasks      | elapsed:    0.1s\n",
      "[Parallel(n_jobs=7)]: Done 436 tasks      | elapsed:    0.2s\n",
      "[Parallel(n_jobs=7)]: Done 786 tasks      | elapsed:    0.3s\n",
      "[Parallel(n_jobs=7)]: Done 1236 tasks      | elapsed:    0.4s\n",
      "[Parallel(n_jobs=7)]: Done 1786 tasks      | elapsed:    0.5s\n",
      "[Parallel(n_jobs=7)]: Done 2436 tasks      | elapsed:    0.5s\n",
      "[Parallel(n_jobs=7)]: Done 3186 tasks      | elapsed:    0.7s\n",
      "[Parallel(n_jobs=7)]: Done 4036 tasks      | elapsed:    0.8s\n",
      "[Parallel(n_jobs=7)]: Done 4986 tasks      | elapsed:    1.0s\n",
      "[Parallel(n_jobs=7)]: Done 6036 tasks      | elapsed:    1.1s\n",
      "[Parallel(n_jobs=7)]: Done 7186 tasks      | elapsed:    1.3s\n",
      "[Parallel(n_jobs=7)]: Done 8436 tasks      | elapsed:    1.5s\n",
      "[Parallel(n_jobs=7)]: Done 9786 tasks      | elapsed:    1.7s\n",
      "[Parallel(n_jobs=7)]: Done 11236 tasks      | elapsed:    1.9s\n",
      "[Parallel(n_jobs=7)]: Done 11750 out of 11750 | elapsed:    2.0s finished\n",
      "/Users/Nicolas/.local/share/virtualenvs/hw45-V0go0g1U/lib/python3.8/site-packages/sklearn/base.py:450: UserWarning: X does not have valid feature names, but RandomForestClassifier was fitted with feature names\n",
      "  warnings.warn(\n",
      "[Parallel(n_jobs=7)]: Using backend ThreadingBackend with 7 concurrent workers.\n",
      "[Parallel(n_jobs=7)]: Done  36 tasks      | elapsed:    0.0s\n"
     ]
    },
    {
     "name": "stdout",
     "output_type": "stream",
     "text": [
      "——————————————————————————————\n",
      "40 / 100\n"
     ]
    },
    {
     "name": "stderr",
     "output_type": "stream",
     "text": [
      "[Parallel(n_jobs=7)]: Done 186 tasks      | elapsed:    0.1s\n",
      "[Parallel(n_jobs=7)]: Done 436 tasks      | elapsed:    0.2s\n",
      "[Parallel(n_jobs=7)]: Done 786 tasks      | elapsed:    0.3s\n",
      "[Parallel(n_jobs=7)]: Done 1236 tasks      | elapsed:    0.4s\n",
      "[Parallel(n_jobs=7)]: Done 1786 tasks      | elapsed:    0.5s\n",
      "[Parallel(n_jobs=7)]: Done 2436 tasks      | elapsed:    0.6s\n",
      "[Parallel(n_jobs=7)]: Done 3186 tasks      | elapsed:    0.7s\n",
      "[Parallel(n_jobs=7)]: Done 4036 tasks      | elapsed:    0.8s\n",
      "[Parallel(n_jobs=7)]: Done 4986 tasks      | elapsed:    1.0s\n",
      "[Parallel(n_jobs=7)]: Done 6036 tasks      | elapsed:    1.1s\n",
      "[Parallel(n_jobs=7)]: Done 7186 tasks      | elapsed:    1.3s\n",
      "[Parallel(n_jobs=7)]: Done 8436 tasks      | elapsed:    1.5s\n",
      "[Parallel(n_jobs=7)]: Done 9786 tasks      | elapsed:    1.7s\n",
      "[Parallel(n_jobs=7)]: Done 11236 tasks      | elapsed:    2.0s\n",
      "[Parallel(n_jobs=7)]: Done 11750 out of 11750 | elapsed:    2.0s finished\n",
      "/Users/Nicolas/.local/share/virtualenvs/hw45-V0go0g1U/lib/python3.8/site-packages/sklearn/base.py:450: UserWarning: X does not have valid feature names, but RandomForestClassifier was fitted with feature names\n",
      "  warnings.warn(\n",
      "[Parallel(n_jobs=7)]: Using backend ThreadingBackend with 7 concurrent workers.\n",
      "[Parallel(n_jobs=7)]: Done  36 tasks      | elapsed:    0.0s\n"
     ]
    },
    {
     "name": "stdout",
     "output_type": "stream",
     "text": [
      "——————————————————————————————\n",
      "41 / 100\n"
     ]
    },
    {
     "name": "stderr",
     "output_type": "stream",
     "text": [
      "[Parallel(n_jobs=7)]: Done 186 tasks      | elapsed:    0.1s\n",
      "[Parallel(n_jobs=7)]: Done 436 tasks      | elapsed:    0.2s\n",
      "[Parallel(n_jobs=7)]: Done 786 tasks      | elapsed:    0.3s\n",
      "[Parallel(n_jobs=7)]: Done 1236 tasks      | elapsed:    0.4s\n",
      "[Parallel(n_jobs=7)]: Done 1786 tasks      | elapsed:    0.5s\n",
      "[Parallel(n_jobs=7)]: Done 2436 tasks      | elapsed:    0.6s\n",
      "[Parallel(n_jobs=7)]: Done 3186 tasks      | elapsed:    0.7s\n",
      "[Parallel(n_jobs=7)]: Done 4036 tasks      | elapsed:    0.8s\n",
      "[Parallel(n_jobs=7)]: Done 4986 tasks      | elapsed:    1.0s\n",
      "[Parallel(n_jobs=7)]: Done 6036 tasks      | elapsed:    1.1s\n",
      "[Parallel(n_jobs=7)]: Done 7186 tasks      | elapsed:    1.3s\n",
      "[Parallel(n_jobs=7)]: Done 8436 tasks      | elapsed:    1.5s\n",
      "[Parallel(n_jobs=7)]: Done 9786 tasks      | elapsed:    1.7s\n",
      "[Parallel(n_jobs=7)]: Done 11236 tasks      | elapsed:    2.0s\n",
      "[Parallel(n_jobs=7)]: Done 11750 out of 11750 | elapsed:    2.0s finished\n",
      "/Users/Nicolas/.local/share/virtualenvs/hw45-V0go0g1U/lib/python3.8/site-packages/sklearn/base.py:450: UserWarning: X does not have valid feature names, but RandomForestClassifier was fitted with feature names\n",
      "  warnings.warn(\n",
      "[Parallel(n_jobs=7)]: Using backend ThreadingBackend with 7 concurrent workers.\n",
      "[Parallel(n_jobs=7)]: Done  36 tasks      | elapsed:    0.0s\n"
     ]
    },
    {
     "name": "stdout",
     "output_type": "stream",
     "text": [
      "——————————————————————————————\n",
      "42 / 100\n"
     ]
    },
    {
     "name": "stderr",
     "output_type": "stream",
     "text": [
      "[Parallel(n_jobs=7)]: Done 186 tasks      | elapsed:    0.1s\n",
      "[Parallel(n_jobs=7)]: Done 436 tasks      | elapsed:    0.3s\n",
      "[Parallel(n_jobs=7)]: Done 786 tasks      | elapsed:    0.3s\n",
      "[Parallel(n_jobs=7)]: Done 1236 tasks      | elapsed:    0.4s\n",
      "[Parallel(n_jobs=7)]: Done 1786 tasks      | elapsed:    0.5s\n",
      "[Parallel(n_jobs=7)]: Done 2436 tasks      | elapsed:    0.6s\n",
      "[Parallel(n_jobs=7)]: Done 3186 tasks      | elapsed:    0.8s\n",
      "[Parallel(n_jobs=7)]: Done 4036 tasks      | elapsed:    1.0s\n",
      "[Parallel(n_jobs=7)]: Done 4986 tasks      | elapsed:    1.1s\n",
      "[Parallel(n_jobs=7)]: Done 6036 tasks      | elapsed:    1.3s\n",
      "[Parallel(n_jobs=7)]: Done 7186 tasks      | elapsed:    1.5s\n",
      "[Parallel(n_jobs=7)]: Done 8436 tasks      | elapsed:    1.7s\n",
      "[Parallel(n_jobs=7)]: Done 9786 tasks      | elapsed:    1.9s\n",
      "[Parallel(n_jobs=7)]: Done 11236 tasks      | elapsed:    2.2s\n",
      "[Parallel(n_jobs=7)]: Done 11750 out of 11750 | elapsed:    2.3s finished\n",
      "/Users/Nicolas/.local/share/virtualenvs/hw45-V0go0g1U/lib/python3.8/site-packages/sklearn/base.py:450: UserWarning: X does not have valid feature names, but RandomForestClassifier was fitted with feature names\n",
      "  warnings.warn(\n",
      "[Parallel(n_jobs=7)]: Using backend ThreadingBackend with 7 concurrent workers.\n",
      "[Parallel(n_jobs=7)]: Done  36 tasks      | elapsed:    0.0s\n"
     ]
    },
    {
     "name": "stdout",
     "output_type": "stream",
     "text": [
      "——————————————————————————————\n",
      "43 / 100\n"
     ]
    },
    {
     "name": "stderr",
     "output_type": "stream",
     "text": [
      "[Parallel(n_jobs=7)]: Done 186 tasks      | elapsed:    0.1s\n",
      "[Parallel(n_jobs=7)]: Done 436 tasks      | elapsed:    0.2s\n",
      "[Parallel(n_jobs=7)]: Done 786 tasks      | elapsed:    0.3s\n",
      "[Parallel(n_jobs=7)]: Done 1236 tasks      | elapsed:    0.4s\n",
      "[Parallel(n_jobs=7)]: Done 1786 tasks      | elapsed:    0.5s\n",
      "[Parallel(n_jobs=7)]: Done 2436 tasks      | elapsed:    0.6s\n",
      "[Parallel(n_jobs=7)]: Done 3186 tasks      | elapsed:    0.7s\n",
      "[Parallel(n_jobs=7)]: Done 4036 tasks      | elapsed:    0.8s\n",
      "[Parallel(n_jobs=7)]: Done 4986 tasks      | elapsed:    1.0s\n",
      "[Parallel(n_jobs=7)]: Done 6036 tasks      | elapsed:    1.1s\n",
      "[Parallel(n_jobs=7)]: Done 7186 tasks      | elapsed:    1.3s\n",
      "[Parallel(n_jobs=7)]: Done 8436 tasks      | elapsed:    1.5s\n",
      "[Parallel(n_jobs=7)]: Done 9786 tasks      | elapsed:    1.7s\n",
      "[Parallel(n_jobs=7)]: Done 11236 tasks      | elapsed:    2.0s\n",
      "[Parallel(n_jobs=7)]: Done 11750 out of 11750 | elapsed:    2.0s finished\n",
      "/Users/Nicolas/.local/share/virtualenvs/hw45-V0go0g1U/lib/python3.8/site-packages/sklearn/base.py:450: UserWarning: X does not have valid feature names, but RandomForestClassifier was fitted with feature names\n",
      "  warnings.warn(\n",
      "[Parallel(n_jobs=7)]: Using backend ThreadingBackend with 7 concurrent workers.\n",
      "[Parallel(n_jobs=7)]: Done  36 tasks      | elapsed:    0.0s\n"
     ]
    },
    {
     "name": "stdout",
     "output_type": "stream",
     "text": [
      "——————————————————————————————\n",
      "44 / 100\n"
     ]
    },
    {
     "name": "stderr",
     "output_type": "stream",
     "text": [
      "[Parallel(n_jobs=7)]: Done 186 tasks      | elapsed:    0.1s\n",
      "[Parallel(n_jobs=7)]: Done 436 tasks      | elapsed:    0.3s\n",
      "[Parallel(n_jobs=7)]: Done 786 tasks      | elapsed:    0.3s\n",
      "[Parallel(n_jobs=7)]: Done 1236 tasks      | elapsed:    0.4s\n",
      "[Parallel(n_jobs=7)]: Done 1786 tasks      | elapsed:    0.5s\n",
      "[Parallel(n_jobs=7)]: Done 2436 tasks      | elapsed:    0.6s\n",
      "[Parallel(n_jobs=7)]: Done 3186 tasks      | elapsed:    0.7s\n",
      "[Parallel(n_jobs=7)]: Done 4036 tasks      | elapsed:    0.8s\n",
      "[Parallel(n_jobs=7)]: Done 4986 tasks      | elapsed:    1.0s\n",
      "[Parallel(n_jobs=7)]: Done 6036 tasks      | elapsed:    1.1s\n",
      "[Parallel(n_jobs=7)]: Done 7186 tasks      | elapsed:    1.3s\n",
      "[Parallel(n_jobs=7)]: Done 8436 tasks      | elapsed:    1.5s\n",
      "[Parallel(n_jobs=7)]: Done 9786 tasks      | elapsed:    1.8s\n",
      "[Parallel(n_jobs=7)]: Done 11236 tasks      | elapsed:    2.1s\n",
      "[Parallel(n_jobs=7)]: Done 11750 out of 11750 | elapsed:    2.2s finished\n"
     ]
    },
    {
     "name": "stdout",
     "output_type": "stream",
     "text": [
      "——————————————————————————————\n",
      "45 / 100\n"
     ]
    },
    {
     "name": "stderr",
     "output_type": "stream",
     "text": [
      "/Users/Nicolas/.local/share/virtualenvs/hw45-V0go0g1U/lib/python3.8/site-packages/sklearn/base.py:450: UserWarning: X does not have valid feature names, but RandomForestClassifier was fitted with feature names\n",
      "  warnings.warn(\n",
      "[Parallel(n_jobs=7)]: Using backend ThreadingBackend with 7 concurrent workers.\n",
      "[Parallel(n_jobs=7)]: Done  36 tasks      | elapsed:    0.0s\n",
      "[Parallel(n_jobs=7)]: Done 186 tasks      | elapsed:    0.1s\n",
      "[Parallel(n_jobs=7)]: Done 436 tasks      | elapsed:    0.2s\n",
      "[Parallel(n_jobs=7)]: Done 786 tasks      | elapsed:    0.3s\n",
      "[Parallel(n_jobs=7)]: Done 1236 tasks      | elapsed:    0.4s\n",
      "[Parallel(n_jobs=7)]: Done 1786 tasks      | elapsed:    0.5s\n",
      "[Parallel(n_jobs=7)]: Done 2436 tasks      | elapsed:    0.6s\n",
      "[Parallel(n_jobs=7)]: Done 3186 tasks      | elapsed:    0.7s\n",
      "[Parallel(n_jobs=7)]: Done 4036 tasks      | elapsed:    0.9s\n",
      "[Parallel(n_jobs=7)]: Done 4986 tasks      | elapsed:    1.1s\n",
      "[Parallel(n_jobs=7)]: Done 6036 tasks      | elapsed:    1.2s\n",
      "[Parallel(n_jobs=7)]: Done 7186 tasks      | elapsed:    1.4s\n",
      "[Parallel(n_jobs=7)]: Done 8436 tasks      | elapsed:    1.6s\n",
      "[Parallel(n_jobs=7)]: Done 9786 tasks      | elapsed:    1.9s\n",
      "[Parallel(n_jobs=7)]: Done 11236 tasks      | elapsed:    2.1s\n",
      "[Parallel(n_jobs=7)]: Done 11750 out of 11750 | elapsed:    2.2s finished\n",
      "/Users/Nicolas/.local/share/virtualenvs/hw45-V0go0g1U/lib/python3.8/site-packages/sklearn/base.py:450: UserWarning: X does not have valid feature names, but RandomForestClassifier was fitted with feature names\n",
      "  warnings.warn(\n",
      "[Parallel(n_jobs=7)]: Using backend ThreadingBackend with 7 concurrent workers.\n",
      "[Parallel(n_jobs=7)]: Done  36 tasks      | elapsed:    0.0s\n"
     ]
    },
    {
     "name": "stdout",
     "output_type": "stream",
     "text": [
      "——————————————————————————————\n",
      "46 / 100\n"
     ]
    },
    {
     "name": "stderr",
     "output_type": "stream",
     "text": [
      "[Parallel(n_jobs=7)]: Done 186 tasks      | elapsed:    0.1s\n",
      "[Parallel(n_jobs=7)]: Done 436 tasks      | elapsed:    0.2s\n",
      "[Parallel(n_jobs=7)]: Done 786 tasks      | elapsed:    0.3s\n",
      "[Parallel(n_jobs=7)]: Done 1236 tasks      | elapsed:    0.4s\n",
      "[Parallel(n_jobs=7)]: Done 1786 tasks      | elapsed:    0.5s\n",
      "[Parallel(n_jobs=7)]: Done 2436 tasks      | elapsed:    0.6s\n",
      "[Parallel(n_jobs=7)]: Done 3186 tasks      | elapsed:    0.7s\n",
      "[Parallel(n_jobs=7)]: Done 4036 tasks      | elapsed:    0.8s\n",
      "[Parallel(n_jobs=7)]: Done 4986 tasks      | elapsed:    1.0s\n",
      "[Parallel(n_jobs=7)]: Done 6036 tasks      | elapsed:    1.1s\n",
      "[Parallel(n_jobs=7)]: Done 7186 tasks      | elapsed:    1.3s\n",
      "[Parallel(n_jobs=7)]: Done 8436 tasks      | elapsed:    1.6s\n",
      "[Parallel(n_jobs=7)]: Done 9786 tasks      | elapsed:    1.8s\n",
      "[Parallel(n_jobs=7)]: Done 11236 tasks      | elapsed:    2.0s\n",
      "[Parallel(n_jobs=7)]: Done 11750 out of 11750 | elapsed:    2.1s finished\n",
      "/Users/Nicolas/.local/share/virtualenvs/hw45-V0go0g1U/lib/python3.8/site-packages/sklearn/base.py:450: UserWarning: X does not have valid feature names, but RandomForestClassifier was fitted with feature names\n",
      "  warnings.warn(\n",
      "[Parallel(n_jobs=7)]: Using backend ThreadingBackend with 7 concurrent workers.\n",
      "[Parallel(n_jobs=7)]: Done  36 tasks      | elapsed:    0.0s\n"
     ]
    },
    {
     "name": "stdout",
     "output_type": "stream",
     "text": [
      "——————————————————————————————\n",
      "47 / 100\n"
     ]
    },
    {
     "name": "stderr",
     "output_type": "stream",
     "text": [
      "[Parallel(n_jobs=7)]: Done 186 tasks      | elapsed:    0.1s\n",
      "[Parallel(n_jobs=7)]: Done 436 tasks      | elapsed:    0.2s\n",
      "[Parallel(n_jobs=7)]: Done 786 tasks      | elapsed:    0.3s\n",
      "[Parallel(n_jobs=7)]: Done 1236 tasks      | elapsed:    0.4s\n",
      "[Parallel(n_jobs=7)]: Done 1786 tasks      | elapsed:    0.5s\n",
      "[Parallel(n_jobs=7)]: Done 2436 tasks      | elapsed:    0.6s\n",
      "[Parallel(n_jobs=7)]: Done 3186 tasks      | elapsed:    0.7s\n",
      "[Parallel(n_jobs=7)]: Done 4036 tasks      | elapsed:    0.9s\n",
      "[Parallel(n_jobs=7)]: Done 4986 tasks      | elapsed:    1.1s\n",
      "[Parallel(n_jobs=7)]: Done 6036 tasks      | elapsed:    1.2s\n",
      "[Parallel(n_jobs=7)]: Done 7186 tasks      | elapsed:    1.5s\n",
      "[Parallel(n_jobs=7)]: Done 8436 tasks      | elapsed:    1.7s\n",
      "[Parallel(n_jobs=7)]: Done 9786 tasks      | elapsed:    1.9s\n",
      "[Parallel(n_jobs=7)]: Done 11236 tasks      | elapsed:    2.1s\n",
      "[Parallel(n_jobs=7)]: Done 11750 out of 11750 | elapsed:    2.2s finished\n",
      "/Users/Nicolas/.local/share/virtualenvs/hw45-V0go0g1U/lib/python3.8/site-packages/sklearn/base.py:450: UserWarning: X does not have valid feature names, but RandomForestClassifier was fitted with feature names\n",
      "  warnings.warn(\n",
      "[Parallel(n_jobs=7)]: Using backend ThreadingBackend with 7 concurrent workers.\n",
      "[Parallel(n_jobs=7)]: Done  36 tasks      | elapsed:    0.0s\n"
     ]
    },
    {
     "name": "stdout",
     "output_type": "stream",
     "text": [
      "——————————————————————————————\n",
      "48 / 100\n"
     ]
    },
    {
     "name": "stderr",
     "output_type": "stream",
     "text": [
      "[Parallel(n_jobs=7)]: Done 186 tasks      | elapsed:    0.1s\n",
      "[Parallel(n_jobs=7)]: Done 436 tasks      | elapsed:    0.2s\n",
      "[Parallel(n_jobs=7)]: Done 786 tasks      | elapsed:    0.2s\n",
      "[Parallel(n_jobs=7)]: Done 1236 tasks      | elapsed:    0.3s\n",
      "[Parallel(n_jobs=7)]: Done 1786 tasks      | elapsed:    0.4s\n",
      "[Parallel(n_jobs=7)]: Done 2436 tasks      | elapsed:    0.5s\n",
      "[Parallel(n_jobs=7)]: Done 3186 tasks      | elapsed:    0.6s\n",
      "[Parallel(n_jobs=7)]: Done 4036 tasks      | elapsed:    0.8s\n",
      "[Parallel(n_jobs=7)]: Done 4986 tasks      | elapsed:    0.9s\n",
      "[Parallel(n_jobs=7)]: Done 6036 tasks      | elapsed:    1.1s\n",
      "[Parallel(n_jobs=7)]: Done 7186 tasks      | elapsed:    1.3s\n",
      "[Parallel(n_jobs=7)]: Done 8436 tasks      | elapsed:    1.5s\n",
      "[Parallel(n_jobs=7)]: Done 9786 tasks      | elapsed:    1.7s\n",
      "[Parallel(n_jobs=7)]: Done 11236 tasks      | elapsed:    1.9s\n",
      "[Parallel(n_jobs=7)]: Done 11750 out of 11750 | elapsed:    2.0s finished\n",
      "/Users/Nicolas/.local/share/virtualenvs/hw45-V0go0g1U/lib/python3.8/site-packages/sklearn/base.py:450: UserWarning: X does not have valid feature names, but RandomForestClassifier was fitted with feature names\n",
      "  warnings.warn(\n",
      "[Parallel(n_jobs=7)]: Using backend ThreadingBackend with 7 concurrent workers.\n",
      "[Parallel(n_jobs=7)]: Done  36 tasks      | elapsed:    0.0s\n"
     ]
    },
    {
     "name": "stdout",
     "output_type": "stream",
     "text": [
      "——————————————————————————————\n",
      "49 / 100\n"
     ]
    },
    {
     "name": "stderr",
     "output_type": "stream",
     "text": [
      "[Parallel(n_jobs=7)]: Done 186 tasks      | elapsed:    0.1s\n",
      "[Parallel(n_jobs=7)]: Done 436 tasks      | elapsed:    0.2s\n",
      "[Parallel(n_jobs=7)]: Done 786 tasks      | elapsed:    0.3s\n",
      "[Parallel(n_jobs=7)]: Done 1236 tasks      | elapsed:    0.4s\n",
      "[Parallel(n_jobs=7)]: Done 1786 tasks      | elapsed:    0.5s\n",
      "[Parallel(n_jobs=7)]: Done 2436 tasks      | elapsed:    0.6s\n",
      "[Parallel(n_jobs=7)]: Done 3186 tasks      | elapsed:    0.7s\n",
      "[Parallel(n_jobs=7)]: Done 4036 tasks      | elapsed:    0.8s\n",
      "[Parallel(n_jobs=7)]: Done 4986 tasks      | elapsed:    1.0s\n",
      "[Parallel(n_jobs=7)]: Done 6036 tasks      | elapsed:    1.1s\n",
      "[Parallel(n_jobs=7)]: Done 7186 tasks      | elapsed:    1.3s\n",
      "[Parallel(n_jobs=7)]: Done 8436 tasks      | elapsed:    1.5s\n",
      "[Parallel(n_jobs=7)]: Done 9786 tasks      | elapsed:    1.7s\n",
      "[Parallel(n_jobs=7)]: Done 11236 tasks      | elapsed:    1.9s\n",
      "[Parallel(n_jobs=7)]: Done 11750 out of 11750 | elapsed:    2.0s finished\n",
      "/Users/Nicolas/.local/share/virtualenvs/hw45-V0go0g1U/lib/python3.8/site-packages/sklearn/base.py:450: UserWarning: X does not have valid feature names, but RandomForestClassifier was fitted with feature names\n",
      "  warnings.warn(\n",
      "[Parallel(n_jobs=7)]: Using backend ThreadingBackend with 7 concurrent workers.\n",
      "[Parallel(n_jobs=7)]: Done  36 tasks      | elapsed:    0.0s\n"
     ]
    },
    {
     "name": "stdout",
     "output_type": "stream",
     "text": [
      "——————————————————————————————\n",
      "50 / 100\n"
     ]
    },
    {
     "name": "stderr",
     "output_type": "stream",
     "text": [
      "[Parallel(n_jobs=7)]: Done 186 tasks      | elapsed:    0.1s\n",
      "[Parallel(n_jobs=7)]: Done 436 tasks      | elapsed:    0.2s\n",
      "[Parallel(n_jobs=7)]: Done 786 tasks      | elapsed:    0.3s\n",
      "[Parallel(n_jobs=7)]: Done 1236 tasks      | elapsed:    0.4s\n",
      "[Parallel(n_jobs=7)]: Done 1786 tasks      | elapsed:    0.5s\n",
      "[Parallel(n_jobs=7)]: Done 2436 tasks      | elapsed:    0.5s\n",
      "[Parallel(n_jobs=7)]: Done 3186 tasks      | elapsed:    0.7s\n",
      "[Parallel(n_jobs=7)]: Done 4036 tasks      | elapsed:    0.8s\n",
      "[Parallel(n_jobs=7)]: Done 4986 tasks      | elapsed:    0.9s\n",
      "[Parallel(n_jobs=7)]: Done 6036 tasks      | elapsed:    1.1s\n",
      "[Parallel(n_jobs=7)]: Done 7186 tasks      | elapsed:    1.3s\n",
      "[Parallel(n_jobs=7)]: Done 8436 tasks      | elapsed:    1.5s\n",
      "[Parallel(n_jobs=7)]: Done 9786 tasks      | elapsed:    1.7s\n",
      "[Parallel(n_jobs=7)]: Done 11236 tasks      | elapsed:    1.9s\n",
      "[Parallel(n_jobs=7)]: Done 11750 out of 11750 | elapsed:    1.9s finished\n",
      "/Users/Nicolas/.local/share/virtualenvs/hw45-V0go0g1U/lib/python3.8/site-packages/sklearn/base.py:450: UserWarning: X does not have valid feature names, but RandomForestClassifier was fitted with feature names\n",
      "  warnings.warn(\n",
      "[Parallel(n_jobs=7)]: Using backend ThreadingBackend with 7 concurrent workers.\n",
      "[Parallel(n_jobs=7)]: Done  36 tasks      | elapsed:    0.0s\n",
      "[Parallel(n_jobs=7)]: Done 186 tasks      | elapsed:    0.0s\n"
     ]
    },
    {
     "name": "stdout",
     "output_type": "stream",
     "text": [
      "——————————————————————————————\n",
      "51 / 100\n"
     ]
    },
    {
     "name": "stderr",
     "output_type": "stream",
     "text": [
      "[Parallel(n_jobs=7)]: Done 436 tasks      | elapsed:    0.1s\n",
      "[Parallel(n_jobs=7)]: Done 786 tasks      | elapsed:    0.1s\n",
      "[Parallel(n_jobs=7)]: Done 1236 tasks      | elapsed:    0.3s\n",
      "[Parallel(n_jobs=7)]: Done 1786 tasks      | elapsed:    0.4s\n",
      "[Parallel(n_jobs=7)]: Done 2436 tasks      | elapsed:    0.5s\n",
      "[Parallel(n_jobs=7)]: Done 3186 tasks      | elapsed:    0.6s\n",
      "[Parallel(n_jobs=7)]: Done 4036 tasks      | elapsed:    0.8s\n",
      "[Parallel(n_jobs=7)]: Done 4986 tasks      | elapsed:    0.9s\n",
      "[Parallel(n_jobs=7)]: Done 6036 tasks      | elapsed:    1.1s\n",
      "[Parallel(n_jobs=7)]: Done 7186 tasks      | elapsed:    1.2s\n",
      "[Parallel(n_jobs=7)]: Done 8436 tasks      | elapsed:    1.4s\n",
      "[Parallel(n_jobs=7)]: Done 9786 tasks      | elapsed:    1.7s\n",
      "[Parallel(n_jobs=7)]: Done 11236 tasks      | elapsed:    1.9s\n",
      "[Parallel(n_jobs=7)]: Done 11750 out of 11750 | elapsed:    2.0s finished\n",
      "/Users/Nicolas/.local/share/virtualenvs/hw45-V0go0g1U/lib/python3.8/site-packages/sklearn/base.py:450: UserWarning: X does not have valid feature names, but RandomForestClassifier was fitted with feature names\n",
      "  warnings.warn(\n",
      "[Parallel(n_jobs=7)]: Using backend ThreadingBackend with 7 concurrent workers.\n",
      "[Parallel(n_jobs=7)]: Done  36 tasks      | elapsed:    0.0s\n"
     ]
    },
    {
     "name": "stdout",
     "output_type": "stream",
     "text": [
      "——————————————————————————————\n",
      "52 / 100\n"
     ]
    },
    {
     "name": "stderr",
     "output_type": "stream",
     "text": [
      "[Parallel(n_jobs=7)]: Done 186 tasks      | elapsed:    0.1s\n",
      "[Parallel(n_jobs=7)]: Done 436 tasks      | elapsed:    0.3s\n",
      "[Parallel(n_jobs=7)]: Done 786 tasks      | elapsed:    0.3s\n",
      "[Parallel(n_jobs=7)]: Done 1236 tasks      | elapsed:    0.4s\n",
      "[Parallel(n_jobs=7)]: Done 1786 tasks      | elapsed:    0.5s\n",
      "[Parallel(n_jobs=7)]: Done 2436 tasks      | elapsed:    0.6s\n",
      "[Parallel(n_jobs=7)]: Done 3186 tasks      | elapsed:    0.7s\n",
      "[Parallel(n_jobs=7)]: Done 4036 tasks      | elapsed:    0.8s\n",
      "[Parallel(n_jobs=7)]: Done 4986 tasks      | elapsed:    1.0s\n",
      "[Parallel(n_jobs=7)]: Done 6036 tasks      | elapsed:    1.1s\n",
      "[Parallel(n_jobs=7)]: Done 7186 tasks      | elapsed:    1.3s\n",
      "[Parallel(n_jobs=7)]: Done 8436 tasks      | elapsed:    1.5s\n",
      "[Parallel(n_jobs=7)]: Done 9786 tasks      | elapsed:    1.7s\n",
      "[Parallel(n_jobs=7)]: Done 11236 tasks      | elapsed:    1.9s\n",
      "[Parallel(n_jobs=7)]: Done 11750 out of 11750 | elapsed:    2.0s finished\n",
      "/Users/Nicolas/.local/share/virtualenvs/hw45-V0go0g1U/lib/python3.8/site-packages/sklearn/base.py:450: UserWarning: X does not have valid feature names, but RandomForestClassifier was fitted with feature names\n",
      "  warnings.warn(\n",
      "[Parallel(n_jobs=7)]: Using backend ThreadingBackend with 7 concurrent workers.\n",
      "[Parallel(n_jobs=7)]: Done  36 tasks      | elapsed:    0.0s\n"
     ]
    },
    {
     "name": "stdout",
     "output_type": "stream",
     "text": [
      "——————————————————————————————\n",
      "53 / 100\n"
     ]
    },
    {
     "name": "stderr",
     "output_type": "stream",
     "text": [
      "[Parallel(n_jobs=7)]: Done 186 tasks      | elapsed:    0.1s\n",
      "[Parallel(n_jobs=7)]: Done 436 tasks      | elapsed:    0.2s\n",
      "[Parallel(n_jobs=7)]: Done 786 tasks      | elapsed:    0.3s\n",
      "[Parallel(n_jobs=7)]: Done 1236 tasks      | elapsed:    0.4s\n",
      "[Parallel(n_jobs=7)]: Done 1786 tasks      | elapsed:    0.5s\n",
      "[Parallel(n_jobs=7)]: Done 2436 tasks      | elapsed:    0.6s\n",
      "[Parallel(n_jobs=7)]: Done 3186 tasks      | elapsed:    0.7s\n",
      "[Parallel(n_jobs=7)]: Done 4036 tasks      | elapsed:    0.8s\n",
      "[Parallel(n_jobs=7)]: Done 4986 tasks      | elapsed:    1.0s\n",
      "[Parallel(n_jobs=7)]: Done 6036 tasks      | elapsed:    1.1s\n",
      "[Parallel(n_jobs=7)]: Done 7186 tasks      | elapsed:    1.3s\n",
      "[Parallel(n_jobs=7)]: Done 8436 tasks      | elapsed:    1.5s\n",
      "[Parallel(n_jobs=7)]: Done 9786 tasks      | elapsed:    1.7s\n",
      "[Parallel(n_jobs=7)]: Done 11236 tasks      | elapsed:    2.0s\n",
      "[Parallel(n_jobs=7)]: Done 11750 out of 11750 | elapsed:    2.0s finished\n",
      "/Users/Nicolas/.local/share/virtualenvs/hw45-V0go0g1U/lib/python3.8/site-packages/sklearn/base.py:450: UserWarning: X does not have valid feature names, but RandomForestClassifier was fitted with feature names\n",
      "  warnings.warn(\n",
      "[Parallel(n_jobs=7)]: Using backend ThreadingBackend with 7 concurrent workers.\n",
      "[Parallel(n_jobs=7)]: Done  36 tasks      | elapsed:    0.0s\n"
     ]
    },
    {
     "name": "stdout",
     "output_type": "stream",
     "text": [
      "——————————————————————————————\n",
      "54 / 100\n"
     ]
    },
    {
     "name": "stderr",
     "output_type": "stream",
     "text": [
      "[Parallel(n_jobs=7)]: Done 186 tasks      | elapsed:    0.1s\n",
      "[Parallel(n_jobs=7)]: Done 436 tasks      | elapsed:    0.2s\n",
      "[Parallel(n_jobs=7)]: Done 786 tasks      | elapsed:    0.3s\n",
      "[Parallel(n_jobs=7)]: Done 1236 tasks      | elapsed:    0.4s\n",
      "[Parallel(n_jobs=7)]: Done 1786 tasks      | elapsed:    0.5s\n",
      "[Parallel(n_jobs=7)]: Done 2436 tasks      | elapsed:    0.6s\n",
      "[Parallel(n_jobs=7)]: Done 3186 tasks      | elapsed:    0.7s\n",
      "[Parallel(n_jobs=7)]: Done 4036 tasks      | elapsed:    0.8s\n",
      "[Parallel(n_jobs=7)]: Done 4986 tasks      | elapsed:    0.9s\n",
      "[Parallel(n_jobs=7)]: Done 6036 tasks      | elapsed:    1.1s\n",
      "[Parallel(n_jobs=7)]: Done 7186 tasks      | elapsed:    1.3s\n",
      "[Parallel(n_jobs=7)]: Done 8436 tasks      | elapsed:    1.5s\n",
      "[Parallel(n_jobs=7)]: Done 9786 tasks      | elapsed:    1.7s\n",
      "[Parallel(n_jobs=7)]: Done 11236 tasks      | elapsed:    1.9s\n",
      "[Parallel(n_jobs=7)]: Done 11750 out of 11750 | elapsed:    2.0s finished\n",
      "/Users/Nicolas/.local/share/virtualenvs/hw45-V0go0g1U/lib/python3.8/site-packages/sklearn/base.py:450: UserWarning: X does not have valid feature names, but RandomForestClassifier was fitted with feature names\n",
      "  warnings.warn(\n",
      "[Parallel(n_jobs=7)]: Using backend ThreadingBackend with 7 concurrent workers.\n",
      "[Parallel(n_jobs=7)]: Done  36 tasks      | elapsed:    0.0s\n"
     ]
    },
    {
     "name": "stdout",
     "output_type": "stream",
     "text": [
      "——————————————————————————————\n",
      "55 / 100\n"
     ]
    },
    {
     "name": "stderr",
     "output_type": "stream",
     "text": [
      "[Parallel(n_jobs=7)]: Done 186 tasks      | elapsed:    0.1s\n",
      "[Parallel(n_jobs=7)]: Done 436 tasks      | elapsed:    0.3s\n",
      "[Parallel(n_jobs=7)]: Done 786 tasks      | elapsed:    0.3s\n",
      "[Parallel(n_jobs=7)]: Done 1236 tasks      | elapsed:    0.4s\n",
      "[Parallel(n_jobs=7)]: Done 1786 tasks      | elapsed:    0.5s\n",
      "[Parallel(n_jobs=7)]: Done 2436 tasks      | elapsed:    0.6s\n",
      "[Parallel(n_jobs=7)]: Done 3186 tasks      | elapsed:    0.7s\n",
      "[Parallel(n_jobs=7)]: Done 4036 tasks      | elapsed:    0.8s\n",
      "[Parallel(n_jobs=7)]: Done 4986 tasks      | elapsed:    1.0s\n",
      "[Parallel(n_jobs=7)]: Done 6036 tasks      | elapsed:    1.2s\n",
      "[Parallel(n_jobs=7)]: Done 7186 tasks      | elapsed:    1.3s\n",
      "[Parallel(n_jobs=7)]: Done 8436 tasks      | elapsed:    1.5s\n",
      "[Parallel(n_jobs=7)]: Done 9786 tasks      | elapsed:    1.8s\n",
      "[Parallel(n_jobs=7)]: Done 11236 tasks      | elapsed:    2.0s\n",
      "[Parallel(n_jobs=7)]: Done 11750 out of 11750 | elapsed:    2.1s finished\n",
      "/Users/Nicolas/.local/share/virtualenvs/hw45-V0go0g1U/lib/python3.8/site-packages/sklearn/base.py:450: UserWarning: X does not have valid feature names, but RandomForestClassifier was fitted with feature names\n",
      "  warnings.warn(\n",
      "[Parallel(n_jobs=7)]: Using backend ThreadingBackend with 7 concurrent workers.\n",
      "[Parallel(n_jobs=7)]: Done  36 tasks      | elapsed:    0.0s\n"
     ]
    },
    {
     "name": "stdout",
     "output_type": "stream",
     "text": [
      "——————————————————————————————\n",
      "56 / 100\n"
     ]
    },
    {
     "name": "stderr",
     "output_type": "stream",
     "text": [
      "[Parallel(n_jobs=7)]: Done 186 tasks      | elapsed:    0.1s\n",
      "[Parallel(n_jobs=7)]: Done 436 tasks      | elapsed:    0.3s\n",
      "[Parallel(n_jobs=7)]: Done 786 tasks      | elapsed:    0.3s\n",
      "[Parallel(n_jobs=7)]: Done 1236 tasks      | elapsed:    0.4s\n",
      "[Parallel(n_jobs=7)]: Done 1786 tasks      | elapsed:    0.5s\n",
      "[Parallel(n_jobs=7)]: Done 2436 tasks      | elapsed:    0.6s\n",
      "[Parallel(n_jobs=7)]: Done 3186 tasks      | elapsed:    0.7s\n",
      "[Parallel(n_jobs=7)]: Done 4036 tasks      | elapsed:    0.8s\n",
      "[Parallel(n_jobs=7)]: Done 4986 tasks      | elapsed:    1.0s\n",
      "[Parallel(n_jobs=7)]: Done 6036 tasks      | elapsed:    1.1s\n",
      "[Parallel(n_jobs=7)]: Done 7186 tasks      | elapsed:    1.3s\n",
      "[Parallel(n_jobs=7)]: Done 8436 tasks      | elapsed:    1.5s\n",
      "[Parallel(n_jobs=7)]: Done 9786 tasks      | elapsed:    1.7s\n",
      "[Parallel(n_jobs=7)]: Done 11236 tasks      | elapsed:    1.9s\n",
      "[Parallel(n_jobs=7)]: Done 11750 out of 11750 | elapsed:    2.0s finished\n",
      "/Users/Nicolas/.local/share/virtualenvs/hw45-V0go0g1U/lib/python3.8/site-packages/sklearn/base.py:450: UserWarning: X does not have valid feature names, but RandomForestClassifier was fitted with feature names\n",
      "  warnings.warn(\n",
      "[Parallel(n_jobs=7)]: Using backend ThreadingBackend with 7 concurrent workers.\n",
      "[Parallel(n_jobs=7)]: Done  36 tasks      | elapsed:    0.0s\n"
     ]
    },
    {
     "name": "stdout",
     "output_type": "stream",
     "text": [
      "——————————————————————————————\n",
      "57 / 100\n"
     ]
    },
    {
     "name": "stderr",
     "output_type": "stream",
     "text": [
      "[Parallel(n_jobs=7)]: Done 186 tasks      | elapsed:    0.1s\n",
      "[Parallel(n_jobs=7)]: Done 436 tasks      | elapsed:    0.3s\n",
      "[Parallel(n_jobs=7)]: Done 786 tasks      | elapsed:    0.3s\n",
      "[Parallel(n_jobs=7)]: Done 1236 tasks      | elapsed:    0.4s\n",
      "[Parallel(n_jobs=7)]: Done 1786 tasks      | elapsed:    0.5s\n",
      "[Parallel(n_jobs=7)]: Done 2436 tasks      | elapsed:    0.6s\n",
      "[Parallel(n_jobs=7)]: Done 3186 tasks      | elapsed:    0.7s\n",
      "[Parallel(n_jobs=7)]: Done 4036 tasks      | elapsed:    0.8s\n",
      "[Parallel(n_jobs=7)]: Done 4986 tasks      | elapsed:    1.0s\n",
      "[Parallel(n_jobs=7)]: Done 6036 tasks      | elapsed:    1.2s\n",
      "[Parallel(n_jobs=7)]: Done 7186 tasks      | elapsed:    1.4s\n",
      "[Parallel(n_jobs=7)]: Done 8436 tasks      | elapsed:    1.6s\n",
      "[Parallel(n_jobs=7)]: Done 9786 tasks      | elapsed:    1.8s\n",
      "[Parallel(n_jobs=7)]: Done 11236 tasks      | elapsed:    2.0s\n",
      "[Parallel(n_jobs=7)]: Done 11750 out of 11750 | elapsed:    2.1s finished\n",
      "/Users/Nicolas/.local/share/virtualenvs/hw45-V0go0g1U/lib/python3.8/site-packages/sklearn/base.py:450: UserWarning: X does not have valid feature names, but RandomForestClassifier was fitted with feature names\n",
      "  warnings.warn(\n",
      "[Parallel(n_jobs=7)]: Using backend ThreadingBackend with 7 concurrent workers.\n",
      "[Parallel(n_jobs=7)]: Done  36 tasks      | elapsed:    0.0s\n"
     ]
    },
    {
     "name": "stdout",
     "output_type": "stream",
     "text": [
      "——————————————————————————————\n",
      "58 / 100\n"
     ]
    },
    {
     "name": "stderr",
     "output_type": "stream",
     "text": [
      "[Parallel(n_jobs=7)]: Done 186 tasks      | elapsed:    0.1s\n",
      "[Parallel(n_jobs=7)]: Done 436 tasks      | elapsed:    0.2s\n",
      "[Parallel(n_jobs=7)]: Done 786 tasks      | elapsed:    0.3s\n",
      "[Parallel(n_jobs=7)]: Done 1236 tasks      | elapsed:    0.4s\n",
      "[Parallel(n_jobs=7)]: Done 1786 tasks      | elapsed:    0.4s\n",
      "[Parallel(n_jobs=7)]: Done 2436 tasks      | elapsed:    0.5s\n",
      "[Parallel(n_jobs=7)]: Done 3186 tasks      | elapsed:    0.7s\n",
      "[Parallel(n_jobs=7)]: Done 4036 tasks      | elapsed:    0.8s\n",
      "[Parallel(n_jobs=7)]: Done 4986 tasks      | elapsed:    0.9s\n",
      "[Parallel(n_jobs=7)]: Done 6036 tasks      | elapsed:    1.1s\n",
      "[Parallel(n_jobs=7)]: Done 7186 tasks      | elapsed:    1.3s\n",
      "[Parallel(n_jobs=7)]: Done 8436 tasks      | elapsed:    1.4s\n",
      "[Parallel(n_jobs=7)]: Done 9786 tasks      | elapsed:    1.7s\n",
      "[Parallel(n_jobs=7)]: Done 11236 tasks      | elapsed:    1.9s\n",
      "[Parallel(n_jobs=7)]: Done 11750 out of 11750 | elapsed:    1.9s finished\n",
      "/Users/Nicolas/.local/share/virtualenvs/hw45-V0go0g1U/lib/python3.8/site-packages/sklearn/base.py:450: UserWarning: X does not have valid feature names, but RandomForestClassifier was fitted with feature names\n",
      "  warnings.warn(\n",
      "[Parallel(n_jobs=7)]: Using backend ThreadingBackend with 7 concurrent workers.\n",
      "[Parallel(n_jobs=7)]: Done  36 tasks      | elapsed:    0.0s\n"
     ]
    },
    {
     "name": "stdout",
     "output_type": "stream",
     "text": [
      "——————————————————————————————\n",
      "59 / 100\n"
     ]
    },
    {
     "name": "stderr",
     "output_type": "stream",
     "text": [
      "[Parallel(n_jobs=7)]: Done 186 tasks      | elapsed:    0.1s\n",
      "[Parallel(n_jobs=7)]: Done 436 tasks      | elapsed:    0.2s\n",
      "[Parallel(n_jobs=7)]: Done 786 tasks      | elapsed:    0.3s\n",
      "[Parallel(n_jobs=7)]: Done 1236 tasks      | elapsed:    0.4s\n",
      "[Parallel(n_jobs=7)]: Done 1786 tasks      | elapsed:    0.4s\n",
      "[Parallel(n_jobs=7)]: Done 2436 tasks      | elapsed:    0.5s\n",
      "[Parallel(n_jobs=7)]: Done 3186 tasks      | elapsed:    0.7s\n",
      "[Parallel(n_jobs=7)]: Done 4036 tasks      | elapsed:    0.8s\n",
      "[Parallel(n_jobs=7)]: Done 4986 tasks      | elapsed:    0.9s\n",
      "[Parallel(n_jobs=7)]: Done 6036 tasks      | elapsed:    1.1s\n",
      "[Parallel(n_jobs=7)]: Done 7186 tasks      | elapsed:    1.2s\n",
      "[Parallel(n_jobs=7)]: Done 8436 tasks      | elapsed:    1.4s\n",
      "[Parallel(n_jobs=7)]: Done 9786 tasks      | elapsed:    1.6s\n",
      "[Parallel(n_jobs=7)]: Done 11236 tasks      | elapsed:    1.8s\n",
      "[Parallel(n_jobs=7)]: Done 11750 out of 11750 | elapsed:    1.9s finished\n",
      "/Users/Nicolas/.local/share/virtualenvs/hw45-V0go0g1U/lib/python3.8/site-packages/sklearn/base.py:450: UserWarning: X does not have valid feature names, but RandomForestClassifier was fitted with feature names\n",
      "  warnings.warn(\n",
      "[Parallel(n_jobs=7)]: Using backend ThreadingBackend with 7 concurrent workers.\n",
      "[Parallel(n_jobs=7)]: Done  36 tasks      | elapsed:    0.0s\n"
     ]
    },
    {
     "name": "stdout",
     "output_type": "stream",
     "text": [
      "——————————————————————————————\n",
      "60 / 100\n"
     ]
    },
    {
     "name": "stderr",
     "output_type": "stream",
     "text": [
      "[Parallel(n_jobs=7)]: Done 186 tasks      | elapsed:    0.1s\n",
      "[Parallel(n_jobs=7)]: Done 436 tasks      | elapsed:    0.3s\n",
      "[Parallel(n_jobs=7)]: Done 786 tasks      | elapsed:    0.3s\n",
      "[Parallel(n_jobs=7)]: Done 1236 tasks      | elapsed:    0.4s\n",
      "[Parallel(n_jobs=7)]: Done 1786 tasks      | elapsed:    0.5s\n",
      "[Parallel(n_jobs=7)]: Done 2436 tasks      | elapsed:    0.6s\n",
      "[Parallel(n_jobs=7)]: Done 3186 tasks      | elapsed:    0.7s\n",
      "[Parallel(n_jobs=7)]: Done 4036 tasks      | elapsed:    0.8s\n",
      "[Parallel(n_jobs=7)]: Done 4986 tasks      | elapsed:    1.0s\n",
      "[Parallel(n_jobs=7)]: Done 6036 tasks      | elapsed:    1.1s\n",
      "[Parallel(n_jobs=7)]: Done 7186 tasks      | elapsed:    1.3s\n",
      "[Parallel(n_jobs=7)]: Done 8436 tasks      | elapsed:    1.5s\n",
      "[Parallel(n_jobs=7)]: Done 9786 tasks      | elapsed:    1.7s\n",
      "[Parallel(n_jobs=7)]: Done 11236 tasks      | elapsed:    1.9s\n",
      "[Parallel(n_jobs=7)]: Done 11750 out of 11750 | elapsed:    2.0s finished\n",
      "/Users/Nicolas/.local/share/virtualenvs/hw45-V0go0g1U/lib/python3.8/site-packages/sklearn/base.py:450: UserWarning: X does not have valid feature names, but RandomForestClassifier was fitted with feature names\n",
      "  warnings.warn(\n",
      "[Parallel(n_jobs=7)]: Using backend ThreadingBackend with 7 concurrent workers.\n",
      "[Parallel(n_jobs=7)]: Done  36 tasks      | elapsed:    0.0s\n"
     ]
    },
    {
     "name": "stdout",
     "output_type": "stream",
     "text": [
      "——————————————————————————————\n",
      "61 / 100\n"
     ]
    },
    {
     "name": "stderr",
     "output_type": "stream",
     "text": [
      "[Parallel(n_jobs=7)]: Done 186 tasks      | elapsed:    0.1s\n",
      "[Parallel(n_jobs=7)]: Done 436 tasks      | elapsed:    0.2s\n",
      "[Parallel(n_jobs=7)]: Done 786 tasks      | elapsed:    0.3s\n",
      "[Parallel(n_jobs=7)]: Done 1236 tasks      | elapsed:    0.4s\n",
      "[Parallel(n_jobs=7)]: Done 1786 tasks      | elapsed:    0.4s\n",
      "[Parallel(n_jobs=7)]: Done 2436 tasks      | elapsed:    0.5s\n",
      "[Parallel(n_jobs=7)]: Done 3186 tasks      | elapsed:    0.6s\n",
      "[Parallel(n_jobs=7)]: Done 4036 tasks      | elapsed:    0.8s\n",
      "[Parallel(n_jobs=7)]: Done 4986 tasks      | elapsed:    0.9s\n",
      "[Parallel(n_jobs=7)]: Done 6036 tasks      | elapsed:    1.1s\n",
      "[Parallel(n_jobs=7)]: Done 7186 tasks      | elapsed:    1.2s\n",
      "[Parallel(n_jobs=7)]: Done 8436 tasks      | elapsed:    1.4s\n",
      "[Parallel(n_jobs=7)]: Done 9786 tasks      | elapsed:    1.6s\n",
      "[Parallel(n_jobs=7)]: Done 11236 tasks      | elapsed:    1.8s\n",
      "[Parallel(n_jobs=7)]: Done 11750 out of 11750 | elapsed:    1.9s finished\n",
      "/Users/Nicolas/.local/share/virtualenvs/hw45-V0go0g1U/lib/python3.8/site-packages/sklearn/base.py:450: UserWarning: X does not have valid feature names, but RandomForestClassifier was fitted with feature names\n",
      "  warnings.warn(\n",
      "[Parallel(n_jobs=7)]: Using backend ThreadingBackend with 7 concurrent workers.\n",
      "[Parallel(n_jobs=7)]: Done  36 tasks      | elapsed:    0.0s\n"
     ]
    },
    {
     "name": "stdout",
     "output_type": "stream",
     "text": [
      "——————————————————————————————\n",
      "62 / 100\n"
     ]
    },
    {
     "name": "stderr",
     "output_type": "stream",
     "text": [
      "[Parallel(n_jobs=7)]: Done 186 tasks      | elapsed:    0.1s\n",
      "[Parallel(n_jobs=7)]: Done 436 tasks      | elapsed:    0.2s\n",
      "[Parallel(n_jobs=7)]: Done 786 tasks      | elapsed:    0.3s\n",
      "[Parallel(n_jobs=7)]: Done 1236 tasks      | elapsed:    0.4s\n",
      "[Parallel(n_jobs=7)]: Done 1786 tasks      | elapsed:    0.5s\n",
      "[Parallel(n_jobs=7)]: Done 2436 tasks      | elapsed:    0.6s\n",
      "[Parallel(n_jobs=7)]: Done 3186 tasks      | elapsed:    0.7s\n",
      "[Parallel(n_jobs=7)]: Done 4036 tasks      | elapsed:    0.8s\n",
      "[Parallel(n_jobs=7)]: Done 4986 tasks      | elapsed:    1.0s\n",
      "[Parallel(n_jobs=7)]: Done 6036 tasks      | elapsed:    1.1s\n",
      "[Parallel(n_jobs=7)]: Done 7186 tasks      | elapsed:    1.3s\n",
      "[Parallel(n_jobs=7)]: Done 8436 tasks      | elapsed:    1.5s\n",
      "[Parallel(n_jobs=7)]: Done 9786 tasks      | elapsed:    1.7s\n",
      "[Parallel(n_jobs=7)]: Done 11236 tasks      | elapsed:    1.9s\n",
      "[Parallel(n_jobs=7)]: Done 11750 out of 11750 | elapsed:    2.0s finished\n",
      "/Users/Nicolas/.local/share/virtualenvs/hw45-V0go0g1U/lib/python3.8/site-packages/sklearn/base.py:450: UserWarning: X does not have valid feature names, but RandomForestClassifier was fitted with feature names\n",
      "  warnings.warn(\n",
      "[Parallel(n_jobs=7)]: Using backend ThreadingBackend with 7 concurrent workers.\n",
      "[Parallel(n_jobs=7)]: Done  36 tasks      | elapsed:    0.0s\n"
     ]
    },
    {
     "name": "stdout",
     "output_type": "stream",
     "text": [
      "——————————————————————————————\n",
      "63 / 100\n"
     ]
    },
    {
     "name": "stderr",
     "output_type": "stream",
     "text": [
      "[Parallel(n_jobs=7)]: Done 186 tasks      | elapsed:    0.1s\n",
      "[Parallel(n_jobs=7)]: Done 436 tasks      | elapsed:    0.3s\n",
      "[Parallel(n_jobs=7)]: Done 786 tasks      | elapsed:    0.3s\n",
      "[Parallel(n_jobs=7)]: Done 1236 tasks      | elapsed:    0.4s\n",
      "[Parallel(n_jobs=7)]: Done 1786 tasks      | elapsed:    0.5s\n",
      "[Parallel(n_jobs=7)]: Done 2436 tasks      | elapsed:    0.6s\n",
      "[Parallel(n_jobs=7)]: Done 3186 tasks      | elapsed:    0.7s\n",
      "[Parallel(n_jobs=7)]: Done 4036 tasks      | elapsed:    0.8s\n",
      "[Parallel(n_jobs=7)]: Done 4986 tasks      | elapsed:    1.0s\n",
      "[Parallel(n_jobs=7)]: Done 6036 tasks      | elapsed:    1.1s\n",
      "[Parallel(n_jobs=7)]: Done 7186 tasks      | elapsed:    1.3s\n",
      "[Parallel(n_jobs=7)]: Done 8436 tasks      | elapsed:    1.5s\n",
      "[Parallel(n_jobs=7)]: Done 9786 tasks      | elapsed:    1.7s\n",
      "[Parallel(n_jobs=7)]: Done 11236 tasks      | elapsed:    1.9s\n",
      "[Parallel(n_jobs=7)]: Done 11750 out of 11750 | elapsed:    2.0s finished\n",
      "/Users/Nicolas/.local/share/virtualenvs/hw45-V0go0g1U/lib/python3.8/site-packages/sklearn/base.py:450: UserWarning: X does not have valid feature names, but RandomForestClassifier was fitted with feature names\n",
      "  warnings.warn(\n",
      "[Parallel(n_jobs=7)]: Using backend ThreadingBackend with 7 concurrent workers.\n",
      "[Parallel(n_jobs=7)]: Done  36 tasks      | elapsed:    0.0s\n"
     ]
    },
    {
     "name": "stdout",
     "output_type": "stream",
     "text": [
      "——————————————————————————————\n",
      "64 / 100\n"
     ]
    },
    {
     "name": "stderr",
     "output_type": "stream",
     "text": [
      "[Parallel(n_jobs=7)]: Done 186 tasks      | elapsed:    0.1s\n",
      "[Parallel(n_jobs=7)]: Done 436 tasks      | elapsed:    0.3s\n",
      "[Parallel(n_jobs=7)]: Done 786 tasks      | elapsed:    0.3s\n",
      "[Parallel(n_jobs=7)]: Done 1236 tasks      | elapsed:    0.4s\n",
      "[Parallel(n_jobs=7)]: Done 1786 tasks      | elapsed:    0.5s\n",
      "[Parallel(n_jobs=7)]: Done 2436 tasks      | elapsed:    0.6s\n",
      "[Parallel(n_jobs=7)]: Done 3186 tasks      | elapsed:    0.7s\n",
      "[Parallel(n_jobs=7)]: Done 4036 tasks      | elapsed:    0.8s\n",
      "[Parallel(n_jobs=7)]: Done 4986 tasks      | elapsed:    1.0s\n",
      "[Parallel(n_jobs=7)]: Done 6036 tasks      | elapsed:    1.2s\n",
      "[Parallel(n_jobs=7)]: Done 7186 tasks      | elapsed:    1.3s\n",
      "[Parallel(n_jobs=7)]: Done 8436 tasks      | elapsed:    1.5s\n",
      "[Parallel(n_jobs=7)]: Done 9786 tasks      | elapsed:    1.7s\n",
      "[Parallel(n_jobs=7)]: Done 11236 tasks      | elapsed:    2.0s\n",
      "[Parallel(n_jobs=7)]: Done 11750 out of 11750 | elapsed:    2.1s finished\n",
      "/Users/Nicolas/.local/share/virtualenvs/hw45-V0go0g1U/lib/python3.8/site-packages/sklearn/base.py:450: UserWarning: X does not have valid feature names, but RandomForestClassifier was fitted with feature names\n",
      "  warnings.warn(\n",
      "[Parallel(n_jobs=7)]: Using backend ThreadingBackend with 7 concurrent workers.\n",
      "[Parallel(n_jobs=7)]: Done  36 tasks      | elapsed:    0.0s\n"
     ]
    },
    {
     "name": "stdout",
     "output_type": "stream",
     "text": [
      "——————————————————————————————\n",
      "65 / 100\n"
     ]
    },
    {
     "name": "stderr",
     "output_type": "stream",
     "text": [
      "[Parallel(n_jobs=7)]: Done 186 tasks      | elapsed:    0.1s\n",
      "[Parallel(n_jobs=7)]: Done 436 tasks      | elapsed:    0.2s\n",
      "[Parallel(n_jobs=7)]: Done 786 tasks      | elapsed:    0.3s\n",
      "[Parallel(n_jobs=7)]: Done 1236 tasks      | elapsed:    0.4s\n",
      "[Parallel(n_jobs=7)]: Done 1786 tasks      | elapsed:    0.5s\n",
      "[Parallel(n_jobs=7)]: Done 2436 tasks      | elapsed:    0.6s\n",
      "[Parallel(n_jobs=7)]: Done 3186 tasks      | elapsed:    0.7s\n",
      "[Parallel(n_jobs=7)]: Done 4036 tasks      | elapsed:    0.8s\n",
      "[Parallel(n_jobs=7)]: Done 4986 tasks      | elapsed:    1.0s\n",
      "[Parallel(n_jobs=7)]: Done 6036 tasks      | elapsed:    1.2s\n",
      "[Parallel(n_jobs=7)]: Done 7186 tasks      | elapsed:    1.3s\n",
      "[Parallel(n_jobs=7)]: Done 8436 tasks      | elapsed:    1.5s\n",
      "[Parallel(n_jobs=7)]: Done 9786 tasks      | elapsed:    1.7s\n",
      "[Parallel(n_jobs=7)]: Done 11236 tasks      | elapsed:    2.0s\n",
      "[Parallel(n_jobs=7)]: Done 11750 out of 11750 | elapsed:    2.0s finished\n",
      "/Users/Nicolas/.local/share/virtualenvs/hw45-V0go0g1U/lib/python3.8/site-packages/sklearn/base.py:450: UserWarning: X does not have valid feature names, but RandomForestClassifier was fitted with feature names\n",
      "  warnings.warn(\n",
      "[Parallel(n_jobs=7)]: Using backend ThreadingBackend with 7 concurrent workers.\n",
      "[Parallel(n_jobs=7)]: Done  36 tasks      | elapsed:    0.0s\n"
     ]
    },
    {
     "name": "stdout",
     "output_type": "stream",
     "text": [
      "——————————————————————————————\n",
      "66 / 100\n"
     ]
    },
    {
     "name": "stderr",
     "output_type": "stream",
     "text": [
      "[Parallel(n_jobs=7)]: Done 186 tasks      | elapsed:    0.1s\n",
      "[Parallel(n_jobs=7)]: Done 436 tasks      | elapsed:    0.2s\n",
      "[Parallel(n_jobs=7)]: Done 786 tasks      | elapsed:    0.3s\n",
      "[Parallel(n_jobs=7)]: Done 1236 tasks      | elapsed:    0.4s\n",
      "[Parallel(n_jobs=7)]: Done 1786 tasks      | elapsed:    0.5s\n",
      "[Parallel(n_jobs=7)]: Done 2436 tasks      | elapsed:    0.6s\n",
      "[Parallel(n_jobs=7)]: Done 3186 tasks      | elapsed:    0.7s\n",
      "[Parallel(n_jobs=7)]: Done 4036 tasks      | elapsed:    0.8s\n",
      "[Parallel(n_jobs=7)]: Done 4986 tasks      | elapsed:    1.0s\n",
      "[Parallel(n_jobs=7)]: Done 6036 tasks      | elapsed:    1.1s\n",
      "[Parallel(n_jobs=7)]: Done 7186 tasks      | elapsed:    1.3s\n",
      "[Parallel(n_jobs=7)]: Done 8436 tasks      | elapsed:    1.5s\n",
      "[Parallel(n_jobs=7)]: Done 9786 tasks      | elapsed:    1.7s\n",
      "[Parallel(n_jobs=7)]: Done 11236 tasks      | elapsed:    2.0s\n",
      "[Parallel(n_jobs=7)]: Done 11750 out of 11750 | elapsed:    2.0s finished\n",
      "/Users/Nicolas/.local/share/virtualenvs/hw45-V0go0g1U/lib/python3.8/site-packages/sklearn/base.py:450: UserWarning: X does not have valid feature names, but RandomForestClassifier was fitted with feature names\n",
      "  warnings.warn(\n",
      "[Parallel(n_jobs=7)]: Using backend ThreadingBackend with 7 concurrent workers.\n",
      "[Parallel(n_jobs=7)]: Done  36 tasks      | elapsed:    0.0s\n"
     ]
    },
    {
     "name": "stdout",
     "output_type": "stream",
     "text": [
      "——————————————————————————————\n",
      "67 / 100\n"
     ]
    },
    {
     "name": "stderr",
     "output_type": "stream",
     "text": [
      "[Parallel(n_jobs=7)]: Done 186 tasks      | elapsed:    0.1s\n",
      "[Parallel(n_jobs=7)]: Done 436 tasks      | elapsed:    0.2s\n",
      "[Parallel(n_jobs=7)]: Done 786 tasks      | elapsed:    0.3s\n",
      "[Parallel(n_jobs=7)]: Done 1236 tasks      | elapsed:    0.4s\n",
      "[Parallel(n_jobs=7)]: Done 1786 tasks      | elapsed:    0.5s\n",
      "[Parallel(n_jobs=7)]: Done 2436 tasks      | elapsed:    0.5s\n",
      "[Parallel(n_jobs=7)]: Done 3186 tasks      | elapsed:    0.7s\n",
      "[Parallel(n_jobs=7)]: Done 4036 tasks      | elapsed:    0.8s\n",
      "[Parallel(n_jobs=7)]: Done 4986 tasks      | elapsed:    0.9s\n",
      "[Parallel(n_jobs=7)]: Done 6036 tasks      | elapsed:    1.1s\n",
      "[Parallel(n_jobs=7)]: Done 7186 tasks      | elapsed:    1.3s\n",
      "[Parallel(n_jobs=7)]: Done 8436 tasks      | elapsed:    1.5s\n",
      "[Parallel(n_jobs=7)]: Done 9786 tasks      | elapsed:    1.7s\n",
      "[Parallel(n_jobs=7)]: Done 11236 tasks      | elapsed:    1.9s\n",
      "[Parallel(n_jobs=7)]: Done 11750 out of 11750 | elapsed:    2.0s finished\n",
      "/Users/Nicolas/.local/share/virtualenvs/hw45-V0go0g1U/lib/python3.8/site-packages/sklearn/base.py:450: UserWarning: X does not have valid feature names, but RandomForestClassifier was fitted with feature names\n",
      "  warnings.warn(\n",
      "[Parallel(n_jobs=7)]: Using backend ThreadingBackend with 7 concurrent workers.\n",
      "[Parallel(n_jobs=7)]: Done  36 tasks      | elapsed:    0.0s\n"
     ]
    },
    {
     "name": "stdout",
     "output_type": "stream",
     "text": [
      "——————————————————————————————\n",
      "68 / 100\n"
     ]
    },
    {
     "name": "stderr",
     "output_type": "stream",
     "text": [
      "[Parallel(n_jobs=7)]: Done 186 tasks      | elapsed:    0.1s\n",
      "[Parallel(n_jobs=7)]: Done 436 tasks      | elapsed:    0.2s\n",
      "[Parallel(n_jobs=7)]: Done 786 tasks      | elapsed:    0.3s\n",
      "[Parallel(n_jobs=7)]: Done 1236 tasks      | elapsed:    0.4s\n",
      "[Parallel(n_jobs=7)]: Done 1786 tasks      | elapsed:    0.4s\n",
      "[Parallel(n_jobs=7)]: Done 2436 tasks      | elapsed:    0.5s\n",
      "[Parallel(n_jobs=7)]: Done 3186 tasks      | elapsed:    0.6s\n",
      "[Parallel(n_jobs=7)]: Done 4036 tasks      | elapsed:    0.8s\n",
      "[Parallel(n_jobs=7)]: Done 4986 tasks      | elapsed:    0.9s\n",
      "[Parallel(n_jobs=7)]: Done 6036 tasks      | elapsed:    1.1s\n",
      "[Parallel(n_jobs=7)]: Done 7186 tasks      | elapsed:    1.2s\n",
      "[Parallel(n_jobs=7)]: Done 8436 tasks      | elapsed:    1.4s\n",
      "[Parallel(n_jobs=7)]: Done 9786 tasks      | elapsed:    1.6s\n",
      "[Parallel(n_jobs=7)]: Done 11236 tasks      | elapsed:    1.8s\n",
      "[Parallel(n_jobs=7)]: Done 11750 out of 11750 | elapsed:    1.9s finished\n",
      "/Users/Nicolas/.local/share/virtualenvs/hw45-V0go0g1U/lib/python3.8/site-packages/sklearn/base.py:450: UserWarning: X does not have valid feature names, but RandomForestClassifier was fitted with feature names\n",
      "  warnings.warn(\n",
      "[Parallel(n_jobs=7)]: Using backend ThreadingBackend with 7 concurrent workers.\n",
      "[Parallel(n_jobs=7)]: Done  36 tasks      | elapsed:    0.0s\n"
     ]
    },
    {
     "name": "stdout",
     "output_type": "stream",
     "text": [
      "——————————————————————————————\n",
      "69 / 100\n"
     ]
    },
    {
     "name": "stderr",
     "output_type": "stream",
     "text": [
      "[Parallel(n_jobs=7)]: Done 186 tasks      | elapsed:    0.1s\n",
      "[Parallel(n_jobs=7)]: Done 436 tasks      | elapsed:    0.2s\n",
      "[Parallel(n_jobs=7)]: Done 786 tasks      | elapsed:    0.3s\n",
      "[Parallel(n_jobs=7)]: Done 1236 tasks      | elapsed:    0.4s\n",
      "[Parallel(n_jobs=7)]: Done 1786 tasks      | elapsed:    0.5s\n",
      "[Parallel(n_jobs=7)]: Done 2436 tasks      | elapsed:    0.6s\n",
      "[Parallel(n_jobs=7)]: Done 3186 tasks      | elapsed:    0.7s\n",
      "[Parallel(n_jobs=7)]: Done 4036 tasks      | elapsed:    0.8s\n",
      "[Parallel(n_jobs=7)]: Done 4986 tasks      | elapsed:    0.9s\n",
      "[Parallel(n_jobs=7)]: Done 6036 tasks      | elapsed:    1.1s\n",
      "[Parallel(n_jobs=7)]: Done 7186 tasks      | elapsed:    1.2s\n",
      "[Parallel(n_jobs=7)]: Done 8436 tasks      | elapsed:    1.4s\n",
      "[Parallel(n_jobs=7)]: Done 9786 tasks      | elapsed:    1.6s\n",
      "[Parallel(n_jobs=7)]: Done 11236 tasks      | elapsed:    1.8s\n",
      "[Parallel(n_jobs=7)]: Done 11750 out of 11750 | elapsed:    1.9s finished\n",
      "/Users/Nicolas/.local/share/virtualenvs/hw45-V0go0g1U/lib/python3.8/site-packages/sklearn/base.py:450: UserWarning: X does not have valid feature names, but RandomForestClassifier was fitted with feature names\n",
      "  warnings.warn(\n",
      "[Parallel(n_jobs=7)]: Using backend ThreadingBackend with 7 concurrent workers.\n",
      "[Parallel(n_jobs=7)]: Done  36 tasks      | elapsed:    0.0s\n"
     ]
    },
    {
     "name": "stdout",
     "output_type": "stream",
     "text": [
      "——————————————————————————————\n",
      "70 / 100\n"
     ]
    },
    {
     "name": "stderr",
     "output_type": "stream",
     "text": [
      "[Parallel(n_jobs=7)]: Done 186 tasks      | elapsed:    0.1s\n",
      "[Parallel(n_jobs=7)]: Done 436 tasks      | elapsed:    0.2s\n",
      "[Parallel(n_jobs=7)]: Done 786 tasks      | elapsed:    0.3s\n",
      "[Parallel(n_jobs=7)]: Done 1236 tasks      | elapsed:    0.4s\n",
      "[Parallel(n_jobs=7)]: Done 1786 tasks      | elapsed:    0.5s\n",
      "[Parallel(n_jobs=7)]: Done 2436 tasks      | elapsed:    0.6s\n",
      "[Parallel(n_jobs=7)]: Done 3186 tasks      | elapsed:    0.7s\n",
      "[Parallel(n_jobs=7)]: Done 4036 tasks      | elapsed:    0.8s\n",
      "[Parallel(n_jobs=7)]: Done 4986 tasks      | elapsed:    0.9s\n",
      "[Parallel(n_jobs=7)]: Done 6036 tasks      | elapsed:    1.1s\n",
      "[Parallel(n_jobs=7)]: Done 7186 tasks      | elapsed:    1.3s\n",
      "[Parallel(n_jobs=7)]: Done 8436 tasks      | elapsed:    1.5s\n",
      "[Parallel(n_jobs=7)]: Done 9786 tasks      | elapsed:    1.7s\n",
      "[Parallel(n_jobs=7)]: Done 11236 tasks      | elapsed:    1.9s\n",
      "[Parallel(n_jobs=7)]: Done 11750 out of 11750 | elapsed:    2.0s finished\n",
      "/Users/Nicolas/.local/share/virtualenvs/hw45-V0go0g1U/lib/python3.8/site-packages/sklearn/base.py:450: UserWarning: X does not have valid feature names, but RandomForestClassifier was fitted with feature names\n",
      "  warnings.warn(\n",
      "[Parallel(n_jobs=7)]: Using backend ThreadingBackend with 7 concurrent workers.\n",
      "[Parallel(n_jobs=7)]: Done  36 tasks      | elapsed:    0.0s\n"
     ]
    },
    {
     "name": "stdout",
     "output_type": "stream",
     "text": [
      "——————————————————————————————\n",
      "71 / 100\n"
     ]
    },
    {
     "name": "stderr",
     "output_type": "stream",
     "text": [
      "[Parallel(n_jobs=7)]: Done 186 tasks      | elapsed:    0.1s\n",
      "[Parallel(n_jobs=7)]: Done 436 tasks      | elapsed:    0.2s\n",
      "[Parallel(n_jobs=7)]: Done 786 tasks      | elapsed:    0.3s\n",
      "[Parallel(n_jobs=7)]: Done 1236 tasks      | elapsed:    0.4s\n",
      "[Parallel(n_jobs=7)]: Done 1786 tasks      | elapsed:    0.5s\n",
      "[Parallel(n_jobs=7)]: Done 2436 tasks      | elapsed:    0.5s\n",
      "[Parallel(n_jobs=7)]: Done 3186 tasks      | elapsed:    0.7s\n",
      "[Parallel(n_jobs=7)]: Done 4036 tasks      | elapsed:    0.8s\n",
      "[Parallel(n_jobs=7)]: Done 4986 tasks      | elapsed:    1.0s\n",
      "[Parallel(n_jobs=7)]: Done 6036 tasks      | elapsed:    1.1s\n",
      "[Parallel(n_jobs=7)]: Done 7186 tasks      | elapsed:    1.3s\n",
      "[Parallel(n_jobs=7)]: Done 8436 tasks      | elapsed:    1.5s\n",
      "[Parallel(n_jobs=7)]: Done 9786 tasks      | elapsed:    1.7s\n",
      "[Parallel(n_jobs=7)]: Done 11236 tasks      | elapsed:    1.9s\n",
      "[Parallel(n_jobs=7)]: Done 11750 out of 11750 | elapsed:    2.0s finished\n",
      "/Users/Nicolas/.local/share/virtualenvs/hw45-V0go0g1U/lib/python3.8/site-packages/sklearn/base.py:450: UserWarning: X does not have valid feature names, but RandomForestClassifier was fitted with feature names\n",
      "  warnings.warn(\n",
      "[Parallel(n_jobs=7)]: Using backend ThreadingBackend with 7 concurrent workers.\n",
      "[Parallel(n_jobs=7)]: Done  36 tasks      | elapsed:    0.0s\n"
     ]
    },
    {
     "name": "stdout",
     "output_type": "stream",
     "text": [
      "——————————————————————————————\n",
      "72 / 100\n"
     ]
    },
    {
     "name": "stderr",
     "output_type": "stream",
     "text": [
      "[Parallel(n_jobs=7)]: Done 186 tasks      | elapsed:    0.1s\n",
      "[Parallel(n_jobs=7)]: Done 436 tasks      | elapsed:    0.3s\n",
      "[Parallel(n_jobs=7)]: Done 786 tasks      | elapsed:    0.3s\n",
      "[Parallel(n_jobs=7)]: Done 1236 tasks      | elapsed:    0.4s\n",
      "[Parallel(n_jobs=7)]: Done 1786 tasks      | elapsed:    0.5s\n",
      "[Parallel(n_jobs=7)]: Done 2436 tasks      | elapsed:    0.6s\n",
      "[Parallel(n_jobs=7)]: Done 3186 tasks      | elapsed:    0.7s\n",
      "[Parallel(n_jobs=7)]: Done 4036 tasks      | elapsed:    0.8s\n",
      "[Parallel(n_jobs=7)]: Done 4986 tasks      | elapsed:    0.9s\n",
      "[Parallel(n_jobs=7)]: Done 6036 tasks      | elapsed:    1.1s\n",
      "[Parallel(n_jobs=7)]: Done 7186 tasks      | elapsed:    1.3s\n",
      "[Parallel(n_jobs=7)]: Done 8436 tasks      | elapsed:    1.5s\n",
      "[Parallel(n_jobs=7)]: Done 9786 tasks      | elapsed:    1.7s\n",
      "[Parallel(n_jobs=7)]: Done 11236 tasks      | elapsed:    1.9s\n",
      "[Parallel(n_jobs=7)]: Done 11750 out of 11750 | elapsed:    2.0s finished\n",
      "/Users/Nicolas/.local/share/virtualenvs/hw45-V0go0g1U/lib/python3.8/site-packages/sklearn/base.py:450: UserWarning: X does not have valid feature names, but RandomForestClassifier was fitted with feature names\n",
      "  warnings.warn(\n",
      "[Parallel(n_jobs=7)]: Using backend ThreadingBackend with 7 concurrent workers.\n",
      "[Parallel(n_jobs=7)]: Done  36 tasks      | elapsed:    0.0s\n"
     ]
    },
    {
     "name": "stdout",
     "output_type": "stream",
     "text": [
      "——————————————————————————————\n",
      "73 / 100\n"
     ]
    },
    {
     "name": "stderr",
     "output_type": "stream",
     "text": [
      "[Parallel(n_jobs=7)]: Done 186 tasks      | elapsed:    0.1s\n",
      "[Parallel(n_jobs=7)]: Done 436 tasks      | elapsed:    0.3s\n",
      "[Parallel(n_jobs=7)]: Done 786 tasks      | elapsed:    0.3s\n",
      "[Parallel(n_jobs=7)]: Done 1236 tasks      | elapsed:    0.4s\n",
      "[Parallel(n_jobs=7)]: Done 1786 tasks      | elapsed:    0.5s\n",
      "[Parallel(n_jobs=7)]: Done 2436 tasks      | elapsed:    0.5s\n",
      "[Parallel(n_jobs=7)]: Done 3186 tasks      | elapsed:    0.7s\n",
      "[Parallel(n_jobs=7)]: Done 4036 tasks      | elapsed:    0.8s\n",
      "[Parallel(n_jobs=7)]: Done 4986 tasks      | elapsed:    0.9s\n",
      "[Parallel(n_jobs=7)]: Done 6036 tasks      | elapsed:    1.1s\n",
      "[Parallel(n_jobs=7)]: Done 7186 tasks      | elapsed:    1.3s\n",
      "[Parallel(n_jobs=7)]: Done 8436 tasks      | elapsed:    1.5s\n",
      "[Parallel(n_jobs=7)]: Done 9786 tasks      | elapsed:    1.7s\n",
      "[Parallel(n_jobs=7)]: Done 11236 tasks      | elapsed:    1.9s\n",
      "[Parallel(n_jobs=7)]: Done 11750 out of 11750 | elapsed:    2.0s finished\n",
      "/Users/Nicolas/.local/share/virtualenvs/hw45-V0go0g1U/lib/python3.8/site-packages/sklearn/base.py:450: UserWarning: X does not have valid feature names, but RandomForestClassifier was fitted with feature names\n",
      "  warnings.warn(\n",
      "[Parallel(n_jobs=7)]: Using backend ThreadingBackend with 7 concurrent workers.\n",
      "[Parallel(n_jobs=7)]: Done  36 tasks      | elapsed:    0.0s\n"
     ]
    },
    {
     "name": "stdout",
     "output_type": "stream",
     "text": [
      "——————————————————————————————\n",
      "74 / 100\n"
     ]
    },
    {
     "name": "stderr",
     "output_type": "stream",
     "text": [
      "[Parallel(n_jobs=7)]: Done 186 tasks      | elapsed:    0.1s\n",
      "[Parallel(n_jobs=7)]: Done 436 tasks      | elapsed:    0.2s\n",
      "[Parallel(n_jobs=7)]: Done 786 tasks      | elapsed:    0.3s\n",
      "[Parallel(n_jobs=7)]: Done 1236 tasks      | elapsed:    0.4s\n",
      "[Parallel(n_jobs=7)]: Done 1786 tasks      | elapsed:    0.5s\n",
      "[Parallel(n_jobs=7)]: Done 2436 tasks      | elapsed:    0.6s\n",
      "[Parallel(n_jobs=7)]: Done 3186 tasks      | elapsed:    0.7s\n",
      "[Parallel(n_jobs=7)]: Done 4036 tasks      | elapsed:    0.8s\n",
      "[Parallel(n_jobs=7)]: Done 4986 tasks      | elapsed:    1.0s\n",
      "[Parallel(n_jobs=7)]: Done 6036 tasks      | elapsed:    1.3s\n",
      "[Parallel(n_jobs=7)]: Done 7186 tasks      | elapsed:    1.5s\n",
      "[Parallel(n_jobs=7)]: Done 8436 tasks      | elapsed:    1.7s\n",
      "[Parallel(n_jobs=7)]: Done 9786 tasks      | elapsed:    2.0s\n",
      "[Parallel(n_jobs=7)]: Done 11236 tasks      | elapsed:    2.2s\n",
      "[Parallel(n_jobs=7)]: Done 11750 out of 11750 | elapsed:    2.3s finished\n",
      "/Users/Nicolas/.local/share/virtualenvs/hw45-V0go0g1U/lib/python3.8/site-packages/sklearn/base.py:450: UserWarning: X does not have valid feature names, but RandomForestClassifier was fitted with feature names\n",
      "  warnings.warn(\n",
      "[Parallel(n_jobs=7)]: Using backend ThreadingBackend with 7 concurrent workers.\n",
      "[Parallel(n_jobs=7)]: Done  36 tasks      | elapsed:    0.0s\n"
     ]
    },
    {
     "name": "stdout",
     "output_type": "stream",
     "text": [
      "——————————————————————————————\n",
      "75 / 100\n"
     ]
    },
    {
     "name": "stderr",
     "output_type": "stream",
     "text": [
      "[Parallel(n_jobs=7)]: Done 186 tasks      | elapsed:    0.1s\n",
      "[Parallel(n_jobs=7)]: Done 436 tasks      | elapsed:    0.2s\n",
      "[Parallel(n_jobs=7)]: Done 786 tasks      | elapsed:    0.3s\n",
      "[Parallel(n_jobs=7)]: Done 1236 tasks      | elapsed:    0.4s\n",
      "[Parallel(n_jobs=7)]: Done 1786 tasks      | elapsed:    0.5s\n",
      "[Parallel(n_jobs=7)]: Done 2436 tasks      | elapsed:    0.6s\n",
      "[Parallel(n_jobs=7)]: Done 3186 tasks      | elapsed:    0.7s\n",
      "[Parallel(n_jobs=7)]: Done 4036 tasks      | elapsed:    0.8s\n",
      "[Parallel(n_jobs=7)]: Done 4986 tasks      | elapsed:    1.0s\n",
      "[Parallel(n_jobs=7)]: Done 6036 tasks      | elapsed:    1.2s\n",
      "[Parallel(n_jobs=7)]: Done 7186 tasks      | elapsed:    1.4s\n",
      "[Parallel(n_jobs=7)]: Done 8436 tasks      | elapsed:    1.7s\n",
      "[Parallel(n_jobs=7)]: Done 9786 tasks      | elapsed:    1.9s\n",
      "[Parallel(n_jobs=7)]: Done 11236 tasks      | elapsed:    2.1s\n",
      "[Parallel(n_jobs=7)]: Done 11750 out of 11750 | elapsed:    2.2s finished\n",
      "/Users/Nicolas/.local/share/virtualenvs/hw45-V0go0g1U/lib/python3.8/site-packages/sklearn/base.py:450: UserWarning: X does not have valid feature names, but RandomForestClassifier was fitted with feature names\n",
      "  warnings.warn(\n",
      "[Parallel(n_jobs=7)]: Using backend ThreadingBackend with 7 concurrent workers.\n",
      "[Parallel(n_jobs=7)]: Done  36 tasks      | elapsed:    0.0s\n"
     ]
    },
    {
     "name": "stdout",
     "output_type": "stream",
     "text": [
      "——————————————————————————————\n",
      "76 / 100\n"
     ]
    },
    {
     "name": "stderr",
     "output_type": "stream",
     "text": [
      "[Parallel(n_jobs=7)]: Done 186 tasks      | elapsed:    0.1s\n",
      "[Parallel(n_jobs=7)]: Done 436 tasks      | elapsed:    0.3s\n",
      "[Parallel(n_jobs=7)]: Done 786 tasks      | elapsed:    0.3s\n",
      "[Parallel(n_jobs=7)]: Done 1236 tasks      | elapsed:    0.4s\n",
      "[Parallel(n_jobs=7)]: Done 1786 tasks      | elapsed:    0.5s\n",
      "[Parallel(n_jobs=7)]: Done 2436 tasks      | elapsed:    0.6s\n",
      "[Parallel(n_jobs=7)]: Done 3186 tasks      | elapsed:    0.7s\n",
      "[Parallel(n_jobs=7)]: Done 4036 tasks      | elapsed:    0.8s\n",
      "[Parallel(n_jobs=7)]: Done 4986 tasks      | elapsed:    1.0s\n",
      "[Parallel(n_jobs=7)]: Done 6036 tasks      | elapsed:    1.2s\n",
      "[Parallel(n_jobs=7)]: Done 7186 tasks      | elapsed:    1.4s\n",
      "[Parallel(n_jobs=7)]: Done 8436 tasks      | elapsed:    1.6s\n",
      "[Parallel(n_jobs=7)]: Done 9786 tasks      | elapsed:    1.8s\n",
      "[Parallel(n_jobs=7)]: Done 11236 tasks      | elapsed:    2.0s\n",
      "[Parallel(n_jobs=7)]: Done 11750 out of 11750 | elapsed:    2.1s finished\n",
      "/Users/Nicolas/.local/share/virtualenvs/hw45-V0go0g1U/lib/python3.8/site-packages/sklearn/base.py:450: UserWarning: X does not have valid feature names, but RandomForestClassifier was fitted with feature names\n",
      "  warnings.warn(\n",
      "[Parallel(n_jobs=7)]: Using backend ThreadingBackend with 7 concurrent workers.\n",
      "[Parallel(n_jobs=7)]: Done  36 tasks      | elapsed:    0.0s\n"
     ]
    },
    {
     "name": "stdout",
     "output_type": "stream",
     "text": [
      "——————————————————————————————\n",
      "77 / 100\n"
     ]
    },
    {
     "name": "stderr",
     "output_type": "stream",
     "text": [
      "[Parallel(n_jobs=7)]: Done 186 tasks      | elapsed:    0.1s\n",
      "[Parallel(n_jobs=7)]: Done 436 tasks      | elapsed:    0.3s\n",
      "[Parallel(n_jobs=7)]: Done 786 tasks      | elapsed:    0.3s\n",
      "[Parallel(n_jobs=7)]: Done 1236 tasks      | elapsed:    0.4s\n",
      "[Parallel(n_jobs=7)]: Done 1786 tasks      | elapsed:    0.5s\n",
      "[Parallel(n_jobs=7)]: Done 2436 tasks      | elapsed:    0.6s\n",
      "[Parallel(n_jobs=7)]: Done 3186 tasks      | elapsed:    0.7s\n",
      "[Parallel(n_jobs=7)]: Done 4036 tasks      | elapsed:    0.8s\n",
      "[Parallel(n_jobs=7)]: Done 4986 tasks      | elapsed:    1.0s\n",
      "[Parallel(n_jobs=7)]: Done 6036 tasks      | elapsed:    1.2s\n",
      "[Parallel(n_jobs=7)]: Done 7186 tasks      | elapsed:    1.3s\n",
      "[Parallel(n_jobs=7)]: Done 8436 tasks      | elapsed:    1.5s\n",
      "[Parallel(n_jobs=7)]: Done 9786 tasks      | elapsed:    1.8s\n",
      "[Parallel(n_jobs=7)]: Done 11236 tasks      | elapsed:    2.0s\n",
      "[Parallel(n_jobs=7)]: Done 11750 out of 11750 | elapsed:    2.1s finished\n",
      "/Users/Nicolas/.local/share/virtualenvs/hw45-V0go0g1U/lib/python3.8/site-packages/sklearn/base.py:450: UserWarning: X does not have valid feature names, but RandomForestClassifier was fitted with feature names\n",
      "  warnings.warn(\n",
      "[Parallel(n_jobs=7)]: Using backend ThreadingBackend with 7 concurrent workers.\n",
      "[Parallel(n_jobs=7)]: Done  36 tasks      | elapsed:    0.0s\n"
     ]
    },
    {
     "name": "stdout",
     "output_type": "stream",
     "text": [
      "——————————————————————————————\n",
      "78 / 100\n"
     ]
    },
    {
     "name": "stderr",
     "output_type": "stream",
     "text": [
      "[Parallel(n_jobs=7)]: Done 186 tasks      | elapsed:    0.1s\n",
      "[Parallel(n_jobs=7)]: Done 436 tasks      | elapsed:    0.3s\n",
      "[Parallel(n_jobs=7)]: Done 786 tasks      | elapsed:    0.3s\n",
      "[Parallel(n_jobs=7)]: Done 1236 tasks      | elapsed:    0.4s\n",
      "[Parallel(n_jobs=7)]: Done 1786 tasks      | elapsed:    0.5s\n",
      "[Parallel(n_jobs=7)]: Done 2436 tasks      | elapsed:    0.6s\n",
      "[Parallel(n_jobs=7)]: Done 3186 tasks      | elapsed:    0.7s\n",
      "[Parallel(n_jobs=7)]: Done 4036 tasks      | elapsed:    0.8s\n",
      "[Parallel(n_jobs=7)]: Done 4986 tasks      | elapsed:    1.0s\n",
      "[Parallel(n_jobs=7)]: Done 6036 tasks      | elapsed:    1.1s\n",
      "[Parallel(n_jobs=7)]: Done 7186 tasks      | elapsed:    1.3s\n",
      "[Parallel(n_jobs=7)]: Done 8436 tasks      | elapsed:    1.5s\n",
      "[Parallel(n_jobs=7)]: Done 9786 tasks      | elapsed:    1.7s\n",
      "[Parallel(n_jobs=7)]: Done 11236 tasks      | elapsed:    1.9s\n",
      "[Parallel(n_jobs=7)]: Done 11750 out of 11750 | elapsed:    2.0s finished\n",
      "/Users/Nicolas/.local/share/virtualenvs/hw45-V0go0g1U/lib/python3.8/site-packages/sklearn/base.py:450: UserWarning: X does not have valid feature names, but RandomForestClassifier was fitted with feature names\n",
      "  warnings.warn(\n",
      "[Parallel(n_jobs=7)]: Using backend ThreadingBackend with 7 concurrent workers.\n",
      "[Parallel(n_jobs=7)]: Done  36 tasks      | elapsed:    0.0s\n"
     ]
    },
    {
     "name": "stdout",
     "output_type": "stream",
     "text": [
      "——————————————————————————————\n",
      "79 / 100\n"
     ]
    },
    {
     "name": "stderr",
     "output_type": "stream",
     "text": [
      "[Parallel(n_jobs=7)]: Done 186 tasks      | elapsed:    0.1s\n",
      "[Parallel(n_jobs=7)]: Done 436 tasks      | elapsed:    0.2s\n",
      "[Parallel(n_jobs=7)]: Done 786 tasks      | elapsed:    0.3s\n",
      "[Parallel(n_jobs=7)]: Done 1236 tasks      | elapsed:    0.4s\n",
      "[Parallel(n_jobs=7)]: Done 1786 tasks      | elapsed:    0.5s\n",
      "[Parallel(n_jobs=7)]: Done 2436 tasks      | elapsed:    0.6s\n",
      "[Parallel(n_jobs=7)]: Done 3186 tasks      | elapsed:    0.7s\n",
      "[Parallel(n_jobs=7)]: Done 4036 tasks      | elapsed:    0.8s\n",
      "[Parallel(n_jobs=7)]: Done 4986 tasks      | elapsed:    0.9s\n",
      "[Parallel(n_jobs=7)]: Done 6036 tasks      | elapsed:    1.1s\n",
      "[Parallel(n_jobs=7)]: Done 7186 tasks      | elapsed:    1.2s\n",
      "[Parallel(n_jobs=7)]: Done 8436 tasks      | elapsed:    1.4s\n",
      "[Parallel(n_jobs=7)]: Done 9786 tasks      | elapsed:    1.6s\n",
      "[Parallel(n_jobs=7)]: Done 11236 tasks      | elapsed:    1.9s\n",
      "[Parallel(n_jobs=7)]: Done 11750 out of 11750 | elapsed:    1.9s finished\n",
      "/Users/Nicolas/.local/share/virtualenvs/hw45-V0go0g1U/lib/python3.8/site-packages/sklearn/base.py:450: UserWarning: X does not have valid feature names, but RandomForestClassifier was fitted with feature names\n",
      "  warnings.warn(\n",
      "[Parallel(n_jobs=7)]: Using backend ThreadingBackend with 7 concurrent workers.\n",
      "[Parallel(n_jobs=7)]: Done  36 tasks      | elapsed:    0.0s\n"
     ]
    },
    {
     "name": "stdout",
     "output_type": "stream",
     "text": [
      "——————————————————————————————\n",
      "80 / 100\n"
     ]
    },
    {
     "name": "stderr",
     "output_type": "stream",
     "text": [
      "[Parallel(n_jobs=7)]: Done 186 tasks      | elapsed:    0.1s\n",
      "[Parallel(n_jobs=7)]: Done 436 tasks      | elapsed:    0.3s\n",
      "[Parallel(n_jobs=7)]: Done 786 tasks      | elapsed:    0.3s\n",
      "[Parallel(n_jobs=7)]: Done 1236 tasks      | elapsed:    0.4s\n",
      "[Parallel(n_jobs=7)]: Done 1786 tasks      | elapsed:    0.5s\n",
      "[Parallel(n_jobs=7)]: Done 2436 tasks      | elapsed:    0.6s\n",
      "[Parallel(n_jobs=7)]: Done 3186 tasks      | elapsed:    0.7s\n",
      "[Parallel(n_jobs=7)]: Done 4036 tasks      | elapsed:    0.8s\n",
      "[Parallel(n_jobs=7)]: Done 4986 tasks      | elapsed:    0.9s\n",
      "[Parallel(n_jobs=7)]: Done 6036 tasks      | elapsed:    1.1s\n",
      "[Parallel(n_jobs=7)]: Done 7186 tasks      | elapsed:    1.3s\n",
      "[Parallel(n_jobs=7)]: Done 8436 tasks      | elapsed:    1.4s\n",
      "[Parallel(n_jobs=7)]: Done 9786 tasks      | elapsed:    1.7s\n",
      "[Parallel(n_jobs=7)]: Done 11236 tasks      | elapsed:    1.9s\n",
      "[Parallel(n_jobs=7)]: Done 11750 out of 11750 | elapsed:    1.9s finished\n",
      "/Users/Nicolas/.local/share/virtualenvs/hw45-V0go0g1U/lib/python3.8/site-packages/sklearn/base.py:450: UserWarning: X does not have valid feature names, but RandomForestClassifier was fitted with feature names\n",
      "  warnings.warn(\n",
      "[Parallel(n_jobs=7)]: Using backend ThreadingBackend with 7 concurrent workers.\n",
      "[Parallel(n_jobs=7)]: Done  36 tasks      | elapsed:    0.0s\n"
     ]
    },
    {
     "name": "stdout",
     "output_type": "stream",
     "text": [
      "——————————————————————————————\n",
      "81 / 100\n"
     ]
    },
    {
     "name": "stderr",
     "output_type": "stream",
     "text": [
      "[Parallel(n_jobs=7)]: Done 186 tasks      | elapsed:    0.1s\n",
      "[Parallel(n_jobs=7)]: Done 436 tasks      | elapsed:    0.3s\n",
      "[Parallel(n_jobs=7)]: Done 786 tasks      | elapsed:    0.3s\n",
      "[Parallel(n_jobs=7)]: Done 1236 tasks      | elapsed:    0.4s\n",
      "[Parallel(n_jobs=7)]: Done 1786 tasks      | elapsed:    0.5s\n",
      "[Parallel(n_jobs=7)]: Done 2436 tasks      | elapsed:    0.6s\n",
      "[Parallel(n_jobs=7)]: Done 3186 tasks      | elapsed:    0.7s\n",
      "[Parallel(n_jobs=7)]: Done 4036 tasks      | elapsed:    0.8s\n",
      "[Parallel(n_jobs=7)]: Done 4986 tasks      | elapsed:    1.0s\n",
      "[Parallel(n_jobs=7)]: Done 6036 tasks      | elapsed:    1.1s\n",
      "[Parallel(n_jobs=7)]: Done 7186 tasks      | elapsed:    1.3s\n",
      "[Parallel(n_jobs=7)]: Done 8436 tasks      | elapsed:    1.5s\n",
      "[Parallel(n_jobs=7)]: Done 9786 tasks      | elapsed:    1.7s\n",
      "[Parallel(n_jobs=7)]: Done 11236 tasks      | elapsed:    1.9s\n",
      "[Parallel(n_jobs=7)]: Done 11750 out of 11750 | elapsed:    2.0s finished\n",
      "/Users/Nicolas/.local/share/virtualenvs/hw45-V0go0g1U/lib/python3.8/site-packages/sklearn/base.py:450: UserWarning: X does not have valid feature names, but RandomForestClassifier was fitted with feature names\n",
      "  warnings.warn(\n",
      "[Parallel(n_jobs=7)]: Using backend ThreadingBackend with 7 concurrent workers.\n",
      "[Parallel(n_jobs=7)]: Done  36 tasks      | elapsed:    0.0s\n"
     ]
    },
    {
     "name": "stdout",
     "output_type": "stream",
     "text": [
      "——————————————————————————————\n",
      "82 / 100\n"
     ]
    },
    {
     "name": "stderr",
     "output_type": "stream",
     "text": [
      "[Parallel(n_jobs=7)]: Done 186 tasks      | elapsed:    0.1s\n",
      "[Parallel(n_jobs=7)]: Done 436 tasks      | elapsed:    0.2s\n",
      "[Parallel(n_jobs=7)]: Done 786 tasks      | elapsed:    0.3s\n",
      "[Parallel(n_jobs=7)]: Done 1236 tasks      | elapsed:    0.4s\n",
      "[Parallel(n_jobs=7)]: Done 1786 tasks      | elapsed:    0.5s\n",
      "[Parallel(n_jobs=7)]: Done 2436 tasks      | elapsed:    0.6s\n",
      "[Parallel(n_jobs=7)]: Done 3186 tasks      | elapsed:    0.7s\n",
      "[Parallel(n_jobs=7)]: Done 4036 tasks      | elapsed:    0.8s\n",
      "[Parallel(n_jobs=7)]: Done 4986 tasks      | elapsed:    1.0s\n",
      "[Parallel(n_jobs=7)]: Done 6036 tasks      | elapsed:    1.1s\n",
      "[Parallel(n_jobs=7)]: Done 7186 tasks      | elapsed:    1.3s\n",
      "[Parallel(n_jobs=7)]: Done 8436 tasks      | elapsed:    1.5s\n",
      "[Parallel(n_jobs=7)]: Done 9786 tasks      | elapsed:    1.7s\n",
      "[Parallel(n_jobs=7)]: Done 11236 tasks      | elapsed:    1.9s\n",
      "[Parallel(n_jobs=7)]: Done 11750 out of 11750 | elapsed:    2.0s finished\n",
      "/Users/Nicolas/.local/share/virtualenvs/hw45-V0go0g1U/lib/python3.8/site-packages/sklearn/base.py:450: UserWarning: X does not have valid feature names, but RandomForestClassifier was fitted with feature names\n",
      "  warnings.warn(\n",
      "[Parallel(n_jobs=7)]: Using backend ThreadingBackend with 7 concurrent workers.\n",
      "[Parallel(n_jobs=7)]: Done  36 tasks      | elapsed:    0.0s\n"
     ]
    },
    {
     "name": "stdout",
     "output_type": "stream",
     "text": [
      "——————————————————————————————\n",
      "83 / 100\n"
     ]
    },
    {
     "name": "stderr",
     "output_type": "stream",
     "text": [
      "[Parallel(n_jobs=7)]: Done 186 tasks      | elapsed:    0.1s\n",
      "[Parallel(n_jobs=7)]: Done 436 tasks      | elapsed:    0.3s\n",
      "[Parallel(n_jobs=7)]: Done 786 tasks      | elapsed:    0.3s\n",
      "[Parallel(n_jobs=7)]: Done 1236 tasks      | elapsed:    0.4s\n",
      "[Parallel(n_jobs=7)]: Done 1786 tasks      | elapsed:    0.5s\n",
      "[Parallel(n_jobs=7)]: Done 2436 tasks      | elapsed:    0.6s\n",
      "[Parallel(n_jobs=7)]: Done 3186 tasks      | elapsed:    0.7s\n",
      "[Parallel(n_jobs=7)]: Done 4036 tasks      | elapsed:    0.8s\n",
      "[Parallel(n_jobs=7)]: Done 4986 tasks      | elapsed:    0.9s\n",
      "[Parallel(n_jobs=7)]: Done 6036 tasks      | elapsed:    1.1s\n",
      "[Parallel(n_jobs=7)]: Done 7186 tasks      | elapsed:    1.3s\n",
      "[Parallel(n_jobs=7)]: Done 8436 tasks      | elapsed:    1.4s\n",
      "[Parallel(n_jobs=7)]: Done 9786 tasks      | elapsed:    1.6s\n",
      "[Parallel(n_jobs=7)]: Done 11236 tasks      | elapsed:    1.9s\n",
      "[Parallel(n_jobs=7)]: Done 11750 out of 11750 | elapsed:    1.9s finished\n",
      "/Users/Nicolas/.local/share/virtualenvs/hw45-V0go0g1U/lib/python3.8/site-packages/sklearn/base.py:450: UserWarning: X does not have valid feature names, but RandomForestClassifier was fitted with feature names\n",
      "  warnings.warn(\n",
      "[Parallel(n_jobs=7)]: Using backend ThreadingBackend with 7 concurrent workers.\n",
      "[Parallel(n_jobs=7)]: Done  36 tasks      | elapsed:    0.0s\n"
     ]
    },
    {
     "name": "stdout",
     "output_type": "stream",
     "text": [
      "——————————————————————————————\n",
      "84 / 100\n"
     ]
    },
    {
     "name": "stderr",
     "output_type": "stream",
     "text": [
      "[Parallel(n_jobs=7)]: Done 186 tasks      | elapsed:    0.1s\n",
      "[Parallel(n_jobs=7)]: Done 436 tasks      | elapsed:    0.2s\n",
      "[Parallel(n_jobs=7)]: Done 786 tasks      | elapsed:    0.3s\n",
      "[Parallel(n_jobs=7)]: Done 1236 tasks      | elapsed:    0.4s\n",
      "[Parallel(n_jobs=7)]: Done 1786 tasks      | elapsed:    0.5s\n",
      "[Parallel(n_jobs=7)]: Done 2436 tasks      | elapsed:    0.6s\n",
      "[Parallel(n_jobs=7)]: Done 3186 tasks      | elapsed:    0.7s\n",
      "[Parallel(n_jobs=7)]: Done 4036 tasks      | elapsed:    0.8s\n",
      "[Parallel(n_jobs=7)]: Done 4986 tasks      | elapsed:    1.0s\n",
      "[Parallel(n_jobs=7)]: Done 6036 tasks      | elapsed:    1.1s\n",
      "[Parallel(n_jobs=7)]: Done 7186 tasks      | elapsed:    1.3s\n",
      "[Parallel(n_jobs=7)]: Done 8436 tasks      | elapsed:    1.5s\n",
      "[Parallel(n_jobs=7)]: Done 9786 tasks      | elapsed:    1.7s\n",
      "[Parallel(n_jobs=7)]: Done 11236 tasks      | elapsed:    2.0s\n",
      "[Parallel(n_jobs=7)]: Done 11750 out of 11750 | elapsed:    2.0s finished\n",
      "/Users/Nicolas/.local/share/virtualenvs/hw45-V0go0g1U/lib/python3.8/site-packages/sklearn/base.py:450: UserWarning: X does not have valid feature names, but RandomForestClassifier was fitted with feature names\n",
      "  warnings.warn(\n",
      "[Parallel(n_jobs=7)]: Using backend ThreadingBackend with 7 concurrent workers.\n",
      "[Parallel(n_jobs=7)]: Done  36 tasks      | elapsed:    0.0s\n"
     ]
    },
    {
     "name": "stdout",
     "output_type": "stream",
     "text": [
      "——————————————————————————————\n",
      "85 / 100\n"
     ]
    },
    {
     "name": "stderr",
     "output_type": "stream",
     "text": [
      "[Parallel(n_jobs=7)]: Done 186 tasks      | elapsed:    0.1s\n",
      "[Parallel(n_jobs=7)]: Done 436 tasks      | elapsed:    0.2s\n",
      "[Parallel(n_jobs=7)]: Done 786 tasks      | elapsed:    0.3s\n",
      "[Parallel(n_jobs=7)]: Done 1236 tasks      | elapsed:    0.4s\n",
      "[Parallel(n_jobs=7)]: Done 1786 tasks      | elapsed:    0.5s\n",
      "[Parallel(n_jobs=7)]: Done 2436 tasks      | elapsed:    0.6s\n",
      "[Parallel(n_jobs=7)]: Done 3186 tasks      | elapsed:    0.7s\n",
      "[Parallel(n_jobs=7)]: Done 4036 tasks      | elapsed:    0.8s\n",
      "[Parallel(n_jobs=7)]: Done 4986 tasks      | elapsed:    1.0s\n",
      "[Parallel(n_jobs=7)]: Done 6036 tasks      | elapsed:    1.1s\n",
      "[Parallel(n_jobs=7)]: Done 7186 tasks      | elapsed:    1.3s\n",
      "[Parallel(n_jobs=7)]: Done 8436 tasks      | elapsed:    1.5s\n",
      "[Parallel(n_jobs=7)]: Done 9786 tasks      | elapsed:    1.7s\n",
      "[Parallel(n_jobs=7)]: Done 11236 tasks      | elapsed:    2.0s\n",
      "[Parallel(n_jobs=7)]: Done 11750 out of 11750 | elapsed:    2.0s finished\n",
      "/Users/Nicolas/.local/share/virtualenvs/hw45-V0go0g1U/lib/python3.8/site-packages/sklearn/base.py:450: UserWarning: X does not have valid feature names, but RandomForestClassifier was fitted with feature names\n",
      "  warnings.warn(\n",
      "[Parallel(n_jobs=7)]: Using backend ThreadingBackend with 7 concurrent workers.\n",
      "[Parallel(n_jobs=7)]: Done  36 tasks      | elapsed:    0.0s\n"
     ]
    },
    {
     "name": "stdout",
     "output_type": "stream",
     "text": [
      "——————————————————————————————\n",
      "86 / 100\n"
     ]
    },
    {
     "name": "stderr",
     "output_type": "stream",
     "text": [
      "[Parallel(n_jobs=7)]: Done 186 tasks      | elapsed:    0.1s\n",
      "[Parallel(n_jobs=7)]: Done 436 tasks      | elapsed:    0.2s\n",
      "[Parallel(n_jobs=7)]: Done 786 tasks      | elapsed:    0.3s\n",
      "[Parallel(n_jobs=7)]: Done 1236 tasks      | elapsed:    0.4s\n",
      "[Parallel(n_jobs=7)]: Done 1786 tasks      | elapsed:    0.5s\n",
      "[Parallel(n_jobs=7)]: Done 2436 tasks      | elapsed:    0.6s\n",
      "[Parallel(n_jobs=7)]: Done 3186 tasks      | elapsed:    0.7s\n",
      "[Parallel(n_jobs=7)]: Done 4036 tasks      | elapsed:    0.8s\n",
      "[Parallel(n_jobs=7)]: Done 4986 tasks      | elapsed:    0.9s\n",
      "[Parallel(n_jobs=7)]: Done 6036 tasks      | elapsed:    1.1s\n",
      "[Parallel(n_jobs=7)]: Done 7186 tasks      | elapsed:    1.3s\n",
      "[Parallel(n_jobs=7)]: Done 8436 tasks      | elapsed:    1.5s\n",
      "[Parallel(n_jobs=7)]: Done 9786 tasks      | elapsed:    1.7s\n",
      "[Parallel(n_jobs=7)]: Done 11236 tasks      | elapsed:    1.9s\n",
      "[Parallel(n_jobs=7)]: Done 11750 out of 11750 | elapsed:    2.0s finished\n",
      "/Users/Nicolas/.local/share/virtualenvs/hw45-V0go0g1U/lib/python3.8/site-packages/sklearn/base.py:450: UserWarning: X does not have valid feature names, but RandomForestClassifier was fitted with feature names\n",
      "  warnings.warn(\n",
      "[Parallel(n_jobs=7)]: Using backend ThreadingBackend with 7 concurrent workers.\n",
      "[Parallel(n_jobs=7)]: Done  36 tasks      | elapsed:    0.0s\n"
     ]
    },
    {
     "name": "stdout",
     "output_type": "stream",
     "text": [
      "——————————————————————————————\n",
      "87 / 100\n"
     ]
    },
    {
     "name": "stderr",
     "output_type": "stream",
     "text": [
      "[Parallel(n_jobs=7)]: Done 186 tasks      | elapsed:    0.1s\n",
      "[Parallel(n_jobs=7)]: Done 436 tasks      | elapsed:    0.3s\n",
      "[Parallel(n_jobs=7)]: Done 786 tasks      | elapsed:    0.3s\n",
      "[Parallel(n_jobs=7)]: Done 1236 tasks      | elapsed:    0.4s\n",
      "[Parallel(n_jobs=7)]: Done 1786 tasks      | elapsed:    0.5s\n",
      "[Parallel(n_jobs=7)]: Done 2436 tasks      | elapsed:    0.5s\n",
      "[Parallel(n_jobs=7)]: Done 3186 tasks      | elapsed:    0.7s\n",
      "[Parallel(n_jobs=7)]: Done 4036 tasks      | elapsed:    0.8s\n",
      "[Parallel(n_jobs=7)]: Done 4986 tasks      | elapsed:    0.9s\n",
      "[Parallel(n_jobs=7)]: Done 6036 tasks      | elapsed:    1.1s\n",
      "[Parallel(n_jobs=7)]: Done 7186 tasks      | elapsed:    1.3s\n",
      "[Parallel(n_jobs=7)]: Done 8436 tasks      | elapsed:    1.5s\n",
      "[Parallel(n_jobs=7)]: Done 9786 tasks      | elapsed:    1.6s\n",
      "[Parallel(n_jobs=7)]: Done 11236 tasks      | elapsed:    1.9s\n",
      "[Parallel(n_jobs=7)]: Done 11750 out of 11750 | elapsed:    1.9s finished\n",
      "/Users/Nicolas/.local/share/virtualenvs/hw45-V0go0g1U/lib/python3.8/site-packages/sklearn/base.py:450: UserWarning: X does not have valid feature names, but RandomForestClassifier was fitted with feature names\n",
      "  warnings.warn(\n",
      "[Parallel(n_jobs=7)]: Using backend ThreadingBackend with 7 concurrent workers.\n",
      "[Parallel(n_jobs=7)]: Done  36 tasks      | elapsed:    0.0s\n"
     ]
    },
    {
     "name": "stdout",
     "output_type": "stream",
     "text": [
      "——————————————————————————————\n",
      "88 / 100\n"
     ]
    },
    {
     "name": "stderr",
     "output_type": "stream",
     "text": [
      "[Parallel(n_jobs=7)]: Done 186 tasks      | elapsed:    0.1s\n",
      "[Parallel(n_jobs=7)]: Done 436 tasks      | elapsed:    0.2s\n",
      "[Parallel(n_jobs=7)]: Done 786 tasks      | elapsed:    0.3s\n",
      "[Parallel(n_jobs=7)]: Done 1236 tasks      | elapsed:    0.4s\n",
      "[Parallel(n_jobs=7)]: Done 1786 tasks      | elapsed:    0.5s\n",
      "[Parallel(n_jobs=7)]: Done 2436 tasks      | elapsed:    0.6s\n",
      "[Parallel(n_jobs=7)]: Done 3186 tasks      | elapsed:    0.7s\n",
      "[Parallel(n_jobs=7)]: Done 4036 tasks      | elapsed:    0.8s\n",
      "[Parallel(n_jobs=7)]: Done 4986 tasks      | elapsed:    1.0s\n",
      "[Parallel(n_jobs=7)]: Done 6036 tasks      | elapsed:    1.1s\n",
      "[Parallel(n_jobs=7)]: Done 7186 tasks      | elapsed:    1.3s\n",
      "[Parallel(n_jobs=7)]: Done 8436 tasks      | elapsed:    1.5s\n",
      "[Parallel(n_jobs=7)]: Done 9786 tasks      | elapsed:    1.7s\n",
      "[Parallel(n_jobs=7)]: Done 11236 tasks      | elapsed:    1.9s\n",
      "[Parallel(n_jobs=7)]: Done 11750 out of 11750 | elapsed:    2.0s finished\n",
      "/Users/Nicolas/.local/share/virtualenvs/hw45-V0go0g1U/lib/python3.8/site-packages/sklearn/base.py:450: UserWarning: X does not have valid feature names, but RandomForestClassifier was fitted with feature names\n",
      "  warnings.warn(\n",
      "[Parallel(n_jobs=7)]: Using backend ThreadingBackend with 7 concurrent workers.\n",
      "[Parallel(n_jobs=7)]: Done  36 tasks      | elapsed:    0.0s\n"
     ]
    },
    {
     "name": "stdout",
     "output_type": "stream",
     "text": [
      "——————————————————————————————\n",
      "89 / 100\n"
     ]
    },
    {
     "name": "stderr",
     "output_type": "stream",
     "text": [
      "[Parallel(n_jobs=7)]: Done 186 tasks      | elapsed:    0.1s\n",
      "[Parallel(n_jobs=7)]: Done 436 tasks      | elapsed:    0.3s\n",
      "[Parallel(n_jobs=7)]: Done 786 tasks      | elapsed:    0.3s\n",
      "[Parallel(n_jobs=7)]: Done 1236 tasks      | elapsed:    0.4s\n",
      "[Parallel(n_jobs=7)]: Done 1786 tasks      | elapsed:    0.5s\n",
      "[Parallel(n_jobs=7)]: Done 2436 tasks      | elapsed:    0.6s\n",
      "[Parallel(n_jobs=7)]: Done 3186 tasks      | elapsed:    0.7s\n",
      "[Parallel(n_jobs=7)]: Done 4036 tasks      | elapsed:    0.8s\n",
      "[Parallel(n_jobs=7)]: Done 4986 tasks      | elapsed:    1.0s\n",
      "[Parallel(n_jobs=7)]: Done 6036 tasks      | elapsed:    1.1s\n",
      "[Parallel(n_jobs=7)]: Done 7186 tasks      | elapsed:    1.3s\n",
      "[Parallel(n_jobs=7)]: Done 8436 tasks      | elapsed:    1.5s\n",
      "[Parallel(n_jobs=7)]: Done 9786 tasks      | elapsed:    1.7s\n",
      "[Parallel(n_jobs=7)]: Done 11236 tasks      | elapsed:    1.9s\n",
      "[Parallel(n_jobs=7)]: Done 11750 out of 11750 | elapsed:    2.0s finished\n",
      "/Users/Nicolas/.local/share/virtualenvs/hw45-V0go0g1U/lib/python3.8/site-packages/sklearn/base.py:450: UserWarning: X does not have valid feature names, but RandomForestClassifier was fitted with feature names\n",
      "  warnings.warn(\n",
      "[Parallel(n_jobs=7)]: Using backend ThreadingBackend with 7 concurrent workers.\n",
      "[Parallel(n_jobs=7)]: Done  36 tasks      | elapsed:    0.0s\n"
     ]
    },
    {
     "name": "stdout",
     "output_type": "stream",
     "text": [
      "——————————————————————————————\n",
      "90 / 100\n"
     ]
    },
    {
     "name": "stderr",
     "output_type": "stream",
     "text": [
      "[Parallel(n_jobs=7)]: Done 186 tasks      | elapsed:    0.1s\n",
      "[Parallel(n_jobs=7)]: Done 436 tasks      | elapsed:    0.2s\n",
      "[Parallel(n_jobs=7)]: Done 786 tasks      | elapsed:    0.3s\n",
      "[Parallel(n_jobs=7)]: Done 1236 tasks      | elapsed:    0.4s\n",
      "[Parallel(n_jobs=7)]: Done 1786 tasks      | elapsed:    0.4s\n",
      "[Parallel(n_jobs=7)]: Done 2436 tasks      | elapsed:    0.5s\n",
      "[Parallel(n_jobs=7)]: Done 3186 tasks      | elapsed:    0.7s\n",
      "[Parallel(n_jobs=7)]: Done 4036 tasks      | elapsed:    0.8s\n",
      "[Parallel(n_jobs=7)]: Done 4986 tasks      | elapsed:    0.9s\n",
      "[Parallel(n_jobs=7)]: Done 6036 tasks      | elapsed:    1.1s\n",
      "[Parallel(n_jobs=7)]: Done 7186 tasks      | elapsed:    1.3s\n",
      "[Parallel(n_jobs=7)]: Done 8436 tasks      | elapsed:    1.4s\n",
      "[Parallel(n_jobs=7)]: Done 9786 tasks      | elapsed:    1.6s\n",
      "[Parallel(n_jobs=7)]: Done 11236 tasks      | elapsed:    1.9s\n",
      "[Parallel(n_jobs=7)]: Done 11750 out of 11750 | elapsed:    1.9s finished\n",
      "/Users/Nicolas/.local/share/virtualenvs/hw45-V0go0g1U/lib/python3.8/site-packages/sklearn/base.py:450: UserWarning: X does not have valid feature names, but RandomForestClassifier was fitted with feature names\n",
      "  warnings.warn(\n",
      "[Parallel(n_jobs=7)]: Using backend ThreadingBackend with 7 concurrent workers.\n",
      "[Parallel(n_jobs=7)]: Done  36 tasks      | elapsed:    0.0s\n"
     ]
    },
    {
     "name": "stdout",
     "output_type": "stream",
     "text": [
      "——————————————————————————————\n",
      "91 / 100\n"
     ]
    },
    {
     "name": "stderr",
     "output_type": "stream",
     "text": [
      "[Parallel(n_jobs=7)]: Done 186 tasks      | elapsed:    0.1s\n",
      "[Parallel(n_jobs=7)]: Done 436 tasks      | elapsed:    0.2s\n",
      "[Parallel(n_jobs=7)]: Done 786 tasks      | elapsed:    0.3s\n",
      "[Parallel(n_jobs=7)]: Done 1236 tasks      | elapsed:    0.4s\n",
      "[Parallel(n_jobs=7)]: Done 1786 tasks      | elapsed:    0.5s\n",
      "[Parallel(n_jobs=7)]: Done 2436 tasks      | elapsed:    0.6s\n",
      "[Parallel(n_jobs=7)]: Done 3186 tasks      | elapsed:    0.7s\n",
      "[Parallel(n_jobs=7)]: Done 4036 tasks      | elapsed:    0.8s\n",
      "[Parallel(n_jobs=7)]: Done 4986 tasks      | elapsed:    0.9s\n",
      "[Parallel(n_jobs=7)]: Done 6036 tasks      | elapsed:    1.1s\n",
      "[Parallel(n_jobs=7)]: Done 7186 tasks      | elapsed:    1.3s\n",
      "[Parallel(n_jobs=7)]: Done 8436 tasks      | elapsed:    1.4s\n",
      "[Parallel(n_jobs=7)]: Done 9786 tasks      | elapsed:    1.7s\n",
      "[Parallel(n_jobs=7)]: Done 11236 tasks      | elapsed:    1.9s\n",
      "[Parallel(n_jobs=7)]: Done 11750 out of 11750 | elapsed:    1.9s finished\n",
      "/Users/Nicolas/.local/share/virtualenvs/hw45-V0go0g1U/lib/python3.8/site-packages/sklearn/base.py:450: UserWarning: X does not have valid feature names, but RandomForestClassifier was fitted with feature names\n",
      "  warnings.warn(\n",
      "[Parallel(n_jobs=7)]: Using backend ThreadingBackend with 7 concurrent workers.\n",
      "[Parallel(n_jobs=7)]: Done  36 tasks      | elapsed:    0.0s\n"
     ]
    },
    {
     "name": "stdout",
     "output_type": "stream",
     "text": [
      "——————————————————————————————\n",
      "92 / 100\n"
     ]
    },
    {
     "name": "stderr",
     "output_type": "stream",
     "text": [
      "[Parallel(n_jobs=7)]: Done 186 tasks      | elapsed:    0.1s\n",
      "[Parallel(n_jobs=7)]: Done 436 tasks      | elapsed:    0.2s\n",
      "[Parallel(n_jobs=7)]: Done 786 tasks      | elapsed:    0.3s\n",
      "[Parallel(n_jobs=7)]: Done 1236 tasks      | elapsed:    0.4s\n",
      "[Parallel(n_jobs=7)]: Done 1786 tasks      | elapsed:    0.5s\n",
      "[Parallel(n_jobs=7)]: Done 2436 tasks      | elapsed:    0.6s\n",
      "[Parallel(n_jobs=7)]: Done 3186 tasks      | elapsed:    0.7s\n",
      "[Parallel(n_jobs=7)]: Done 4036 tasks      | elapsed:    0.8s\n",
      "[Parallel(n_jobs=7)]: Done 4986 tasks      | elapsed:    1.0s\n",
      "[Parallel(n_jobs=7)]: Done 6036 tasks      | elapsed:    1.2s\n",
      "[Parallel(n_jobs=7)]: Done 7186 tasks      | elapsed:    1.3s\n",
      "[Parallel(n_jobs=7)]: Done 8436 tasks      | elapsed:    1.5s\n",
      "[Parallel(n_jobs=7)]: Done 9786 tasks      | elapsed:    1.8s\n",
      "[Parallel(n_jobs=7)]: Done 11236 tasks      | elapsed:    2.0s\n",
      "[Parallel(n_jobs=7)]: Done 11750 out of 11750 | elapsed:    2.1s finished\n",
      "/Users/Nicolas/.local/share/virtualenvs/hw45-V0go0g1U/lib/python3.8/site-packages/sklearn/base.py:450: UserWarning: X does not have valid feature names, but RandomForestClassifier was fitted with feature names\n",
      "  warnings.warn(\n",
      "[Parallel(n_jobs=7)]: Using backend ThreadingBackend with 7 concurrent workers.\n",
      "[Parallel(n_jobs=7)]: Done  36 tasks      | elapsed:    0.0s\n"
     ]
    },
    {
     "name": "stdout",
     "output_type": "stream",
     "text": [
      "——————————————————————————————\n",
      "93 / 100\n"
     ]
    },
    {
     "name": "stderr",
     "output_type": "stream",
     "text": [
      "[Parallel(n_jobs=7)]: Done 186 tasks      | elapsed:    0.1s\n",
      "[Parallel(n_jobs=7)]: Done 436 tasks      | elapsed:    0.2s\n",
      "[Parallel(n_jobs=7)]: Done 786 tasks      | elapsed:    0.3s\n",
      "[Parallel(n_jobs=7)]: Done 1236 tasks      | elapsed:    0.4s\n",
      "[Parallel(n_jobs=7)]: Done 1786 tasks      | elapsed:    0.5s\n",
      "[Parallel(n_jobs=7)]: Done 2436 tasks      | elapsed:    0.6s\n",
      "[Parallel(n_jobs=7)]: Done 3186 tasks      | elapsed:    0.7s\n",
      "[Parallel(n_jobs=7)]: Done 4036 tasks      | elapsed:    0.8s\n",
      "[Parallel(n_jobs=7)]: Done 4986 tasks      | elapsed:    1.0s\n",
      "[Parallel(n_jobs=7)]: Done 6036 tasks      | elapsed:    1.1s\n",
      "[Parallel(n_jobs=7)]: Done 7186 tasks      | elapsed:    1.3s\n",
      "[Parallel(n_jobs=7)]: Done 8436 tasks      | elapsed:    1.5s\n",
      "[Parallel(n_jobs=7)]: Done 9786 tasks      | elapsed:    1.7s\n",
      "[Parallel(n_jobs=7)]: Done 11236 tasks      | elapsed:    1.9s\n",
      "[Parallel(n_jobs=7)]: Done 11750 out of 11750 | elapsed:    2.0s finished\n",
      "/Users/Nicolas/.local/share/virtualenvs/hw45-V0go0g1U/lib/python3.8/site-packages/sklearn/base.py:450: UserWarning: X does not have valid feature names, but RandomForestClassifier was fitted with feature names\n",
      "  warnings.warn(\n",
      "[Parallel(n_jobs=7)]: Using backend ThreadingBackend with 7 concurrent workers.\n",
      "[Parallel(n_jobs=7)]: Done  36 tasks      | elapsed:    0.0s\n"
     ]
    },
    {
     "name": "stdout",
     "output_type": "stream",
     "text": [
      "——————————————————————————————\n",
      "94 / 100\n"
     ]
    },
    {
     "name": "stderr",
     "output_type": "stream",
     "text": [
      "[Parallel(n_jobs=7)]: Done 186 tasks      | elapsed:    0.1s\n",
      "[Parallel(n_jobs=7)]: Done 436 tasks      | elapsed:    0.2s\n",
      "[Parallel(n_jobs=7)]: Done 786 tasks      | elapsed:    0.3s\n",
      "[Parallel(n_jobs=7)]: Done 1236 tasks      | elapsed:    0.4s\n",
      "[Parallel(n_jobs=7)]: Done 1786 tasks      | elapsed:    0.4s\n",
      "[Parallel(n_jobs=7)]: Done 2436 tasks      | elapsed:    0.5s\n",
      "[Parallel(n_jobs=7)]: Done 3186 tasks      | elapsed:    0.6s\n",
      "[Parallel(n_jobs=7)]: Done 4036 tasks      | elapsed:    0.8s\n",
      "[Parallel(n_jobs=7)]: Done 4986 tasks      | elapsed:    0.9s\n",
      "[Parallel(n_jobs=7)]: Done 6036 tasks      | elapsed:    1.1s\n",
      "[Parallel(n_jobs=7)]: Done 7186 tasks      | elapsed:    1.2s\n",
      "[Parallel(n_jobs=7)]: Done 8436 tasks      | elapsed:    1.4s\n",
      "[Parallel(n_jobs=7)]: Done 9786 tasks      | elapsed:    1.6s\n",
      "[Parallel(n_jobs=7)]: Done 11236 tasks      | elapsed:    1.8s\n",
      "[Parallel(n_jobs=7)]: Done 11750 out of 11750 | elapsed:    1.9s finished\n",
      "/Users/Nicolas/.local/share/virtualenvs/hw45-V0go0g1U/lib/python3.8/site-packages/sklearn/base.py:450: UserWarning: X does not have valid feature names, but RandomForestClassifier was fitted with feature names\n",
      "  warnings.warn(\n",
      "[Parallel(n_jobs=7)]: Using backend ThreadingBackend with 7 concurrent workers.\n",
      "[Parallel(n_jobs=7)]: Done  36 tasks      | elapsed:    0.0s\n"
     ]
    },
    {
     "name": "stdout",
     "output_type": "stream",
     "text": [
      "——————————————————————————————\n",
      "95 / 100\n"
     ]
    },
    {
     "name": "stderr",
     "output_type": "stream",
     "text": [
      "[Parallel(n_jobs=7)]: Done 186 tasks      | elapsed:    0.1s\n",
      "[Parallel(n_jobs=7)]: Done 436 tasks      | elapsed:    0.3s\n",
      "[Parallel(n_jobs=7)]: Done 786 tasks      | elapsed:    0.3s\n",
      "[Parallel(n_jobs=7)]: Done 1236 tasks      | elapsed:    0.4s\n",
      "[Parallel(n_jobs=7)]: Done 1786 tasks      | elapsed:    0.5s\n",
      "[Parallel(n_jobs=7)]: Done 2436 tasks      | elapsed:    0.6s\n",
      "[Parallel(n_jobs=7)]: Done 3186 tasks      | elapsed:    0.7s\n",
      "[Parallel(n_jobs=7)]: Done 4036 tasks      | elapsed:    0.8s\n",
      "[Parallel(n_jobs=7)]: Done 4986 tasks      | elapsed:    0.9s\n",
      "[Parallel(n_jobs=7)]: Done 6036 tasks      | elapsed:    1.1s\n",
      "[Parallel(n_jobs=7)]: Done 7186 tasks      | elapsed:    1.2s\n",
      "[Parallel(n_jobs=7)]: Done 8436 tasks      | elapsed:    1.4s\n",
      "[Parallel(n_jobs=7)]: Done 9786 tasks      | elapsed:    1.6s\n",
      "[Parallel(n_jobs=7)]: Done 11236 tasks      | elapsed:    1.8s\n",
      "[Parallel(n_jobs=7)]: Done 11750 out of 11750 | elapsed:    1.9s finished\n",
      "/Users/Nicolas/.local/share/virtualenvs/hw45-V0go0g1U/lib/python3.8/site-packages/sklearn/base.py:450: UserWarning: X does not have valid feature names, but RandomForestClassifier was fitted with feature names\n",
      "  warnings.warn(\n",
      "[Parallel(n_jobs=7)]: Using backend ThreadingBackend with 7 concurrent workers.\n",
      "[Parallel(n_jobs=7)]: Done  36 tasks      | elapsed:    0.0s\n"
     ]
    },
    {
     "name": "stdout",
     "output_type": "stream",
     "text": [
      "——————————————————————————————\n",
      "96 / 100\n"
     ]
    },
    {
     "name": "stderr",
     "output_type": "stream",
     "text": [
      "[Parallel(n_jobs=7)]: Done 186 tasks      | elapsed:    0.1s\n",
      "[Parallel(n_jobs=7)]: Done 436 tasks      | elapsed:    0.3s\n",
      "[Parallel(n_jobs=7)]: Done 786 tasks      | elapsed:    0.3s\n",
      "[Parallel(n_jobs=7)]: Done 1236 tasks      | elapsed:    0.4s\n",
      "[Parallel(n_jobs=7)]: Done 1786 tasks      | elapsed:    0.5s\n",
      "[Parallel(n_jobs=7)]: Done 2436 tasks      | elapsed:    0.6s\n",
      "[Parallel(n_jobs=7)]: Done 3186 tasks      | elapsed:    0.7s\n",
      "[Parallel(n_jobs=7)]: Done 4036 tasks      | elapsed:    0.8s\n",
      "[Parallel(n_jobs=7)]: Done 4986 tasks      | elapsed:    1.0s\n",
      "[Parallel(n_jobs=7)]: Done 6036 tasks      | elapsed:    1.1s\n",
      "[Parallel(n_jobs=7)]: Done 7186 tasks      | elapsed:    1.3s\n",
      "[Parallel(n_jobs=7)]: Done 8436 tasks      | elapsed:    1.5s\n",
      "[Parallel(n_jobs=7)]: Done 9786 tasks      | elapsed:    1.8s\n",
      "[Parallel(n_jobs=7)]: Done 11236 tasks      | elapsed:    2.0s\n",
      "[Parallel(n_jobs=7)]: Done 11750 out of 11750 | elapsed:    2.1s finished\n",
      "/Users/Nicolas/.local/share/virtualenvs/hw45-V0go0g1U/lib/python3.8/site-packages/sklearn/base.py:450: UserWarning: X does not have valid feature names, but RandomForestClassifier was fitted with feature names\n",
      "  warnings.warn(\n",
      "[Parallel(n_jobs=7)]: Using backend ThreadingBackend with 7 concurrent workers.\n",
      "[Parallel(n_jobs=7)]: Done  36 tasks      | elapsed:    0.0s\n"
     ]
    },
    {
     "name": "stdout",
     "output_type": "stream",
     "text": [
      "——————————————————————————————\n",
      "97 / 100\n"
     ]
    },
    {
     "name": "stderr",
     "output_type": "stream",
     "text": [
      "[Parallel(n_jobs=7)]: Done 186 tasks      | elapsed:    0.1s\n",
      "[Parallel(n_jobs=7)]: Done 436 tasks      | elapsed:    0.2s\n",
      "[Parallel(n_jobs=7)]: Done 786 tasks      | elapsed:    0.3s\n",
      "[Parallel(n_jobs=7)]: Done 1236 tasks      | elapsed:    0.4s\n",
      "[Parallel(n_jobs=7)]: Done 1786 tasks      | elapsed:    0.5s\n",
      "[Parallel(n_jobs=7)]: Done 2436 tasks      | elapsed:    0.6s\n",
      "[Parallel(n_jobs=7)]: Done 3186 tasks      | elapsed:    0.7s\n",
      "[Parallel(n_jobs=7)]: Done 4036 tasks      | elapsed:    0.8s\n",
      "[Parallel(n_jobs=7)]: Done 4986 tasks      | elapsed:    1.0s\n",
      "[Parallel(n_jobs=7)]: Done 6036 tasks      | elapsed:    1.1s\n",
      "[Parallel(n_jobs=7)]: Done 7186 tasks      | elapsed:    1.3s\n",
      "[Parallel(n_jobs=7)]: Done 8436 tasks      | elapsed:    1.5s\n",
      "[Parallel(n_jobs=7)]: Done 9786 tasks      | elapsed:    1.7s\n",
      "[Parallel(n_jobs=7)]: Done 11236 tasks      | elapsed:    1.9s\n",
      "[Parallel(n_jobs=7)]: Done 11750 out of 11750 | elapsed:    2.0s finished\n",
      "/Users/Nicolas/.local/share/virtualenvs/hw45-V0go0g1U/lib/python3.8/site-packages/sklearn/base.py:450: UserWarning: X does not have valid feature names, but RandomForestClassifier was fitted with feature names\n",
      "  warnings.warn(\n",
      "[Parallel(n_jobs=7)]: Using backend ThreadingBackend with 7 concurrent workers.\n",
      "[Parallel(n_jobs=7)]: Done  36 tasks      | elapsed:    0.0s\n"
     ]
    },
    {
     "name": "stdout",
     "output_type": "stream",
     "text": [
      "——————————————————————————————\n",
      "98 / 100\n"
     ]
    },
    {
     "name": "stderr",
     "output_type": "stream",
     "text": [
      "[Parallel(n_jobs=7)]: Done 186 tasks      | elapsed:    0.1s\n",
      "[Parallel(n_jobs=7)]: Done 436 tasks      | elapsed:    0.3s\n",
      "[Parallel(n_jobs=7)]: Done 786 tasks      | elapsed:    0.3s\n",
      "[Parallel(n_jobs=7)]: Done 1236 tasks      | elapsed:    0.4s\n",
      "[Parallel(n_jobs=7)]: Done 1786 tasks      | elapsed:    0.5s\n",
      "[Parallel(n_jobs=7)]: Done 2436 tasks      | elapsed:    0.6s\n",
      "[Parallel(n_jobs=7)]: Done 3186 tasks      | elapsed:    0.7s\n",
      "[Parallel(n_jobs=7)]: Done 4036 tasks      | elapsed:    0.8s\n",
      "[Parallel(n_jobs=7)]: Done 4986 tasks      | elapsed:    1.0s\n",
      "[Parallel(n_jobs=7)]: Done 6036 tasks      | elapsed:    1.2s\n",
      "[Parallel(n_jobs=7)]: Done 7186 tasks      | elapsed:    1.4s\n",
      "[Parallel(n_jobs=7)]: Done 8436 tasks      | elapsed:    1.6s\n",
      "[Parallel(n_jobs=7)]: Done 9786 tasks      | elapsed:    1.8s\n",
      "[Parallel(n_jobs=7)]: Done 11236 tasks      | elapsed:    2.0s\n",
      "[Parallel(n_jobs=7)]: Done 11750 out of 11750 | elapsed:    2.1s finished\n",
      "/Users/Nicolas/.local/share/virtualenvs/hw45-V0go0g1U/lib/python3.8/site-packages/sklearn/base.py:450: UserWarning: X does not have valid feature names, but RandomForestClassifier was fitted with feature names\n",
      "  warnings.warn(\n",
      "[Parallel(n_jobs=7)]: Using backend ThreadingBackend with 7 concurrent workers.\n",
      "[Parallel(n_jobs=7)]: Done  36 tasks      | elapsed:    0.1s\n"
     ]
    },
    {
     "name": "stdout",
     "output_type": "stream",
     "text": [
      "——————————————————————————————\n",
      "99 / 100\n"
     ]
    },
    {
     "name": "stderr",
     "output_type": "stream",
     "text": [
      "[Parallel(n_jobs=7)]: Done 186 tasks      | elapsed:    0.1s\n",
      "[Parallel(n_jobs=7)]: Done 436 tasks      | elapsed:    0.2s\n",
      "[Parallel(n_jobs=7)]: Done 786 tasks      | elapsed:    0.3s\n",
      "[Parallel(n_jobs=7)]: Done 1236 tasks      | elapsed:    0.4s\n",
      "[Parallel(n_jobs=7)]: Done 1786 tasks      | elapsed:    0.5s\n",
      "[Parallel(n_jobs=7)]: Done 2436 tasks      | elapsed:    0.6s\n",
      "[Parallel(n_jobs=7)]: Done 3186 tasks      | elapsed:    0.7s\n",
      "[Parallel(n_jobs=7)]: Done 4036 tasks      | elapsed:    0.8s\n",
      "[Parallel(n_jobs=7)]: Done 4986 tasks      | elapsed:    1.0s\n",
      "[Parallel(n_jobs=7)]: Done 6036 tasks      | elapsed:    1.2s\n",
      "[Parallel(n_jobs=7)]: Done 7186 tasks      | elapsed:    1.4s\n",
      "[Parallel(n_jobs=7)]: Done 8436 tasks      | elapsed:    1.6s\n",
      "[Parallel(n_jobs=7)]: Done 9786 tasks      | elapsed:    1.8s\n",
      "[Parallel(n_jobs=7)]: Done 11236 tasks      | elapsed:    2.0s\n",
      "[Parallel(n_jobs=7)]: Done 11750 out of 11750 | elapsed:    2.1s finished\n",
      "/Users/Nicolas/.local/share/virtualenvs/hw45-V0go0g1U/lib/python3.8/site-packages/sklearn/base.py:450: UserWarning: X does not have valid feature names, but RandomForestClassifier was fitted with feature names\n",
      "  warnings.warn(\n",
      "[Parallel(n_jobs=7)]: Using backend ThreadingBackend with 7 concurrent workers.\n",
      "[Parallel(n_jobs=7)]: Done  36 tasks      | elapsed:    0.0s\n"
     ]
    },
    {
     "name": "stdout",
     "output_type": "stream",
     "text": [
      "——————————————————————————————\n",
      "100 / 100\n"
     ]
    },
    {
     "name": "stderr",
     "output_type": "stream",
     "text": [
      "[Parallel(n_jobs=7)]: Done 186 tasks      | elapsed:    0.1s\n",
      "[Parallel(n_jobs=7)]: Done 436 tasks      | elapsed:    0.2s\n",
      "[Parallel(n_jobs=7)]: Done 786 tasks      | elapsed:    0.3s\n",
      "[Parallel(n_jobs=7)]: Done 1236 tasks      | elapsed:    0.4s\n",
      "[Parallel(n_jobs=7)]: Done 1786 tasks      | elapsed:    0.5s\n",
      "[Parallel(n_jobs=7)]: Done 2436 tasks      | elapsed:    0.6s\n",
      "[Parallel(n_jobs=7)]: Done 3186 tasks      | elapsed:    0.7s\n",
      "[Parallel(n_jobs=7)]: Done 4036 tasks      | elapsed:    0.8s\n",
      "[Parallel(n_jobs=7)]: Done 4986 tasks      | elapsed:    1.0s\n",
      "[Parallel(n_jobs=7)]: Done 6036 tasks      | elapsed:    1.1s\n",
      "[Parallel(n_jobs=7)]: Done 7186 tasks      | elapsed:    1.3s\n",
      "[Parallel(n_jobs=7)]: Done 8436 tasks      | elapsed:    1.5s\n",
      "[Parallel(n_jobs=7)]: Done 9786 tasks      | elapsed:    1.8s\n",
      "[Parallel(n_jobs=7)]: Done 11236 tasks      | elapsed:    2.0s\n",
      "[Parallel(n_jobs=7)]: Done 11750 out of 11750 | elapsed:    2.1s finished\n"
     ]
    }
   ],
   "source": [
    "# Run the explainer on N random production items\n",
    "counts = {}\n",
    "criteria = set()\n",
    "\n",
    "N = 100\n",
    "\n",
    "for index in range(N):\n",
    "    print(\"——————————————————————————————\")\n",
    "    print(index + 1, \"/\", N)\n",
    "\n",
    "    i = np.random.randint(0, x.shape[0])\n",
    "    row = x[i]\n",
    "\n",
    "    exp = explainer.explain_instance(row, rf.predict_proba)\n",
    "\n",
    "    exp_map = exp.as_map()\n",
    "\n",
    "    for (criterion, weight) in exp.as_list():\n",
    "      if weight > 0:\n",
    "        criteria.add(criterion)\n",
    "\n",
    "    result = exp_map[list(exp_map.keys())[0]]\n",
    "    for (feature_number, weight) in result:\n",
    "        feature = x_raw.columns[feature_number]\n",
    "        if not feature in counts: counts[feature] = 0\n",
    "        counts[feature] += abs(weight)\n"
   ]
  },
  {
   "cell_type": "markdown",
   "metadata": {},
   "source": [
    "## Influential features"
   ]
  },
  {
   "cell_type": "code",
   "execution_count": 10,
   "metadata": {},
   "outputs": [
    {
     "data": {
      "text/plain": [
       "{'Medu': 5.481959086353252,\n",
       " 'failures': 5.453884906187786,\n",
       " 'Mjob': 5.233616210701514,\n",
       " 'schoolsup': 2.8721988421246585,\n",
       " 'Dalc': 2.778989428503357,\n",
       " 'Fjob': 2.6356892995604184,\n",
       " 'Walc': 2.4585218379106077,\n",
       " 'absences': 2.1306026225044645,\n",
       " 'sex': 1.7736518761028295,\n",
       " 'age': 1.6118524023667569,\n",
       " 'goout': 0.532462522620434,\n",
       " 'studytime': 0.5145284614832921,\n",
       " 'freetime': 0.300679323224309,\n",
       " 'reason': 0.15741780428934876,\n",
       " 'romantic': 0.07167684809446624,\n",
       " 'famrel': 0.014283853099889636}"
      ]
     },
     "execution_count": 10,
     "metadata": {},
     "output_type": "execute_result"
    }
   ],
   "source": [
    "sorted_counts = dict(sorted(counts.items(), key=lambda item: -item[1]))\n",
    "sorted_counts"
   ]
  },
  {
   "cell_type": "markdown",
   "metadata": {},
   "source": [
    "## Ideal values"
   ]
  },
  {
   "cell_type": "code",
   "execution_count": 8,
   "metadata": {},
   "outputs": [
    {
     "data": {
      "text/plain": [
       "{'2.00 < Medu <= 3.00',\n",
       " '3.00 < Medu <= 4.00',\n",
       " '4.00 < famrel <= 5.00',\n",
       " 'Dalc <= 1.00',\n",
       " 'Fjob <= 2.00',\n",
       " 'Mjob <= 2.00',\n",
       " 'Walc <= 1.00',\n",
       " 'absences <= 2.00',\n",
       " 'age <= 16.00',\n",
       " 'failures <= 0.00',\n",
       " 'freetime > 4.00',\n",
       " 'goout <= 2.00',\n",
       " 'reason <= 0.00',\n",
       " 'romantic <= 0.00',\n",
       " 'schoolsup <= 0.00',\n",
       " 'sex <= 0.00',\n",
       " 'studytime > 2.00'}"
      ]
     },
     "execution_count": 8,
     "metadata": {},
     "output_type": "execute_result"
    }
   ],
   "source": [
    "criteria"
   ]
  }
 ],
 "metadata": {
  "kernelspec": {
   "display_name": "Python 3.8.15 ('hw45-V0go0g1U')",
   "language": "python",
   "name": "python3"
  },
  "language_info": {
   "codemirror_mode": {
    "name": "ipython",
    "version": 3
   },
   "file_extension": ".py",
   "mimetype": "text/x-python",
   "name": "python",
   "nbconvert_exporter": "python",
   "pygments_lexer": "ipython3",
   "version": "3.8.15"
  },
  "vscode": {
   "interpreter": {
    "hash": "80b6414b509a7fe04f96149e0d2008640f8deb727f64904dc676197d4f3c8a79"
   }
  }
 },
 "nbformat": 4,
 "nbformat_minor": 2
}
