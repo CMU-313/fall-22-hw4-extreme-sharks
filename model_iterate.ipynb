{
 "cells": [
  {
   "cell_type": "markdown",
   "metadata": {},
   "source": [
    "## Load data"
   ]
  },
  {
   "cell_type": "code",
   "execution_count": 1,
   "metadata": {
    "collapsed": false
   },
   "outputs": [],
   "source": [
    "# Load the original model\n",
    "import joblib\n",
    "model_original = joblib.load('app/handlers/model.pkl')"
   ]
  },
  {
   "cell_type": "code",
   "execution_count": 2,
   "metadata": {},
   "outputs": [],
   "source": [
    "# Load the production data\n",
    "import pandas as pd\n",
    "import numpy as np\n",
    "df = pd.read_csv('prod.csv', sep=',')\n",
    "df\n",
    "# We chose to remove all attributtes not relevant to the CMU setting.\n",
    "# `school` is specific to the source data set, and the grades are also\n",
    "# not relevant (we keep the last grade to know the expected prediction value)\n",
    "df.drop(columns=['school', 'G1', 'G2'], inplace=True)\n",
    "df\n",
    "\n",
    "df['sex'] = np.where(df['sex'] == 'F', 1, 0)\n",
    "df['address'] = np.where(df['address'] == 'U', 1, 0)\n",
    "df['famsize'] = np.where(df['famsize'] == 'LE3', 1, 0)\n",
    "df['Pstatus'] = np.where(df['Pstatus'] == 'T', 1, 0)\n",
    "\n",
    "for binary_attribute in ['schoolsup', 'famsup', 'paid', 'activities', 'nursery', 'higher', 'internet', 'romantic']:\n",
    "    df[binary_attribute] = np.where(df[binary_attribute] == 'yes', 1, 0)\n",
    "\n",
    "df\n",
    "\n",
    "categories = {\n",
    "    'Mjob': ['teacher', 'health', 'services', 'at_home', 'other'],\n",
    "    'Fjob': ['teacher', 'health', 'services', 'at_home', 'other'],\n",
    "    'reason': ['home', 'reputation', 'course', 'other'],\n",
    "    'guardian': ['mother', 'father', 'other'],\n",
    "}\n",
    "\n",
    "for category in categories:\n",
    "    values = categories[category]\n",
    "    df[category] = df[category].map(values.index)\n",
    "\n",
    "df\n",
    "\n",
    "df['qual_student'] = np.where(df['G3'] >= 15, 1, 0)\n",
    "df.drop(columns=['G3'], inplace=True)\n",
    "\n",
    "df\n",
    "\n",
    "\n",
    "dependent_variable = 'qual_student'\n",
    "x_raw = df[df.columns.difference([dependent_variable])]\n",
    "x = x_raw.to_numpy()\n",
    "y = df[dependent_variable].to_numpy()\n"
   ]
  },
  {
   "cell_type": "markdown",
   "metadata": {},
   "source": [
    "## Statistics for the original model"
   ]
  },
  {
   "cell_type": "code",
   "execution_count": 3,
   "metadata": {},
   "outputs": [
    {
     "name": "stderr",
     "output_type": "stream",
     "text": [
      "/Users/Nicolas/.local/share/virtualenvs/hw45-V0go0g1U/lib/python3.8/site-packages/sklearn/base.py:450: UserWarning: X does not have valid feature names, but RandomForestClassifier was fitted with feature names\n",
      "  warnings.warn(\n",
      "[Parallel(n_jobs=7)]: Using backend ThreadingBackend with 7 concurrent workers.\n",
      "[Parallel(n_jobs=7)]: Done  36 tasks      | elapsed:    0.0s\n",
      "[Parallel(n_jobs=7)]: Done 186 tasks      | elapsed:    0.1s\n",
      "[Parallel(n_jobs=7)]: Done 436 tasks      | elapsed:    0.1s\n",
      "[Parallel(n_jobs=7)]: Done 786 tasks      | elapsed:    0.2s\n",
      "[Parallel(n_jobs=7)]: Done 1236 tasks      | elapsed:    0.3s\n",
      "[Parallel(n_jobs=7)]: Done 1786 tasks      | elapsed:    0.4s\n",
      "[Parallel(n_jobs=7)]: Done 2436 tasks      | elapsed:    0.5s\n",
      "[Parallel(n_jobs=7)]: Done 3186 tasks      | elapsed:    0.7s\n",
      "[Parallel(n_jobs=7)]: Done 4036 tasks      | elapsed:    0.9s\n",
      "[Parallel(n_jobs=7)]: Done 4986 tasks      | elapsed:    1.1s\n",
      "[Parallel(n_jobs=7)]: Done 6036 tasks      | elapsed:    1.3s\n",
      "[Parallel(n_jobs=7)]: Done 7186 tasks      | elapsed:    1.5s\n",
      "[Parallel(n_jobs=7)]: Done 8436 tasks      | elapsed:    1.8s\n",
      "[Parallel(n_jobs=7)]: Done 9786 tasks      | elapsed:    2.1s\n",
      "[Parallel(n_jobs=7)]: Done 11236 tasks      | elapsed:    2.4s\n",
      "[Parallel(n_jobs=7)]: Done 11750 out of 11750 | elapsed:    2.5s finished\n"
     ]
    }
   ],
   "source": [
    "y_hat = model_original.predict(x)"
   ]
  },
  {
   "cell_type": "code",
   "execution_count": 7,
   "metadata": {},
   "outputs": [
    {
     "name": "stdout",
     "output_type": "stream",
     "text": [
      "Accuracy score 0.84705\n",
      "Precision score 0.9364161849710982\n",
      "Recall score 0.05046728971962617\n"
     ]
    }
   ],
   "source": [
    "import sklearn\n",
    "\n",
    "print(\"Accuracy score\", sklearn.metrics.accuracy_score(y, y_hat))\n",
    "print(\"Precision score\", sklearn.metrics.precision_score(y, y_hat))\n",
    "print(\"Recall score\", sklearn.metrics.recall_score(y, y_hat))"
   ]
  },
  {
   "cell_type": "markdown",
   "metadata": {},
   "source": [
    "## Train the second iteration of the model"
   ]
  },
  {
   "cell_type": "code",
   "execution_count": 8,
   "metadata": {},
   "outputs": [
    {
     "name": "stderr",
     "output_type": "stream",
     "text": [
      "/Users/Nicolas/.local/share/virtualenvs/hw45-V0go0g1U/lib/python3.8/site-packages/sklearn/ensemble/_forest.py:427: FutureWarning: `max_features='auto'` has been deprecated in 1.1 and will be removed in 1.3. To keep the past behaviour, explicitly set `max_features='sqrt'` or remove this parameter as it is also the default value for RandomForestClassifiers and ExtraTreesClassifiers.\n",
      "  warn(\n",
      "[Parallel(n_jobs=7)]: Using backend ThreadingBackend with 7 concurrent workers.\n",
      "[Parallel(n_jobs=7)]: Done  36 tasks      | elapsed:    0.1s\n",
      "[Parallel(n_jobs=7)]: Done 186 tasks      | elapsed:    0.2s\n",
      "[Parallel(n_jobs=7)]: Done 436 tasks      | elapsed:    0.5s\n",
      "[Parallel(n_jobs=7)]: Done 786 tasks      | elapsed:    0.9s\n",
      "[Parallel(n_jobs=7)]: Done 1236 tasks      | elapsed:    1.4s\n",
      "[Parallel(n_jobs=7)]: Done 1786 tasks      | elapsed:    2.1s\n",
      "[Parallel(n_jobs=7)]: Done 2436 tasks      | elapsed:    2.8s\n",
      "[Parallel(n_jobs=7)]: Done 3186 tasks      | elapsed:    3.6s\n",
      "[Parallel(n_jobs=7)]: Done 4036 tasks      | elapsed:    4.5s\n",
      "[Parallel(n_jobs=7)]: Done 4986 tasks      | elapsed:    5.6s\n",
      "[Parallel(n_jobs=7)]: Done 6036 tasks      | elapsed:    6.8s\n",
      "[Parallel(n_jobs=7)]: Done 7186 tasks      | elapsed:    8.1s\n",
      "[Parallel(n_jobs=7)]: Done 8436 tasks      | elapsed:    9.5s\n",
      "[Parallel(n_jobs=7)]: Done 9786 tasks      | elapsed:   11.3s\n",
      "[Parallel(n_jobs=7)]: Done 11236 tasks      | elapsed:   13.1s\n",
      "[Parallel(n_jobs=7)]: Done 11750 out of 11750 | elapsed:   14.1s finished\n"
     ]
    },
    {
     "data": {
      "text/html": [
       "<style>#sk-container-id-1 {color: black;background-color: white;}#sk-container-id-1 pre{padding: 0;}#sk-container-id-1 div.sk-toggleable {background-color: white;}#sk-container-id-1 label.sk-toggleable__label {cursor: pointer;display: block;width: 100%;margin-bottom: 0;padding: 0.3em;box-sizing: border-box;text-align: center;}#sk-container-id-1 label.sk-toggleable__label-arrow:before {content: \"▸\";float: left;margin-right: 0.25em;color: #696969;}#sk-container-id-1 label.sk-toggleable__label-arrow:hover:before {color: black;}#sk-container-id-1 div.sk-estimator:hover label.sk-toggleable__label-arrow:before {color: black;}#sk-container-id-1 div.sk-toggleable__content {max-height: 0;max-width: 0;overflow: hidden;text-align: left;background-color: #f0f8ff;}#sk-container-id-1 div.sk-toggleable__content pre {margin: 0.2em;color: black;border-radius: 0.25em;background-color: #f0f8ff;}#sk-container-id-1 input.sk-toggleable__control:checked~div.sk-toggleable__content {max-height: 200px;max-width: 100%;overflow: auto;}#sk-container-id-1 input.sk-toggleable__control:checked~label.sk-toggleable__label-arrow:before {content: \"▾\";}#sk-container-id-1 div.sk-estimator input.sk-toggleable__control:checked~label.sk-toggleable__label {background-color: #d4ebff;}#sk-container-id-1 div.sk-label input.sk-toggleable__control:checked~label.sk-toggleable__label {background-color: #d4ebff;}#sk-container-id-1 input.sk-hidden--visually {border: 0;clip: rect(1px 1px 1px 1px);clip: rect(1px, 1px, 1px, 1px);height: 1px;margin: -1px;overflow: hidden;padding: 0;position: absolute;width: 1px;}#sk-container-id-1 div.sk-estimator {font-family: monospace;background-color: #f0f8ff;border: 1px dotted black;border-radius: 0.25em;box-sizing: border-box;margin-bottom: 0.5em;}#sk-container-id-1 div.sk-estimator:hover {background-color: #d4ebff;}#sk-container-id-1 div.sk-parallel-item::after {content: \"\";width: 100%;border-bottom: 1px solid gray;flex-grow: 1;}#sk-container-id-1 div.sk-label:hover label.sk-toggleable__label {background-color: #d4ebff;}#sk-container-id-1 div.sk-serial::before {content: \"\";position: absolute;border-left: 1px solid gray;box-sizing: border-box;top: 0;bottom: 0;left: 50%;z-index: 0;}#sk-container-id-1 div.sk-serial {display: flex;flex-direction: column;align-items: center;background-color: white;padding-right: 0.2em;padding-left: 0.2em;position: relative;}#sk-container-id-1 div.sk-item {position: relative;z-index: 1;}#sk-container-id-1 div.sk-parallel {display: flex;align-items: stretch;justify-content: center;background-color: white;position: relative;}#sk-container-id-1 div.sk-item::before, #sk-container-id-1 div.sk-parallel-item::before {content: \"\";position: absolute;border-left: 1px solid gray;box-sizing: border-box;top: 0;bottom: 0;left: 50%;z-index: -1;}#sk-container-id-1 div.sk-parallel-item {display: flex;flex-direction: column;z-index: 1;position: relative;background-color: white;}#sk-container-id-1 div.sk-parallel-item:first-child::after {align-self: flex-end;width: 50%;}#sk-container-id-1 div.sk-parallel-item:last-child::after {align-self: flex-start;width: 50%;}#sk-container-id-1 div.sk-parallel-item:only-child::after {width: 0;}#sk-container-id-1 div.sk-dashed-wrapped {border: 1px dashed gray;margin: 0 0.4em 0.5em 0.4em;box-sizing: border-box;padding-bottom: 0.4em;background-color: white;}#sk-container-id-1 div.sk-label label {font-family: monospace;font-weight: bold;display: inline-block;line-height: 1.2em;}#sk-container-id-1 div.sk-label-container {text-align: center;}#sk-container-id-1 div.sk-container {/* jupyter's `normalize.less` sets `[hidden] { display: none; }` but bootstrap.min.css set `[hidden] { display: none !important; }` so we also need the `!important` here to be able to override the default hidden behavior on the sphinx rendered scikit-learn.org. See: https://github.com/scikit-learn/scikit-learn/issues/21755 */display: inline-block !important;position: relative;}#sk-container-id-1 div.sk-text-repr-fallback {display: none;}</style><div id=\"sk-container-id-1\" class=\"sk-top-container\"><div class=\"sk-text-repr-fallback\"><pre>RandomForestClassifier(max_depth=7, max_features=&#x27;auto&#x27;, min_samples_leaf=6,\n",
       "                       min_samples_split=6, n_estimators=11750, n_jobs=7,\n",
       "                       oob_score=True, random_state=42, verbose=1)</pre><b>In a Jupyter environment, please rerun this cell to show the HTML representation or trust the notebook. <br />On GitHub, the HTML representation is unable to render, please try loading this page with nbviewer.org.</b></div><div class=\"sk-container\" hidden><div class=\"sk-item\"><div class=\"sk-estimator sk-toggleable\"><input class=\"sk-toggleable__control sk-hidden--visually\" id=\"sk-estimator-id-1\" type=\"checkbox\" checked><label for=\"sk-estimator-id-1\" class=\"sk-toggleable__label sk-toggleable__label-arrow\">RandomForestClassifier</label><div class=\"sk-toggleable__content\"><pre>RandomForestClassifier(max_depth=7, max_features=&#x27;auto&#x27;, min_samples_leaf=6,\n",
       "                       min_samples_split=6, n_estimators=11750, n_jobs=7,\n",
       "                       oob_score=True, random_state=42, verbose=1)</pre></div></div></div></div></div>"
      ],
      "text/plain": [
       "RandomForestClassifier(max_depth=7, max_features='auto', min_samples_leaf=6,\n",
       "                       min_samples_split=6, n_estimators=11750, n_jobs=7,\n",
       "                       oob_score=True, random_state=42, verbose=1)"
      ]
     },
     "execution_count": 8,
     "metadata": {},
     "output_type": "execute_result"
    }
   ],
   "source": [
    "import sklearn\n",
    "import sklearn.model_selection\n",
    "from sklearn.ensemble import RandomForestClassifier\n",
    "\n",
    "dependent_variable = 'qual_student'\n",
    "x = df[df.columns.difference([dependent_variable])]\n",
    "y = df[dependent_variable]\n",
    "\n",
    "X_train, X_test, y_train, y_test = sklearn.model_selection.train_test_split(\n",
    "    x, y, random_state=1)\n",
    "\n",
    "n_jobs = 7\n",
    "model_new = RandomForestClassifier(criterion='gini', n_estimators=11750, max_depth=7, min_samples_split=6,\n",
    "                               min_samples_leaf=6, max_features='auto', oob_score=True, random_state=42, n_jobs=7, verbose=1)\n",
    "model_new.fit(X_train, y_train)\n"
   ]
  },
  {
   "cell_type": "markdown",
   "metadata": {},
   "source": [
    "## Statistics for the second iteration of the model"
   ]
  },
  {
   "cell_type": "code",
   "execution_count": 9,
   "metadata": {},
   "outputs": [
    {
     "name": "stderr",
     "output_type": "stream",
     "text": [
      "[Parallel(n_jobs=7)]: Using backend ThreadingBackend with 7 concurrent workers.\n",
      "[Parallel(n_jobs=7)]: Done  36 tasks      | elapsed:    0.0s\n",
      "[Parallel(n_jobs=7)]: Done 186 tasks      | elapsed:    0.0s\n",
      "[Parallel(n_jobs=7)]: Done 436 tasks      | elapsed:    0.1s\n",
      "[Parallel(n_jobs=7)]: Done 786 tasks      | elapsed:    0.1s\n",
      "[Parallel(n_jobs=7)]: Done 1236 tasks      | elapsed:    0.2s\n",
      "[Parallel(n_jobs=7)]: Done 1786 tasks      | elapsed:    0.3s\n",
      "[Parallel(n_jobs=7)]: Done 2436 tasks      | elapsed:    0.4s\n",
      "[Parallel(n_jobs=7)]: Done 3186 tasks      | elapsed:    0.5s\n",
      "[Parallel(n_jobs=7)]: Done 4036 tasks      | elapsed:    0.6s\n",
      "[Parallel(n_jobs=7)]: Done 4986 tasks      | elapsed:    0.8s\n",
      "[Parallel(n_jobs=7)]: Done 6036 tasks      | elapsed:    0.9s\n",
      "[Parallel(n_jobs=7)]: Done 7186 tasks      | elapsed:    1.1s\n",
      "[Parallel(n_jobs=7)]: Done 8436 tasks      | elapsed:    1.3s\n",
      "[Parallel(n_jobs=7)]: Done 9786 tasks      | elapsed:    1.5s\n",
      "[Parallel(n_jobs=7)]: Done 11236 tasks      | elapsed:    1.8s\n",
      "[Parallel(n_jobs=7)]: Done 11750 out of 11750 | elapsed:    1.8s finished\n"
     ]
    }
   ],
   "source": [
    "y_hat = model_original.predict(X_test)"
   ]
  },
  {
   "cell_type": "code",
   "execution_count": 13,
   "metadata": {},
   "outputs": [
    {
     "name": "stdout",
     "output_type": "stream",
     "text": [
      "Accuracy score 0.8456\n",
      "Precision score 0.9534883720930233\n",
      "Recall score 0.05055487053020962\n"
     ]
    }
   ],
   "source": [
    "print(\"Accuracy score\", sklearn.metrics.accuracy_score(y_test, y_hat))\n",
    "print(\"Precision score\", sklearn.metrics.precision_score(y_test, y_hat))\n",
    "print(\"Recall score\", sklearn.metrics.recall_score(y_test, y_hat))\n"
   ]
  }
 ],
 "metadata": {
  "kernelspec": {
   "display_name": "Python 3.8.15 ('hw45-V0go0g1U')",
   "language": "python",
   "name": "python3"
  },
  "language_info": {
   "codemirror_mode": {
    "name": "ipython",
    "version": 3
   },
   "file_extension": ".py",
   "mimetype": "text/x-python",
   "name": "python",
   "nbconvert_exporter": "python",
   "pygments_lexer": "ipython3",
   "version": "3.8.15"
  },
  "vscode": {
   "interpreter": {
    "hash": "80b6414b509a7fe04f96149e0d2008640f8deb727f64904dc676197d4f3c8a79"
   }
  }
 },
 "nbformat": 4,
 "nbformat_minor": 2
}
